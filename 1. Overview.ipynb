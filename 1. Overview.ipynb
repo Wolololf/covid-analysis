{
 "cells": [
  {
   "cell_type": "markdown",
   "metadata": {},
   "source": [
    "# US Coronavirus analysis by county\n",
    "### Data Engineering Capstone Project\n",
    "\n",
    "#### Project Summary\n",
    "\n",
    "\n",
    "The project follows the follow steps:\n",
    "* Step 1: Scope the Project and Gather Data\n",
    "* Step 2: Explore and Assess the Data\n",
    "* Step 3: Define the Data Model\n",
    "* Step 4: Run ETL to Model the Data\n",
    "* Step 5: Complete Project Write Up"
   ]
  },
  {
   "cell_type": "markdown",
   "metadata": {},
   "source": [
    "### Step 1: Scope the Project and Gather Data\n",
    "\n",
    "#### Scope \n",
    "In this project, I intend to look at Coronavirus case data in the US in 2020 across all its counties, and try to draw conclusions about how strongly various factors impacted the case rate by county.  \n",
    "Example factors I will look at are population density and climate, as well as socioeconomic (e.g. poverty, medical insurance cover rate, unemployment rate) and health factors (e.g. percentage of smokers, excessive drinkers, obesity, diabetics, people over 65, etc).  \n",
    "\n",
    "Additionally, I will look at changing factors such as weather and residents' mobility (i.e. how much they moved about on a given day) and attempt to correlate that with case data at a 10-day offset (based on the expected incubation period).\n",
    "\n",
    "Out of curiosity, I would also like to include voting data from 2016 and 2020, both to see if counties of a particular political affiliation are adversely affected, and how the severity of Covid in a given area shifted the election result.\n",
    "\n",
    "I'm limiting the scope to the US because it's the easiest available data and at the best level of granularity, and the US is surprisingly diverse. I'm limiting my exploration to 2020 because data for 2021 isn't widely available yet from my various data sources.\n",
    "\n",
    "#### Describe and Gather Data \n",
    "All my raw data sources are included in the project under the \"data\" folder.\n",
    "\n",
    "My data sources are as follows:\n",
    " * Kaggle's Covid-19 data: https://www.kaggle.com/sudalairajkumar/novel-corona-virus-2019-dataset?select=time_series_covid_19_confirmed_US.csv  \n",
    "     This data set has confirmed Covid-19 cases in the US by county.\n",
    " * US County Health Data: https://www.countyhealthrankings.org/explore-health-rankings/rankings-data-documentation  \n",
    "     This is 2020 CHR CSV Analytic Data, it's stored as \"health_data.csv\". It includes detailed information about counties' population.\n",
    " * Imantsm's weather data: https://github.com/imantsm/COVID-19/tree/master/csv\n",
    "     This is weather data from DarkSky which uses data from NOAA weather stations in the US, and contains information about temperature, wind speed, cloud cover, humidity and precipitation probability for most days in 2020.\n",
    " * https://eric.clst.org/assets/wiki/uploads/Stuff/gz_2010_us_050_00_20m.json\n",
    "     US counties data including area and FIPS. I need this to determine population density.\n",
    " * Mobility data: https://github.com/ActiveConclusion/COVID19_mobility\n",
    "     Combined data from Google and Apple on route planning by travel type and target location type, grouped by date and county."
   ]
  }
 ],
 "metadata": {
  "kernelspec": {
   "display_name": "branch-env",
   "language": "python",
   "name": "branch-env"
  },
  "language_info": {
   "codemirror_mode": {
    "name": "ipython",
    "version": 3
   },
   "file_extension": ".py",
   "mimetype": "text/x-python",
   "name": "python",
   "nbconvert_exporter": "python",
   "pygments_lexer": "ipython3",
   "version": "3.8.5"
  }
 },
 "nbformat": 4,
 "nbformat_minor": 4
}
