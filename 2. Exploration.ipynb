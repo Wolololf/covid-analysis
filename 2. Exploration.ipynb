{
 "cells": [
  {
   "cell_type": "markdown",
   "metadata": {},
   "source": [
    "### Step 2: Explore and Assess the Data\n",
    "#### Explore the Data\n",
    "Identify data quality issues, like missing values, duplicate data, etc.  \n",
    "Identify which columns to keep for each data source  \n",
    "Identify which columns are present in multiple sources but have different names"
   ]
  },
  {
   "cell_type": "code",
   "execution_count": 1,
   "metadata": {},
   "outputs": [],
   "source": [
    "import pandas as pd"
   ]
  },
  {
   "cell_type": "markdown",
   "metadata": {},
   "source": [
    "#### Covid cases and deaths"
   ]
  },
  {
   "cell_type": "code",
   "execution_count": 18,
   "metadata": {},
   "outputs": [
    {
     "data": {
      "text/html": [
       "<div>\n",
       "<style scoped>\n",
       "    .dataframe tbody tr th:only-of-type {\n",
       "        vertical-align: middle;\n",
       "    }\n",
       "\n",
       "    .dataframe tbody tr th {\n",
       "        vertical-align: top;\n",
       "    }\n",
       "\n",
       "    .dataframe thead th {\n",
       "        text-align: right;\n",
       "    }\n",
       "</style>\n",
       "<table border=\"1\" class=\"dataframe\">\n",
       "  <thead>\n",
       "    <tr style=\"text-align: right;\">\n",
       "      <th></th>\n",
       "      <th>UID</th>\n",
       "      <th>iso2</th>\n",
       "      <th>iso3</th>\n",
       "      <th>code3</th>\n",
       "      <th>FIPS</th>\n",
       "      <th>Admin2</th>\n",
       "      <th>Province_State</th>\n",
       "      <th>Country_Region</th>\n",
       "      <th>Lat</th>\n",
       "      <th>Long_</th>\n",
       "      <th>...</th>\n",
       "      <th>2/18/21</th>\n",
       "      <th>2/19/21</th>\n",
       "      <th>2/20/21</th>\n",
       "      <th>2/21/21</th>\n",
       "      <th>2/22/21</th>\n",
       "      <th>2/23/21</th>\n",
       "      <th>2/24/21</th>\n",
       "      <th>2/25/21</th>\n",
       "      <th>2/26/21</th>\n",
       "      <th>2/27/21</th>\n",
       "    </tr>\n",
       "  </thead>\n",
       "  <tbody>\n",
       "    <tr>\n",
       "      <th>0</th>\n",
       "      <td>84001001</td>\n",
       "      <td>US</td>\n",
       "      <td>USA</td>\n",
       "      <td>840</td>\n",
       "      <td>1001.0</td>\n",
       "      <td>Autauga</td>\n",
       "      <td>Alabama</td>\n",
       "      <td>US</td>\n",
       "      <td>32.539527</td>\n",
       "      <td>-86.644082</td>\n",
       "      <td>...</td>\n",
       "      <td>6071</td>\n",
       "      <td>6079</td>\n",
       "      <td>6092</td>\n",
       "      <td>6117</td>\n",
       "      <td>6121</td>\n",
       "      <td>6143</td>\n",
       "      <td>6172</td>\n",
       "      <td>6203</td>\n",
       "      <td>6228</td>\n",
       "      <td>6248</td>\n",
       "    </tr>\n",
       "    <tr>\n",
       "      <th>1</th>\n",
       "      <td>84001003</td>\n",
       "      <td>US</td>\n",
       "      <td>USA</td>\n",
       "      <td>840</td>\n",
       "      <td>1003.0</td>\n",
       "      <td>Baldwin</td>\n",
       "      <td>Alabama</td>\n",
       "      <td>US</td>\n",
       "      <td>30.727750</td>\n",
       "      <td>-87.722071</td>\n",
       "      <td>...</td>\n",
       "      <td>19324</td>\n",
       "      <td>19361</td>\n",
       "      <td>19392</td>\n",
       "      <td>19433</td>\n",
       "      <td>19461</td>\n",
       "      <td>19554</td>\n",
       "      <td>19635</td>\n",
       "      <td>19670</td>\n",
       "      <td>19698</td>\n",
       "      <td>19714</td>\n",
       "    </tr>\n",
       "    <tr>\n",
       "      <th>2</th>\n",
       "      <td>84001005</td>\n",
       "      <td>US</td>\n",
       "      <td>USA</td>\n",
       "      <td>840</td>\n",
       "      <td>1005.0</td>\n",
       "      <td>Barbour</td>\n",
       "      <td>Alabama</td>\n",
       "      <td>US</td>\n",
       "      <td>31.868263</td>\n",
       "      <td>-85.387129</td>\n",
       "      <td>...</td>\n",
       "      <td>2057</td>\n",
       "      <td>2061</td>\n",
       "      <td>2067</td>\n",
       "      <td>2070</td>\n",
       "      <td>2074</td>\n",
       "      <td>2084</td>\n",
       "      <td>2095</td>\n",
       "      <td>2099</td>\n",
       "      <td>2106</td>\n",
       "      <td>2113</td>\n",
       "    </tr>\n",
       "    <tr>\n",
       "      <th>3</th>\n",
       "      <td>84001007</td>\n",
       "      <td>US</td>\n",
       "      <td>USA</td>\n",
       "      <td>840</td>\n",
       "      <td>1007.0</td>\n",
       "      <td>Bibb</td>\n",
       "      <td>Alabama</td>\n",
       "      <td>US</td>\n",
       "      <td>32.996421</td>\n",
       "      <td>-87.125115</td>\n",
       "      <td>...</td>\n",
       "      <td>2405</td>\n",
       "      <td>2411</td>\n",
       "      <td>2414</td>\n",
       "      <td>2416</td>\n",
       "      <td>2417</td>\n",
       "      <td>2432</td>\n",
       "      <td>2437</td>\n",
       "      <td>2442</td>\n",
       "      <td>2445</td>\n",
       "      <td>2449</td>\n",
       "    </tr>\n",
       "    <tr>\n",
       "      <th>4</th>\n",
       "      <td>84001009</td>\n",
       "      <td>US</td>\n",
       "      <td>USA</td>\n",
       "      <td>840</td>\n",
       "      <td>1009.0</td>\n",
       "      <td>Blount</td>\n",
       "      <td>Alabama</td>\n",
       "      <td>US</td>\n",
       "      <td>33.982109</td>\n",
       "      <td>-86.567906</td>\n",
       "      <td>...</td>\n",
       "      <td>6008</td>\n",
       "      <td>6021</td>\n",
       "      <td>6040</td>\n",
       "      <td>6042</td>\n",
       "      <td>6043</td>\n",
       "      <td>6058</td>\n",
       "      <td>6072</td>\n",
       "      <td>6086</td>\n",
       "      <td>6084</td>\n",
       "      <td>6095</td>\n",
       "    </tr>\n",
       "  </tbody>\n",
       "</table>\n",
       "<p>5 rows × 414 columns</p>\n",
       "</div>"
      ],
      "text/plain": [
       "        UID iso2 iso3  code3    FIPS   Admin2 Province_State Country_Region  \\\n",
       "0  84001001   US  USA    840  1001.0  Autauga        Alabama             US   \n",
       "1  84001003   US  USA    840  1003.0  Baldwin        Alabama             US   \n",
       "2  84001005   US  USA    840  1005.0  Barbour        Alabama             US   \n",
       "3  84001007   US  USA    840  1007.0     Bibb        Alabama             US   \n",
       "4  84001009   US  USA    840  1009.0   Blount        Alabama             US   \n",
       "\n",
       "         Lat      Long_  ... 2/18/21  2/19/21  2/20/21  2/21/21  2/22/21  \\\n",
       "0  32.539527 -86.644082  ...    6071     6079     6092     6117     6121   \n",
       "1  30.727750 -87.722071  ...   19324    19361    19392    19433    19461   \n",
       "2  31.868263 -85.387129  ...    2057     2061     2067     2070     2074   \n",
       "3  32.996421 -87.125115  ...    2405     2411     2414     2416     2417   \n",
       "4  33.982109 -86.567906  ...    6008     6021     6040     6042     6043   \n",
       "\n",
       "   2/23/21  2/24/21  2/25/21  2/26/21  2/27/21  \n",
       "0     6143     6172     6203     6228     6248  \n",
       "1    19554    19635    19670    19698    19714  \n",
       "2     2084     2095     2099     2106     2113  \n",
       "3     2432     2437     2442     2445     2449  \n",
       "4     6058     6072     6086     6084     6095  \n",
       "\n",
       "[5 rows x 414 columns]"
      ]
     },
     "execution_count": 18,
     "metadata": {},
     "output_type": "execute_result"
    }
   ],
   "source": [
    "covid_df = pd.read_csv(\"data/covid_cases_US.csv\")\n",
    "covid_df.head()"
   ]
  },
  {
   "cell_type": "markdown",
   "metadata": {},
   "source": [
    "At first glance, it looks alright. Each day's new cases are a column which means we'll have to extract and transpose that data. It's great that the latitude and longitude are included, though. This'll make it much easier to match up counties to weather stations later on. Although the \"Long_\" column name is a bit weird.  \n",
    "I also think we can ditch most of the first few columns, we don't need the country codes and region."
   ]
  },
  {
   "cell_type": "code",
   "execution_count": 19,
   "metadata": {},
   "outputs": [
    {
     "data": {
      "text/plain": [
       "UID          16\n",
       "iso2         AS\n",
       "iso3        ASM\n",
       "code3        16\n",
       "FIPS       60.0\n",
       "           ... \n",
       "2/23/21       0\n",
       "2/24/21       0\n",
       "2/25/21       0\n",
       "2/26/21       0\n",
       "2/27/21       0\n",
       "Length: 413, dtype: object"
      ]
     },
     "execution_count": 19,
     "metadata": {},
     "output_type": "execute_result"
    }
   ],
   "source": [
    "covid_df.min()"
   ]
  },
  {
   "cell_type": "code",
   "execution_count": 20,
   "metadata": {},
   "outputs": [
    {
     "data": {
      "text/plain": [
       "UID        84099999\n",
       "iso2             VI\n",
       "iso3            VIR\n",
       "code3           850\n",
       "FIPS        99999.0\n",
       "             ...   \n",
       "2/23/21     1183496\n",
       "2/24/21     1185559\n",
       "2/25/21     1187542\n",
       "2/26/21     1189232\n",
       "2/27/21     1190894\n",
       "Length: 413, dtype: object"
      ]
     },
     "execution_count": 20,
     "metadata": {},
     "output_type": "execute_result"
    }
   ],
   "source": [
    "covid_df.max()"
   ]
  },
  {
   "cell_type": "markdown",
   "metadata": {},
   "source": [
    "So far, this looks quite good. No strange states, no negative FIPS (kinda like a zip-code, but for counties), no negative case numbers."
   ]
  },
  {
   "cell_type": "code",
   "execution_count": 27,
   "metadata": {},
   "outputs": [
    {
     "data": {
      "text/plain": [
       "FIPS              3330\n",
       "Admin2            1978\n",
       "Province_State      58\n",
       "Lat               3226\n",
       "Long_             3226\n",
       "dtype: int64"
      ]
     },
     "execution_count": 27,
     "metadata": {},
     "output_type": "execute_result"
    }
   ],
   "source": [
    "covid_df[[\"FIPS\", \"Admin2\", \"Province_State\", \"Lat\", \"Long_\"]].nunique()"
   ]
  },
  {
   "cell_type": "markdown",
   "metadata": {},
   "source": [
    "There are supposed to be up to 3243 FIPS codes in the US, depending on whether or not you count overseas territories. We count 3300, that looks close enough.  \n",
    "But here's where it gets a bit weird. 1978 named counties (here called \"Admin2\" for some reason), but 3300 FIPS? Each code is meant to map to a county. How do we have more codes than counties?  \n",
    "It's also a bit weird that it lists 58 states, I thought there were 51? Maybe these are overseas territories?  \n",
    "It is good to see that while latitude and longitude don't match the FIPS, they are at least matching each other."
   ]
  },
  {
   "cell_type": "code",
   "execution_count": 28,
   "metadata": {},
   "outputs": [
    {
     "data": {
      "text/plain": [
       "FIPS              10\n",
       "Admin2             6\n",
       "Province_State     0\n",
       "Lat                0\n",
       "Long_              0\n",
       "dtype: int64"
      ]
     },
     "execution_count": 28,
     "metadata": {},
     "output_type": "execute_result"
    }
   ],
   "source": [
    "covid_df[[\"FIPS\", \"Admin2\", \"Province_State\", \"Lat\", \"Long_\"]].isna().sum()"
   ]
  },
  {
   "cell_type": "markdown",
   "metadata": {},
   "source": [
    "I figured maybe we have some counties that we report by FIPS, not by name, but that doesn't appear to be the case. We've got a few NaNs for both, but not significant amounts.  \n",
    "The rest of the data seems intact, though."
   ]
  },
  {
   "cell_type": "code",
   "execution_count": 55,
   "metadata": {},
   "outputs": [
    {
     "data": {
      "text/html": [
       "<div>\n",
       "<style scoped>\n",
       "    .dataframe tbody tr th:only-of-type {\n",
       "        vertical-align: middle;\n",
       "    }\n",
       "\n",
       "    .dataframe tbody tr th {\n",
       "        vertical-align: top;\n",
       "    }\n",
       "\n",
       "    .dataframe thead th {\n",
       "        text-align: right;\n",
       "    }\n",
       "</style>\n",
       "<table border=\"1\" class=\"dataframe\">\n",
       "  <thead>\n",
       "    <tr style=\"text-align: right;\">\n",
       "      <th></th>\n",
       "      <th>FIPS</th>\n",
       "      <th>Admin2</th>\n",
       "      <th>Province_State</th>\n",
       "    </tr>\n",
       "  </thead>\n",
       "  <tbody>\n",
       "    <tr>\n",
       "      <th>823</th>\n",
       "      <td>19001.0</td>\n",
       "      <td>Adair</td>\n",
       "      <td>Iowa</td>\n",
       "    </tr>\n",
       "    <tr>\n",
       "      <th>1031</th>\n",
       "      <td>21001.0</td>\n",
       "      <td>Adair</td>\n",
       "      <td>Kentucky</td>\n",
       "    </tr>\n",
       "    <tr>\n",
       "      <th>1540</th>\n",
       "      <td>29001.0</td>\n",
       "      <td>Adair</td>\n",
       "      <td>Missouri</td>\n",
       "    </tr>\n",
       "    <tr>\n",
       "      <th>2212</th>\n",
       "      <td>40001.0</td>\n",
       "      <td>Adair</td>\n",
       "      <td>Oklahoma</td>\n",
       "    </tr>\n",
       "    <tr>\n",
       "      <th>255</th>\n",
       "      <td>8001.0</td>\n",
       "      <td>Adams</td>\n",
       "      <td>Colorado</td>\n",
       "    </tr>\n",
       "    <tr>\n",
       "      <th>580</th>\n",
       "      <td>16003.0</td>\n",
       "      <td>Adams</td>\n",
       "      <td>Idaho</td>\n",
       "    </tr>\n",
       "    <tr>\n",
       "      <th>625</th>\n",
       "      <td>17001.0</td>\n",
       "      <td>Adams</td>\n",
       "      <td>Illinois</td>\n",
       "    </tr>\n",
       "    <tr>\n",
       "      <th>729</th>\n",
       "      <td>18001.0</td>\n",
       "      <td>Adams</td>\n",
       "      <td>Indiana</td>\n",
       "    </tr>\n",
       "    <tr>\n",
       "      <th>824</th>\n",
       "      <td>19003.0</td>\n",
       "      <td>Adams</td>\n",
       "      <td>Iowa</td>\n",
       "    </tr>\n",
       "    <tr>\n",
       "      <th>1456</th>\n",
       "      <td>28001.0</td>\n",
       "      <td>Adams</td>\n",
       "      <td>Mississippi</td>\n",
       "    </tr>\n",
       "    <tr>\n",
       "      <th>1716</th>\n",
       "      <td>31001.0</td>\n",
       "      <td>Adams</td>\n",
       "      <td>Nebraska</td>\n",
       "    </tr>\n",
       "    <tr>\n",
       "      <th>2066</th>\n",
       "      <td>38001.0</td>\n",
       "      <td>Adams</td>\n",
       "      <td>North Dakota</td>\n",
       "    </tr>\n",
       "    <tr>\n",
       "      <th>2122</th>\n",
       "      <td>39001.0</td>\n",
       "      <td>Adams</td>\n",
       "      <td>Ohio</td>\n",
       "    </tr>\n",
       "    <tr>\n",
       "      <th>2329</th>\n",
       "      <td>42001.0</td>\n",
       "      <td>Adams</td>\n",
       "      <td>Pennsylvania</td>\n",
       "    </tr>\n",
       "    <tr>\n",
       "      <th>3143</th>\n",
       "      <td>53001.0</td>\n",
       "      <td>Adams</td>\n",
       "      <td>Washington</td>\n",
       "    </tr>\n",
       "    <tr>\n",
       "      <th>3241</th>\n",
       "      <td>55001.0</td>\n",
       "      <td>Adams</td>\n",
       "      <td>Wisconsin</td>\n",
       "    </tr>\n",
       "    <tr>\n",
       "      <th>1900</th>\n",
       "      <td>36001.0</td>\n",
       "      <td>Albany</td>\n",
       "      <td>New York</td>\n",
       "    </tr>\n",
       "    <tr>\n",
       "      <th>3315</th>\n",
       "      <td>56001.0</td>\n",
       "      <td>Albany</td>\n",
       "      <td>Wyoming</td>\n",
       "    </tr>\n",
       "    <tr>\n",
       "      <th>626</th>\n",
       "      <td>17003.0</td>\n",
       "      <td>Alexander</td>\n",
       "      <td>Illinois</td>\n",
       "    </tr>\n",
       "    <tr>\n",
       "      <th>1965</th>\n",
       "      <td>37003.0</td>\n",
       "      <td>Alexander</td>\n",
       "      <td>North Carolina</td>\n",
       "    </tr>\n",
       "  </tbody>\n",
       "</table>\n",
       "</div>"
      ],
      "text/plain": [
       "         FIPS     Admin2  Province_State\n",
       "823   19001.0      Adair            Iowa\n",
       "1031  21001.0      Adair        Kentucky\n",
       "1540  29001.0      Adair        Missouri\n",
       "2212  40001.0      Adair        Oklahoma\n",
       "255    8001.0      Adams        Colorado\n",
       "580   16003.0      Adams           Idaho\n",
       "625   17001.0      Adams        Illinois\n",
       "729   18001.0      Adams         Indiana\n",
       "824   19003.0      Adams            Iowa\n",
       "1456  28001.0      Adams     Mississippi\n",
       "1716  31001.0      Adams        Nebraska\n",
       "2066  38001.0      Adams    North Dakota\n",
       "2122  39001.0      Adams            Ohio\n",
       "2329  42001.0      Adams    Pennsylvania\n",
       "3143  53001.0      Adams      Washington\n",
       "3241  55001.0      Adams       Wisconsin\n",
       "1900  36001.0     Albany        New York\n",
       "3315  56001.0     Albany         Wyoming\n",
       "626   17003.0  Alexander        Illinois\n",
       "1965  37003.0  Alexander  North Carolina"
      ]
     },
     "execution_count": 55,
     "metadata": {},
     "output_type": "execute_result"
    }
   ],
   "source": [
    "pd.concat(g for _, g in covid_df.groupby(\"Admin2\") if len(g) > 1)[[\"FIPS\", \"Admin2\", \"Province_State\"]].head(20)"
   ]
  },
  {
   "cell_type": "markdown",
   "metadata": {},
   "source": [
    "Mystery solved! Sounds like a bunch of states have counties of the same name."
   ]
  },
  {
   "cell_type": "code",
   "execution_count": 47,
   "metadata": {},
   "outputs": [
    {
     "data": {
      "text/html": [
       "<div>\n",
       "<style scoped>\n",
       "    .dataframe tbody tr th:only-of-type {\n",
       "        vertical-align: middle;\n",
       "    }\n",
       "\n",
       "    .dataframe tbody tr th {\n",
       "        vertical-align: top;\n",
       "    }\n",
       "\n",
       "    .dataframe thead th {\n",
       "        text-align: right;\n",
       "    }\n",
       "</style>\n",
       "<table border=\"1\" class=\"dataframe\">\n",
       "  <thead>\n",
       "    <tr style=\"text-align: right;\">\n",
       "      <th></th>\n",
       "      <th>Admin2</th>\n",
       "      <th>Province_State</th>\n",
       "    </tr>\n",
       "  </thead>\n",
       "  <tbody>\n",
       "    <tr>\n",
       "      <th>1267</th>\n",
       "      <td>Dukes and Nantucket</td>\n",
       "      <td>Massachusetts</td>\n",
       "    </tr>\n",
       "    <tr>\n",
       "      <th>1304</th>\n",
       "      <td>Federal Correctional Institution (FCI)</td>\n",
       "      <td>Michigan</td>\n",
       "    </tr>\n",
       "    <tr>\n",
       "      <th>1336</th>\n",
       "      <td>Michigan Department of Corrections (MDOC)</td>\n",
       "      <td>Michigan</td>\n",
       "    </tr>\n",
       "    <tr>\n",
       "      <th>1591</th>\n",
       "      <td>Kansas City</td>\n",
       "      <td>Missouri</td>\n",
       "    </tr>\n",
       "    <tr>\n",
       "      <th>2954</th>\n",
       "      <td>Bear River</td>\n",
       "      <td>Utah</td>\n",
       "    </tr>\n",
       "    <tr>\n",
       "      <th>2959</th>\n",
       "      <td>Central Utah</td>\n",
       "      <td>Utah</td>\n",
       "    </tr>\n",
       "    <tr>\n",
       "      <th>2978</th>\n",
       "      <td>Southeast Utah</td>\n",
       "      <td>Utah</td>\n",
       "    </tr>\n",
       "    <tr>\n",
       "      <th>2979</th>\n",
       "      <td>Southwest Utah</td>\n",
       "      <td>Utah</td>\n",
       "    </tr>\n",
       "    <tr>\n",
       "      <th>2982</th>\n",
       "      <td>TriCounty</td>\n",
       "      <td>Utah</td>\n",
       "    </tr>\n",
       "    <tr>\n",
       "      <th>2990</th>\n",
       "      <td>Weber-Morgan</td>\n",
       "      <td>Utah</td>\n",
       "    </tr>\n",
       "  </tbody>\n",
       "</table>\n",
       "</div>"
      ],
      "text/plain": [
       "                                         Admin2 Province_State\n",
       "1267                        Dukes and Nantucket  Massachusetts\n",
       "1304     Federal Correctional Institution (FCI)       Michigan\n",
       "1336  Michigan Department of Corrections (MDOC)       Michigan\n",
       "1591                                Kansas City       Missouri\n",
       "2954                                 Bear River           Utah\n",
       "2959                               Central Utah           Utah\n",
       "2978                             Southeast Utah           Utah\n",
       "2979                             Southwest Utah           Utah\n",
       "2982                                  TriCounty           Utah\n",
       "2990                               Weber-Morgan           Utah"
      ]
     },
     "execution_count": 47,
     "metadata": {},
     "output_type": "execute_result"
    }
   ],
   "source": [
    "covid_df[covid_df[\"FIPS\"].isna()][[\"Admin2\", \"Province_State\"]].head(20)"
   ]
  },
  {
   "cell_type": "markdown",
   "metadata": {},
   "source": [
    "So the places without FIPS are... prisons? And... Kansas City as well as a few places in Utah?"
   ]
  },
  {
   "cell_type": "code",
   "execution_count": 42,
   "metadata": {},
   "outputs": [
    {
     "data": {
      "text/html": [
       "<div>\n",
       "<style scoped>\n",
       "    .dataframe tbody tr th:only-of-type {\n",
       "        vertical-align: middle;\n",
       "    }\n",
       "\n",
       "    .dataframe tbody tr th {\n",
       "        vertical-align: top;\n",
       "    }\n",
       "\n",
       "    .dataframe thead th {\n",
       "        text-align: right;\n",
       "    }\n",
       "</style>\n",
       "<table border=\"1\" class=\"dataframe\">\n",
       "  <thead>\n",
       "    <tr style=\"text-align: right;\">\n",
       "      <th></th>\n",
       "      <th>FIPS</th>\n",
       "      <th>Province_State</th>\n",
       "    </tr>\n",
       "  </thead>\n",
       "  <tbody>\n",
       "    <tr>\n",
       "      <th>100</th>\n",
       "      <td>60.0</td>\n",
       "      <td>American Samoa</td>\n",
       "    </tr>\n",
       "    <tr>\n",
       "      <th>336</th>\n",
       "      <td>88888.0</td>\n",
       "      <td>Diamond Princess</td>\n",
       "    </tr>\n",
       "    <tr>\n",
       "      <th>570</th>\n",
       "      <td>99999.0</td>\n",
       "      <td>Grand Princess</td>\n",
       "    </tr>\n",
       "    <tr>\n",
       "      <th>571</th>\n",
       "      <td>66.0</td>\n",
       "      <td>Guam</td>\n",
       "    </tr>\n",
       "    <tr>\n",
       "      <th>2121</th>\n",
       "      <td>69.0</td>\n",
       "      <td>Northern Mariana Islands</td>\n",
       "    </tr>\n",
       "  </tbody>\n",
       "</table>\n",
       "</div>"
      ],
      "text/plain": [
       "         FIPS            Province_State\n",
       "100      60.0            American Samoa\n",
       "336   88888.0          Diamond Princess\n",
       "570   99999.0            Grand Princess\n",
       "571      66.0                      Guam\n",
       "2121     69.0  Northern Mariana Islands"
      ]
     },
     "execution_count": 42,
     "metadata": {},
     "output_type": "execute_result"
    }
   ],
   "source": [
    "covid_df[covid_df[\"Admin2\"].isna()][[\"FIPS\", \"Province_State\"]].head()"
   ]
  },
  {
   "cell_type": "markdown",
   "metadata": {},
   "source": [
    "Places without a county appear to be in overseas territories, and two cruise ships. It seems like overseas territories have FIPS below 100, counties on the continent start at 101. The two cruise ships seem to have been assigned made-up numbers in the high five-digit realm."
   ]
  },
  {
   "cell_type": "markdown",
   "metadata": {},
   "source": [
    "##### Conclusion\n",
    "We might be able to fill in the missing FIPS codes for Utah as well as the two outliers from other sources. I'm not sure sure about the prisons.  \n",
    "The places without county names could just take the province name as a county name, for clarity's sake. Or we could just exclude them, I don't know if we need those in the data set since we're not likely to find relevant data for them in our other sources.\n",
    "\n",
    "During ETL, I'll need to insert one entry into the table for each fips+date combined key, and then add the cases and deaths using that key.\n",
    "\n",
    "I'd hazard a guess that the deaths data is structured quite similarly, so we should be able to use that the same way should we decide to do so."
   ]
  },
  {
   "cell_type": "markdown",
   "metadata": {},
   "source": [
    "#### Health data"
   ]
  },
  {
   "cell_type": "markdown",
   "metadata": {},
   "source": [
    "#### Document findings\n"
   ]
  },
  {
   "cell_type": "markdown",
   "metadata": {},
   "source": [
    "#### Cleaning Steps\n",
    "Document steps necessary to clean the data"
   ]
  },
  {
   "cell_type": "code",
   "execution_count": null,
   "metadata": {},
   "outputs": [],
   "source": []
  },
  {
   "cell_type": "markdown",
   "metadata": {},
   "source": [
    "#### Document findings\n"
   ]
  },
  {
   "cell_type": "markdown",
   "metadata": {},
   "source": [
    "#### Selection steps\n",
    "Document steps necessary to select the correct columns and prepare some for linking and consolidation"
   ]
  },
  {
   "cell_type": "code",
   "execution_count": null,
   "metadata": {},
   "outputs": [],
   "source": []
  },
  {
   "cell_type": "markdown",
   "metadata": {},
   "source": [
    "#### Document findings\n"
   ]
  }
 ],
 "metadata": {
  "kernelspec": {
   "display_name": "branch-env",
   "language": "python",
   "name": "branch-env"
  },
  "language_info": {
   "codemirror_mode": {
    "name": "ipython",
    "version": 3
   },
   "file_extension": ".py",
   "mimetype": "text/x-python",
   "name": "python",
   "nbconvert_exporter": "python",
   "pygments_lexer": "ipython3",
   "version": "3.8.5"
  }
 },
 "nbformat": 4,
 "nbformat_minor": 4
}
