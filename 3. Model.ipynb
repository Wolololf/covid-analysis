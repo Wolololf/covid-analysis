{
 "cells": [
  {
   "cell_type": "markdown",
   "metadata": {},
   "source": [
    "### Step 3: Define the Data Model\n",
    "#### 3.1 Conceptual Data Model"
   ]
  },
  {
   "cell_type": "markdown",
   "metadata": {},
   "source": [
    "#### Attempt 1\n",
    "Initially, I set out to have a simple star schema with one fact table for Covid-19 cases and deaths over time, with a references to counties and states. This could have worked since I could have treated states as a special kind of county (states technically have a FIPS code as well, which is just the 2-digit state code followed by three zeroes). The county table would be a dimension table that is reference from the Covid-19 fact table.\n",
    "\n",
    "I decided against this for the following reasons:\n",
    "* I want counties to refer to the states they're in. If states are counties as well, it gets weird quickly because I'd need to have counties have a foreign key to... another county (which is just a state in a trenchcoat). This just opens us up to data corruption because we'll somehow end up with a county referring to something that isn't a state.\n",
    "* It's not intuitive. I wouldn't expect to see states in a table for counties.\n",
    "* Some of my data sources (weather, and optionally election and mobility) don't have data for states, so I'd have to awkwardly infer it somehow, or leave those columns empty. Again, this assumes that the end user understands that the county data contains \"special counties\", i.e. states.\n",
    "\n",
    "#### Attempt 2\n",
    "Alright, we'll have two dimension tables, then: One for counties, and one for states. So how does this affect the facts table? We'd now need each row to refer to both a county and a state, but only one of these would ever be set at a time, the other being \"None\", since we can't have a row that has data for both a state and a county. That's still weird, I don't want to have None-values without good reasons, and I don't want end users to have to remember this when dealing with my data.\n",
    "\n",
    "Additionally, some of my supplementary data sources are time series as well! Weather data is recorded by date, and so is mobility data. But these aren't available for states, and generating averages for states based on county data feels icky (e.g. California is a huge state, I'd expect the weather data to differ a lot between the North and South ends, an average wouldn't be very useful).  \n",
    "But wouldn't it be great to record those time series in the same fact table, since they also use the county and the date? So in addition to Covid-19 data, this time series fact table could contain data about the day-to-day weather (and, later on, resident mobility)!\n",
    "\n",
    "#### Attempt 3\n",
    "Since this data isn't avaiable for states, maybe let's split the facts table in two: One for a county time series, and one for a state time series. We can augment the county facts table with weather and mobility data, but leave the states only using Covid-19 data.\n",
    "\n",
    "Now, as an alternative, we could not create a facts table for states and instead generate aggregates for case and death numbers based on counties, since they refer to states. The downside would be that if we wanted to query case numbers and combine it with information about the state, we'd need to join the facts table with counties and states. This kind of query seems common enough to me that I wouldn't want to require users to constantly run groupBy-aggregates and a three-way join; instead, we can just bake that data into another facts table once and then access it directly.  \n",
    "I'm retaining the reference to the state from the county table. I'd expect the reference be used for grouping by state or selecting only counties in a specific state, so generally we wouldn't need to join with the state dimension table. I can however see some cases where it would be advantageous to join with the state table; for example, if we want to find counties that are doing better/worse in some metric than the state average (averaging grouped counties in a state won't work in this case, since counties have different populations, so statistics based on percentages of popuplation will be distorted by averaging indiscriminately).\n",
    "\n",
    "#### Conclusion\n",
    "All in all, this leaves us with the following schema:\n",
    "\n",
    "<img src=\"images/database_schema.png\">\n",
    "\n",
    "(This database schema visualisation was created using [SQLDBM](app.sqldbm.com))\n",
    "\n",
    "#### Columns\n",
    "County IDs are FIPS codes which are 5 digits, hence the character limit. State IDs are state name abbreviations which are always two letters. I hope that 50 characters are enough for county and state names, but I'll adjust this if I run into trouble later on.  \n",
    "The county and state dimension tables allow NULL values for some columns. These are the columns that I identified to have NaNs during exploratory analysis. I'd rather require end users make a check to skip those rows than to generate questionable replacement data and lead them to draw incorrect conclusions, especially if it is clearly telegraphed in the table configuration that these columns will have NULL-values.  \n",
    "Also note how the state dimension table has a lot fewer columns with NULL-values.\n",
    "\n",
    "The fact tables for county and state time series contain columns for Covid-19 case and death counts, both as a total and as a delta to the previous day. We could do with either of these and then calculate the other one based on it, but I predict that both versions will be in common use, so I'd rather build them in instead of repeatedly calculating them for each request later on.\n",
    "\n",
    "The date table uses a timestamp as a primary key, and at table population I will fill in the timestamp components instead of having to extract them constantly at execution time.\n",
    "\n",
    "#### Table creation\n",
    "The resulting table creation (for Redshift) can be found in the \"sql\" folder, in the \"create_tables.sql\" file."
   ]
  },
  {
   "cell_type": "markdown",
   "metadata": {},
   "source": [
    "#### 3.2 Mapping Out Data Pipelines\n",
    "List the steps necessary to pipeline the data into the chosen data model"
   ]
  },
  {
   "cell_type": "markdown",
   "metadata": {},
   "source": [
    "#### Outline - TODO\n",
    "Pipeline:\n",
    "- Only use counties and states that are in the Covid and health data sets\n",
    "- Use spark, mostly rely on dataframes but sometimes use temporary database views for convenience\n",
    "- End result should be outputting parquet files\n",
    "\n",
    "Time dim:\n",
    "- Create using pandas, start at 1st of January 2020, go in one-day intervals until 31st of December 2020\n",
    "- Only during ETL, also fill a map with non-zero-padded timestamp strings pointing to the created timestamps. This is necessary to translate the time series column names to a timestamp that matches the time table key. If the key isn't in the map, ignore that row.\n",
    "- Extract time components as in the Data Lake project\n",
    "- Partition by month (better would be year, then month, but we're only doing 2020)\n",
    "\n",
    "County dim:\n",
    "- Create county dimension table from Covid-19 data as a start\n",
    "- Fill in missing FIPS codes based on matching county names with health data\n",
    "- Augment county table with health data\n",
    "- Augment with area and population density (using health data and area data)\n",
    "- Use state abbreviation as foreign key for state table (which is created afterwards)\n",
    "- Partition by state\n",
    "\n",
    "County facts:\n",
    "- Start with the Covid-19 data set, use the timestamps to link to time, use FIPS to link to counties\n",
    "- Add total covid cases and deaths from the data set\n",
    "- Calculate delta based on current and previous columns during insert so we don't have to calculate the previous date and extract that data later\n",
    "- Augment with weather data based on the timestamp and county\n",
    "- Partition by county, then month\n",
    "\n",
    "State dim:\n",
    "- Create state dimension table from health data as a start\n",
    "- Calculate area and population density based on county dim table, group by state\n",
    "- Don't partition? There's only 50 of them anyway\n",
    "\n",
    "State facts:\n",
    "- Start Covid-19 data, use the state abbreviation as a link to states, timestamp to time\n",
    "- Calculate aggregate Covid-19 cases and deaths (both total and delta) for each day based on county facts table, group by state\n",
    "- Partition by state, then month"
   ]
  }
 ],
 "metadata": {
  "kernelspec": {
   "display_name": "branch-env",
   "language": "python",
   "name": "branch-env"
  },
  "language_info": {
   "codemirror_mode": {
    "name": "ipython",
    "version": 3
   },
   "file_extension": ".py",
   "mimetype": "text/x-python",
   "name": "python",
   "nbconvert_exporter": "python",
   "pygments_lexer": "ipython3",
   "version": "3.8.5"
  }
 },
 "nbformat": 4,
 "nbformat_minor": 4
}
