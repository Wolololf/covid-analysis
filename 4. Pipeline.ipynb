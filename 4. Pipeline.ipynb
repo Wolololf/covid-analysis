{
 "cells": [
  {
   "cell_type": "markdown",
   "metadata": {},
   "source": [
    "### Step 4: Run Pipelines to Model the Data\n",
    "\n",
    "#### Outline\n",
    "Pipeline:\n",
    "- Only use counties and states that are in the Covid and health data sets\n",
    "- Use spark, mostly rely on dataframes but sometimes use temporary database views for convenience\n",
    "- End result should be outputting parquet files\n",
    "\n",
    "State facts:\n",
    "- Start Covid-19 data, use the state abbreviation as a link to states, timestamp to time\n",
    "- Calculate aggregate Covid-19 cases and deaths (both total and delta) for each day based on county facts table, group by state\n",
    "- Partition by state, then month\n",
    "\n",
    "#### 4.2 Create the data model\n",
    "Build the data pipelines to create the data model. I'd break this into two steps:\n",
    "* Create the parquet files for the database based on the input data\n",
    "* Load the parquet files into the database\n",
    "\n",
    "##### Setup\n",
    "I'm going to need Spark for this because I'll want to make use of some of its functionality, such as the ability to create temporary SQL views of my dataframes."
   ]
  },
  {
   "cell_type": "code",
   "execution_count": null,
   "metadata": {},
   "outputs": [],
   "source": []
  },
  {
   "cell_type": "markdown",
   "metadata": {},
   "source": [
    "#### 4.2 Data Quality Checks\n",
    "Explain the data quality checks you'll perform to ensure the pipeline ran as expected. These could include:\n",
    " * Integrity constraints on the relational database (e.g. unique key, data type, etc.)\n",
    " * Unit tests for the scripts to ensure they are doing the right thing\n",
    " * Source/Count checks to ensure completeness\n",
    "\n",
    "Author's notes:  \n",
    "Integrity constraints seem a bit stupid since I'm creating the schema for the parquet files myself, but I guess I still need to do them?"
   ]
  },
  {
   "cell_type": "markdown",
   "metadata": {},
   "source": [
    "##### Date dimension table\n",
    "Checks:\n",
    "* Unique key for datetime\n",
    "* Columns are integers\n",
    "* Should have 366 entries (2020 was a leap year)\n",
    "* No days outside 2020"
   ]
  },
  {
   "cell_type": "code",
   "execution_count": null,
   "metadata": {},
   "outputs": [],
   "source": []
  },
  {
   "cell_type": "markdown",
   "metadata": {},
   "source": [
    "##### State dimension table\n",
    "Checks:\n",
    "* Unique key for state abbreviation\n",
    "* State key and name string, population integer, rest decimal\n",
    "* 50 entries\n",
    "* No null entries apart from in air_pollution and household_overcrowding\n",
    "* No negative numbers in numerics"
   ]
  },
  {
   "cell_type": "code",
   "execution_count": null,
   "metadata": {},
   "outputs": [],
   "source": []
  },
  {
   "cell_type": "markdown",
   "metadata": {},
   "source": [
    "##### County dimension table\n",
    "Checks:\n",
    "* Unique key for FIPS\n",
    "* State foreign key exists in state dimension table\n",
    "* County FIPS and name string, population integer, rest decimal\n",
    "* No null entries apart from in uninsured, physicians, unemployment, air_pollution, household_overcrowding, residential_segregation and rural\n",
    "* No negative numbers in numerics"
   ]
  },
  {
   "cell_type": "code",
   "execution_count": null,
   "metadata": {},
   "outputs": [],
   "source": []
  },
  {
   "cell_type": "markdown",
   "metadata": {},
   "source": [
    "##### State facts table\n",
    "Checks:\n",
    "* Unique composite keys (date + state)\n",
    "* Foreign keys exist\n",
    "* Values are integer and non-negative"
   ]
  },
  {
   "cell_type": "code",
   "execution_count": null,
   "metadata": {},
   "outputs": [],
   "source": []
  },
  {
   "cell_type": "markdown",
   "metadata": {},
   "source": [
    "##### County facts table\n",
    "Checks:\n",
    "* Unique composite keys (date + county)\n",
    "* Foreign keys exist\n",
    "* Covid values are integer, weather values decimal\n",
    "* Numerics all non-negative"
   ]
  },
  {
   "cell_type": "code",
   "execution_count": null,
   "metadata": {},
   "outputs": [],
   "source": []
  }
 ],
 "metadata": {
  "kernelspec": {
   "display_name": "branch-env",
   "language": "python",
   "name": "branch-env"
  },
  "language_info": {
   "codemirror_mode": {
    "name": "ipython",
    "version": 3
   },
   "file_extension": ".py",
   "mimetype": "text/x-python",
   "name": "python",
   "nbconvert_exporter": "python",
   "pygments_lexer": "ipython3",
   "version": "3.8.5"
  }
 },
 "nbformat": 4,
 "nbformat_minor": 4
}
