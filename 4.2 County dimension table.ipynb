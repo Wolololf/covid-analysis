{
 "cells": [
  {
   "cell_type": "markdown",
   "metadata": {},
   "source": [
    "#### 4.2 Create the county dimension table\n",
    "- Create county dimension table from Covid-19 data as a start\n",
    "- Augment county table with health data\n",
    "- Augment with area and population density (using health data and area data)\n",
    "- Use state abbreviation as foreign key for state table (which is created afterwards)\n",
    "- Partition by state"
   ]
  },
  {
   "cell_type": "markdown",
   "metadata": {},
   "source": [
    "##### Setup\n",
    "I'm going to need Spark for this because I'll want to make use of some of its functionality, such as the ability to create temporary SQL views of my dataframes."
   ]
  },
  {
   "cell_type": "code",
   "execution_count": 1,
   "metadata": {},
   "outputs": [],
   "source": [
    "from setup import create_spark_session\n",
    "\n",
    "spark = create_spark_session()"
   ]
  },
  {
   "cell_type": "markdown",
   "metadata": {},
   "source": [
    "Imports and output paths:"
   ]
  },
  {
   "cell_type": "code",
   "execution_count": 2,
   "metadata": {},
   "outputs": [],
   "source": [
    "import pandas as pd\n",
    "from pyspark.sql import functions as F\n",
    "from pyspark.sql.types import *\n",
    "\n",
    "from clean import *\n",
    "from etl import *\n",
    "\n",
    "# For now, just locally, later on maybe write this to S3 instead\n",
    "output_path = \"output/\""
   ]
  },
  {
   "cell_type": "markdown",
   "metadata": {},
   "source": [
    "Let's first load in the cleaned Covid data and inspect the schema:"
   ]
  },
  {
   "cell_type": "code",
   "execution_count": 3,
   "metadata": {},
   "outputs": [],
   "source": [
    "covid_cases_df = load_covid_case_data(spark)"
   ]
  },
  {
   "cell_type": "code",
   "execution_count": 4,
   "metadata": {},
   "outputs": [
    {
     "name": "stdout",
     "output_type": "stream",
     "text": [
      "root\n",
      " |-- fips: integer (nullable = true)\n",
      " |-- county_name: string (nullable = true)\n",
      " |-- state: string (nullable = true)\n",
      " |-- latitude: double (nullable = true)\n",
      " |-- longitude: double (nullable = true)\n",
      " |-- 1/22/20: integer (nullable = true)\n",
      " |-- 1/23/20: integer (nullable = true)\n",
      " |-- 1/24/20: integer (nullable = true)\n",
      " |-- 1/25/20: integer (nullable = true)\n",
      " |-- 1/26/20: integer (nullable = true)\n",
      " |-- 1/27/20: integer (nullable = true)\n",
      " |-- 1/28/20: integer (nullable = true)\n",
      " |-- 1/29/20: integer (nullable = true)\n",
      " |-- 1/30/20: integer (nullable = true)\n",
      " |-- 1/31/20: integer (nullable = true)\n",
      " |-- 2/1/20: integer (nullable = true)\n",
      " |-- 2/2/20: integer (nullable = true)\n",
      " |-- 2/3/20: integer (nullable = true)\n",
      " |-- 2/4/20: integer (nullable = true)\n",
      " |-- 2/5/20: integer (nullable = true)\n",
      " |-- 2/6/20: integer (nullable = true)\n",
      " |-- 2/7/20: integer (nullable = true)\n",
      " |-- 2/8/20: integer (nullable = true)\n",
      " |-- 2/9/20: integer (nullable = true)\n",
      " |-- 2/10/20: integer (nullable = true)\n",
      " |-- 2/11/20: integer (nullable = true)\n",
      " |-- 2/12/20: integer (nullable = true)\n",
      " |-- 2/13/20: integer (nullable = true)\n",
      " |-- 2/14/20: integer (nullable = true)\n",
      " |-- 2/15/20: integer (nullable = true)\n",
      " |-- 2/16/20: integer (nullable = true)\n",
      " |-- 2/17/20: integer (nullable = true)\n",
      " |-- 2/18/20: integer (nullable = true)\n",
      " |-- 2/19/20: integer (nullable = true)\n",
      " |-- 2/20/20: integer (nullable = true)\n",
      " |-- 2/21/20: integer (nullable = true)\n",
      " |-- 2/22/20: integer (nullable = true)\n",
      " |-- 2/23/20: integer (nullable = true)\n",
      " |-- 2/24/20: integer (nullable = true)\n",
      " |-- 2/25/20: integer (nullable = true)\n",
      " |-- 2/26/20: integer (nullable = true)\n",
      " |-- 2/27/20: integer (nullable = true)\n",
      " |-- 2/28/20: integer (nullable = true)\n",
      " |-- 2/29/20: integer (nullable = true)\n",
      " |-- 3/1/20: integer (nullable = true)\n",
      " |-- 3/2/20: integer (nullable = true)\n",
      " |-- 3/3/20: integer (nullable = true)\n",
      " |-- 3/4/20: integer (nullable = true)\n",
      " |-- 3/5/20: integer (nullable = true)\n",
      " |-- 3/6/20: integer (nullable = true)\n",
      " |-- 3/7/20: integer (nullable = true)\n",
      " |-- 3/8/20: integer (nullable = true)\n",
      " |-- 3/9/20: integer (nullable = true)\n",
      " |-- 3/10/20: integer (nullable = true)\n",
      " |-- 3/11/20: integer (nullable = true)\n",
      " |-- 3/12/20: integer (nullable = true)\n",
      " |-- 3/13/20: integer (nullable = true)\n",
      " |-- 3/14/20: integer (nullable = true)\n",
      " |-- 3/15/20: integer (nullable = true)\n",
      " |-- 3/16/20: integer (nullable = true)\n",
      " |-- 3/17/20: integer (nullable = true)\n",
      " |-- 3/18/20: integer (nullable = true)\n",
      " |-- 3/19/20: integer (nullable = true)\n",
      " |-- 3/20/20: integer (nullable = true)\n",
      " |-- 3/21/20: integer (nullable = true)\n",
      " |-- 3/22/20: integer (nullable = true)\n",
      " |-- 3/23/20: integer (nullable = true)\n",
      " |-- 3/24/20: integer (nullable = true)\n",
      " |-- 3/25/20: integer (nullable = true)\n",
      " |-- 3/26/20: integer (nullable = true)\n",
      " |-- 3/27/20: integer (nullable = true)\n",
      " |-- 3/28/20: integer (nullable = true)\n",
      " |-- 3/29/20: integer (nullable = true)\n",
      " |-- 3/30/20: integer (nullable = true)\n",
      " |-- 3/31/20: integer (nullable = true)\n",
      " |-- 4/1/20: integer (nullable = true)\n",
      " |-- 4/2/20: integer (nullable = true)\n",
      " |-- 4/3/20: integer (nullable = true)\n",
      " |-- 4/4/20: integer (nullable = true)\n",
      " |-- 4/5/20: integer (nullable = true)\n",
      " |-- 4/6/20: integer (nullable = true)\n",
      " |-- 4/7/20: integer (nullable = true)\n",
      " |-- 4/8/20: integer (nullable = true)\n",
      " |-- 4/9/20: integer (nullable = true)\n",
      " |-- 4/10/20: integer (nullable = true)\n",
      " |-- 4/11/20: integer (nullable = true)\n",
      " |-- 4/12/20: integer (nullable = true)\n",
      " |-- 4/13/20: integer (nullable = true)\n",
      " |-- 4/14/20: integer (nullable = true)\n",
      " |-- 4/15/20: integer (nullable = true)\n",
      " |-- 4/16/20: integer (nullable = true)\n",
      " |-- 4/17/20: integer (nullable = true)\n",
      " |-- 4/18/20: integer (nullable = true)\n",
      " |-- 4/19/20: integer (nullable = true)\n",
      " |-- 4/20/20: integer (nullable = true)\n",
      " |-- 4/21/20: integer (nullable = true)\n",
      " |-- 4/22/20: integer (nullable = true)\n",
      " |-- 4/23/20: integer (nullable = true)\n",
      " |-- 4/24/20: integer (nullable = true)\n",
      " |-- 4/25/20: integer (nullable = true)\n",
      " |-- 4/26/20: integer (nullable = true)\n",
      " |-- 4/27/20: integer (nullable = true)\n",
      " |-- 4/28/20: integer (nullable = true)\n",
      " |-- 4/29/20: integer (nullable = true)\n",
      " |-- 4/30/20: integer (nullable = true)\n",
      " |-- 5/1/20: integer (nullable = true)\n",
      " |-- 5/2/20: integer (nullable = true)\n",
      " |-- 5/3/20: integer (nullable = true)\n",
      " |-- 5/4/20: integer (nullable = true)\n",
      " |-- 5/5/20: integer (nullable = true)\n",
      " |-- 5/6/20: integer (nullable = true)\n",
      " |-- 5/7/20: integer (nullable = true)\n",
      " |-- 5/8/20: integer (nullable = true)\n",
      " |-- 5/9/20: integer (nullable = true)\n",
      " |-- 5/10/20: integer (nullable = true)\n",
      " |-- 5/11/20: integer (nullable = true)\n",
      " |-- 5/12/20: integer (nullable = true)\n",
      " |-- 5/13/20: integer (nullable = true)\n",
      " |-- 5/14/20: integer (nullable = true)\n",
      " |-- 5/15/20: integer (nullable = true)\n",
      " |-- 5/16/20: integer (nullable = true)\n",
      " |-- 5/17/20: integer (nullable = true)\n",
      " |-- 5/18/20: integer (nullable = true)\n",
      " |-- 5/19/20: integer (nullable = true)\n",
      " |-- 5/20/20: integer (nullable = true)\n",
      " |-- 5/21/20: integer (nullable = true)\n",
      " |-- 5/22/20: integer (nullable = true)\n",
      " |-- 5/23/20: integer (nullable = true)\n",
      " |-- 5/24/20: integer (nullable = true)\n",
      " |-- 5/25/20: integer (nullable = true)\n",
      " |-- 5/26/20: integer (nullable = true)\n",
      " |-- 5/27/20: integer (nullable = true)\n",
      " |-- 5/28/20: integer (nullable = true)\n",
      " |-- 5/29/20: integer (nullable = true)\n",
      " |-- 5/30/20: integer (nullable = true)\n",
      " |-- 5/31/20: integer (nullable = true)\n",
      " |-- 6/1/20: integer (nullable = true)\n",
      " |-- 6/2/20: integer (nullable = true)\n",
      " |-- 6/3/20: integer (nullable = true)\n",
      " |-- 6/4/20: integer (nullable = true)\n",
      " |-- 6/5/20: integer (nullable = true)\n",
      " |-- 6/6/20: integer (nullable = true)\n",
      " |-- 6/7/20: integer (nullable = true)\n",
      " |-- 6/8/20: integer (nullable = true)\n",
      " |-- 6/9/20: integer (nullable = true)\n",
      " |-- 6/10/20: integer (nullable = true)\n",
      " |-- 6/11/20: integer (nullable = true)\n",
      " |-- 6/12/20: integer (nullable = true)\n",
      " |-- 6/13/20: integer (nullable = true)\n",
      " |-- 6/14/20: integer (nullable = true)\n",
      " |-- 6/15/20: integer (nullable = true)\n",
      " |-- 6/16/20: integer (nullable = true)\n",
      " |-- 6/17/20: integer (nullable = true)\n",
      " |-- 6/18/20: integer (nullable = true)\n",
      " |-- 6/19/20: integer (nullable = true)\n",
      " |-- 6/20/20: integer (nullable = true)\n",
      " |-- 6/21/20: integer (nullable = true)\n",
      " |-- 6/22/20: integer (nullable = true)\n",
      " |-- 6/23/20: integer (nullable = true)\n",
      " |-- 6/24/20: integer (nullable = true)\n",
      " |-- 6/25/20: integer (nullable = true)\n",
      " |-- 6/26/20: integer (nullable = true)\n",
      " |-- 6/27/20: integer (nullable = true)\n",
      " |-- 6/28/20: integer (nullable = true)\n",
      " |-- 6/29/20: integer (nullable = true)\n",
      " |-- 6/30/20: integer (nullable = true)\n",
      " |-- 7/1/20: integer (nullable = true)\n",
      " |-- 7/2/20: integer (nullable = true)\n",
      " |-- 7/3/20: integer (nullable = true)\n",
      " |-- 7/4/20: integer (nullable = true)\n",
      " |-- 7/5/20: integer (nullable = true)\n",
      " |-- 7/6/20: integer (nullable = true)\n",
      " |-- 7/7/20: integer (nullable = true)\n",
      " |-- 7/8/20: integer (nullable = true)\n",
      " |-- 7/9/20: integer (nullable = true)\n",
      " |-- 7/10/20: integer (nullable = true)\n",
      " |-- 7/11/20: integer (nullable = true)\n",
      " |-- 7/12/20: integer (nullable = true)\n",
      " |-- 7/13/20: integer (nullable = true)\n",
      " |-- 7/14/20: integer (nullable = true)\n",
      " |-- 7/15/20: integer (nullable = true)\n",
      " |-- 7/16/20: integer (nullable = true)\n",
      " |-- 7/17/20: integer (nullable = true)\n",
      " |-- 7/18/20: integer (nullable = true)\n",
      " |-- 7/19/20: integer (nullable = true)\n",
      " |-- 7/20/20: integer (nullable = true)\n",
      " |-- 7/21/20: integer (nullable = true)\n",
      " |-- 7/22/20: integer (nullable = true)\n",
      " |-- 7/23/20: integer (nullable = true)\n",
      " |-- 7/24/20: integer (nullable = true)\n",
      " |-- 7/25/20: integer (nullable = true)\n",
      " |-- 7/26/20: integer (nullable = true)\n",
      " |-- 7/27/20: integer (nullable = true)\n",
      " |-- 7/28/20: integer (nullable = true)\n",
      " |-- 7/29/20: integer (nullable = true)\n",
      " |-- 7/30/20: integer (nullable = true)\n",
      " |-- 7/31/20: integer (nullable = true)\n",
      " |-- 8/1/20: integer (nullable = true)\n",
      " |-- 8/2/20: integer (nullable = true)\n",
      " |-- 8/3/20: integer (nullable = true)\n",
      " |-- 8/4/20: integer (nullable = true)\n",
      " |-- 8/5/20: integer (nullable = true)\n",
      " |-- 8/6/20: integer (nullable = true)\n",
      " |-- 8/7/20: integer (nullable = true)\n",
      " |-- 8/8/20: integer (nullable = true)\n",
      " |-- 8/9/20: integer (nullable = true)\n",
      " |-- 8/10/20: integer (nullable = true)\n",
      " |-- 8/11/20: integer (nullable = true)\n",
      " |-- 8/12/20: integer (nullable = true)\n",
      " |-- 8/13/20: integer (nullable = true)\n",
      " |-- 8/14/20: integer (nullable = true)\n",
      " |-- 8/15/20: integer (nullable = true)\n",
      " |-- 8/16/20: integer (nullable = true)\n",
      " |-- 8/17/20: integer (nullable = true)\n",
      " |-- 8/18/20: integer (nullable = true)\n",
      " |-- 8/19/20: integer (nullable = true)\n",
      " |-- 8/20/20: integer (nullable = true)\n",
      " |-- 8/21/20: integer (nullable = true)\n",
      " |-- 8/22/20: integer (nullable = true)\n",
      " |-- 8/23/20: integer (nullable = true)\n",
      " |-- 8/24/20: integer (nullable = true)\n",
      " |-- 8/25/20: integer (nullable = true)\n",
      " |-- 8/26/20: integer (nullable = true)\n",
      " |-- 8/27/20: integer (nullable = true)\n",
      " |-- 8/28/20: integer (nullable = true)\n",
      " |-- 8/29/20: integer (nullable = true)\n",
      " |-- 8/30/20: integer (nullable = true)\n",
      " |-- 8/31/20: integer (nullable = true)\n",
      " |-- 9/1/20: integer (nullable = true)\n",
      " |-- 9/2/20: integer (nullable = true)\n",
      " |-- 9/3/20: integer (nullable = true)\n",
      " |-- 9/4/20: integer (nullable = true)\n",
      " |-- 9/5/20: integer (nullable = true)\n",
      " |-- 9/6/20: integer (nullable = true)\n",
      " |-- 9/7/20: integer (nullable = true)\n",
      " |-- 9/8/20: integer (nullable = true)\n",
      " |-- 9/9/20: integer (nullable = true)\n",
      " |-- 9/10/20: integer (nullable = true)\n",
      " |-- 9/11/20: integer (nullable = true)\n",
      " |-- 9/12/20: integer (nullable = true)\n",
      " |-- 9/13/20: integer (nullable = true)\n",
      " |-- 9/14/20: integer (nullable = true)\n",
      " |-- 9/15/20: integer (nullable = true)\n",
      " |-- 9/16/20: integer (nullable = true)\n",
      " |-- 9/17/20: integer (nullable = true)\n",
      " |-- 9/18/20: integer (nullable = true)\n",
      " |-- 9/19/20: integer (nullable = true)\n",
      " |-- 9/20/20: integer (nullable = true)\n",
      " |-- 9/21/20: integer (nullable = true)\n",
      " |-- 9/22/20: integer (nullable = true)\n",
      " |-- 9/23/20: integer (nullable = true)\n",
      " |-- 9/24/20: integer (nullable = true)\n",
      " |-- 9/25/20: integer (nullable = true)\n",
      " |-- 9/26/20: integer (nullable = true)\n",
      " |-- 9/27/20: integer (nullable = true)\n",
      " |-- 9/28/20: integer (nullable = true)\n",
      " |-- 9/29/20: integer (nullable = true)\n",
      " |-- 9/30/20: integer (nullable = true)\n",
      " |-- 10/1/20: integer (nullable = true)\n",
      " |-- 10/2/20: integer (nullable = true)\n",
      " |-- 10/3/20: integer (nullable = true)\n",
      " |-- 10/4/20: integer (nullable = true)\n",
      " |-- 10/5/20: integer (nullable = true)\n",
      " |-- 10/6/20: integer (nullable = true)\n",
      " |-- 10/7/20: integer (nullable = true)\n",
      " |-- 10/8/20: integer (nullable = true)\n",
      " |-- 10/9/20: integer (nullable = true)\n",
      " |-- 10/10/20: integer (nullable = true)\n",
      " |-- 10/11/20: integer (nullable = true)\n",
      " |-- 10/12/20: integer (nullable = true)\n",
      " |-- 10/13/20: integer (nullable = true)\n",
      " |-- 10/14/20: integer (nullable = true)\n",
      " |-- 10/15/20: integer (nullable = true)\n",
      " |-- 10/16/20: integer (nullable = true)\n",
      " |-- 10/17/20: integer (nullable = true)\n",
      " |-- 10/18/20: integer (nullable = true)\n",
      " |-- 10/19/20: integer (nullable = true)\n",
      " |-- 10/20/20: integer (nullable = true)\n",
      " |-- 10/21/20: integer (nullable = true)\n",
      " |-- 10/22/20: integer (nullable = true)\n",
      " |-- 10/23/20: integer (nullable = true)\n",
      " |-- 10/24/20: integer (nullable = true)\n",
      " |-- 10/25/20: integer (nullable = true)\n",
      " |-- 10/26/20: integer (nullable = true)\n",
      " |-- 10/27/20: integer (nullable = true)\n",
      " |-- 10/28/20: integer (nullable = true)\n",
      " |-- 10/29/20: integer (nullable = true)\n",
      " |-- 10/30/20: integer (nullable = true)\n",
      " |-- 10/31/20: integer (nullable = true)\n",
      " |-- 11/1/20: integer (nullable = true)\n",
      " |-- 11/2/20: integer (nullable = true)\n",
      " |-- 11/3/20: integer (nullable = true)\n",
      " |-- 11/4/20: integer (nullable = true)\n",
      " |-- 11/5/20: integer (nullable = true)\n",
      " |-- 11/6/20: integer (nullable = true)\n",
      " |-- 11/7/20: integer (nullable = true)\n",
      " |-- 11/8/20: integer (nullable = true)\n",
      " |-- 11/9/20: integer (nullable = true)\n",
      " |-- 11/10/20: integer (nullable = true)\n",
      " |-- 11/11/20: integer (nullable = true)\n",
      " |-- 11/12/20: integer (nullable = true)\n",
      " |-- 11/13/20: integer (nullable = true)\n",
      " |-- 11/14/20: integer (nullable = true)\n",
      " |-- 11/15/20: integer (nullable = true)\n",
      " |-- 11/16/20: integer (nullable = true)\n",
      " |-- 11/17/20: integer (nullable = true)\n",
      " |-- 11/18/20: integer (nullable = true)\n",
      " |-- 11/19/20: integer (nullable = true)\n",
      " |-- 11/20/20: integer (nullable = true)\n",
      " |-- 11/21/20: integer (nullable = true)\n",
      " |-- 11/22/20: integer (nullable = true)\n",
      " |-- 11/23/20: integer (nullable = true)\n",
      " |-- 11/24/20: integer (nullable = true)\n",
      " |-- 11/25/20: integer (nullable = true)\n",
      " |-- 11/26/20: integer (nullable = true)\n",
      " |-- 11/27/20: integer (nullable = true)\n",
      " |-- 11/28/20: integer (nullable = true)\n",
      " |-- 11/29/20: integer (nullable = true)\n",
      " |-- 11/30/20: integer (nullable = true)\n",
      " |-- 12/1/20: integer (nullable = true)\n",
      " |-- 12/2/20: integer (nullable = true)\n",
      " |-- 12/3/20: integer (nullable = true)\n",
      " |-- 12/4/20: integer (nullable = true)\n",
      " |-- 12/5/20: integer (nullable = true)\n",
      " |-- 12/6/20: integer (nullable = true)\n",
      " |-- 12/7/20: integer (nullable = true)\n",
      " |-- 12/8/20: integer (nullable = true)\n",
      " |-- 12/9/20: integer (nullable = true)\n",
      " |-- 12/10/20: integer (nullable = true)\n",
      " |-- 12/11/20: integer (nullable = true)\n",
      " |-- 12/12/20: integer (nullable = true)\n",
      " |-- 12/13/20: integer (nullable = true)\n",
      " |-- 12/14/20: integer (nullable = true)\n",
      " |-- 12/15/20: integer (nullable = true)\n",
      " |-- 12/16/20: integer (nullable = true)\n",
      " |-- 12/17/20: integer (nullable = true)\n",
      " |-- 12/18/20: integer (nullable = true)\n",
      " |-- 12/19/20: integer (nullable = true)\n",
      " |-- 12/20/20: integer (nullable = true)\n",
      " |-- 12/21/20: integer (nullable = true)\n",
      " |-- 12/22/20: integer (nullable = true)\n",
      " |-- 12/23/20: integer (nullable = true)\n",
      " |-- 12/24/20: integer (nullable = true)\n",
      " |-- 12/25/20: integer (nullable = true)\n",
      " |-- 12/26/20: integer (nullable = true)\n",
      " |-- 12/27/20: integer (nullable = true)\n",
      " |-- 12/28/20: integer (nullable = true)\n",
      " |-- 12/29/20: integer (nullable = true)\n",
      " |-- 12/30/20: integer (nullable = true)\n",
      " |-- 12/31/20: integer (nullable = true)\n",
      " |-- 1/1/21: integer (nullable = true)\n",
      " |-- 1/2/21: integer (nullable = true)\n",
      " |-- 1/3/21: integer (nullable = true)\n",
      " |-- 1/4/21: integer (nullable = true)\n",
      " |-- 1/5/21: integer (nullable = true)\n",
      " |-- 1/6/21: integer (nullable = true)\n",
      " |-- 1/7/21: integer (nullable = true)\n",
      " |-- 1/8/21: integer (nullable = true)\n",
      " |-- 1/9/21: integer (nullable = true)\n",
      " |-- 1/10/21: integer (nullable = true)\n",
      " |-- 1/11/21: integer (nullable = true)\n",
      " |-- 1/12/21: integer (nullable = true)\n",
      " |-- 1/13/21: integer (nullable = true)\n",
      " |-- 1/14/21: integer (nullable = true)\n",
      " |-- 1/15/21: integer (nullable = true)\n",
      " |-- 1/16/21: integer (nullable = true)\n",
      " |-- 1/17/21: integer (nullable = true)\n",
      " |-- 1/18/21: integer (nullable = true)\n",
      " |-- 1/19/21: integer (nullable = true)\n",
      " |-- 1/20/21: integer (nullable = true)\n",
      " |-- 1/21/21: integer (nullable = true)\n",
      " |-- 1/22/21: integer (nullable = true)\n",
      " |-- 1/23/21: integer (nullable = true)\n",
      " |-- 1/24/21: integer (nullable = true)\n",
      " |-- 1/25/21: integer (nullable = true)\n",
      " |-- 1/26/21: integer (nullable = true)\n",
      " |-- 1/27/21: integer (nullable = true)\n",
      " |-- 1/28/21: integer (nullable = true)\n",
      " |-- 1/29/21: integer (nullable = true)\n",
      " |-- 1/30/21: integer (nullable = true)\n",
      " |-- 1/31/21: integer (nullable = true)\n",
      " |-- 2/1/21: integer (nullable = true)\n",
      " |-- 2/2/21: integer (nullable = true)\n",
      " |-- 2/3/21: integer (nullable = true)\n",
      " |-- 2/4/21: integer (nullable = true)\n",
      " |-- 2/5/21: integer (nullable = true)\n",
      " |-- 2/6/21: integer (nullable = true)\n",
      " |-- 2/7/21: integer (nullable = true)\n",
      " |-- 2/8/21: integer (nullable = true)\n",
      " |-- 2/9/21: integer (nullable = true)\n",
      " |-- 2/10/21: integer (nullable = true)\n",
      " |-- 2/11/21: integer (nullable = true)\n",
      " |-- 2/12/21: integer (nullable = true)\n",
      " |-- 2/13/21: integer (nullable = true)\n",
      " |-- 2/14/21: integer (nullable = true)\n",
      " |-- 2/15/21: integer (nullable = true)\n",
      " |-- 2/16/21: integer (nullable = true)\n",
      " |-- 2/17/21: integer (nullable = true)\n",
      " |-- 2/18/21: integer (nullable = true)\n",
      " |-- 2/19/21: integer (nullable = true)\n",
      " |-- 2/20/21: integer (nullable = true)\n",
      " |-- 2/21/21: integer (nullable = true)\n",
      " |-- 2/22/21: integer (nullable = true)\n",
      " |-- 2/23/21: integer (nullable = true)\n",
      " |-- 2/24/21: integer (nullable = true)\n",
      " |-- 2/25/21: integer (nullable = true)\n",
      " |-- 2/26/21: integer (nullable = true)\n",
      " |-- 2/27/21: integer (nullable = true)\n",
      "\n"
     ]
    }
   ],
   "source": [
    "covid_cases_df.printSchema()"
   ]
  },
  {
   "cell_type": "markdown",
   "metadata": {},
   "source": [
    "Alright, that looks as expected, so let's select the first five columns to form the base of the county dimension table. The date-columns will become the county fact table later on."
   ]
  },
  {
   "cell_type": "code",
   "execution_count": 5,
   "metadata": {},
   "outputs": [
    {
     "name": "stdout",
     "output_type": "stream",
     "text": [
      "+----+-----------+-----------+------------------+\n",
      "|fips|county_name|   latitude|         longitude|\n",
      "+----+-----------+-----------+------------------+\n",
      "|1001|    Autauga|32.53952745|      -86.64408227|\n",
      "|1003|    Baldwin|30.72774991|      -87.72207058|\n",
      "|1005|    Barbour|  31.868263|       -85.3871286|\n",
      "|1007|       Bibb|32.99642064|-87.12511459999996|\n",
      "|1009|     Blount|33.98210918|      -86.56790593|\n",
      "+----+-----------+-----------+------------------+\n",
      "\n"
     ]
    }
   ],
   "source": [
    "county_columns = [\"fips\", \"county_name\", \"latitude\", \"longitude\"]\n",
    "county_dim_df = covid_cases_df[county_columns]\n",
    "county_dim_df.limit(5).show()"
   ]
  },
  {
   "cell_type": "code",
   "execution_count": 6,
   "metadata": {},
   "outputs": [
    {
     "data": {
      "text/plain": [
       "3142"
      ]
     },
     "execution_count": 6,
     "metadata": {},
     "output_type": "execute_result"
    }
   ],
   "source": [
    "county_dim_df.count()"
   ]
  },
  {
   "cell_type": "markdown",
   "metadata": {},
   "source": [
    "Next, let's load the health data and join it with the county data using the FIPS code. This will be an inner join, so we might lose some counties that aren't in both data sets; we will still have ~3000 counties, so I'm alright with that."
   ]
  },
  {
   "cell_type": "code",
   "execution_count": 7,
   "metadata": {},
   "outputs": [],
   "source": [
    "health_df = load_health_data(spark)"
   ]
  },
  {
   "cell_type": "code",
   "execution_count": 8,
   "metadata": {},
   "outputs": [
    {
     "name": "stdout",
     "output_type": "stream",
     "text": [
      "root\n",
      " |-- fips: integer (nullable = true)\n",
      " |-- county_name: string (nullable = true)\n",
      " |-- state: string (nullable = true)\n",
      " |-- population: integer (nullable = true)\n",
      " |-- poor_health: double (nullable = true)\n",
      " |-- smokers: double (nullable = true)\n",
      " |-- obesity: double (nullable = true)\n",
      " |-- physical_inactivity: double (nullable = true)\n",
      " |-- excessive_drinking: double (nullable = true)\n",
      " |-- uninsured: double (nullable = true)\n",
      " |-- physicians: double (nullable = true)\n",
      " |-- unemployment: double (nullable = true)\n",
      " |-- air_pollution: double (nullable = true)\n",
      " |-- housing_problems: double (nullable = true)\n",
      " |-- household_overcrowding: double (nullable = true)\n",
      " |-- food_insecurity: double (nullable = true)\n",
      " |-- residential_segregation: double (nullable = true)\n",
      " |-- over_sixtyfives: double (nullable = true)\n",
      " |-- rural: double (nullable = true)\n",
      "\n"
     ]
    }
   ],
   "source": [
    "health_df.printSchema()"
   ]
  },
  {
   "cell_type": "code",
   "execution_count": 9,
   "metadata": {},
   "outputs": [
    {
     "name": "stdout",
     "output_type": "stream",
     "text": [
      "+----+--------------+-----+----------+------------+------------+-------+-------------------+------------------+------------+-----------+------------+-------------+----------------+----------------------+---------------+-----------------------+---------------+------------+\n",
      "|fips|   county_name|state|population| poor_health|     smokers|obesity|physical_inactivity|excessive_drinking|   uninsured| physicians|unemployment|air_pollution|housing_problems|household_overcrowding|food_insecurity|residential_segregation|over_sixtyfives|       rural|\n",
      "+----+--------------+-----+----------+------------+------------+-------+-------------------+------------------+------------+-----------+------------+-------------+----------------+----------------------+---------------+-----------------------+---------------+------------+\n",
      "|   0| United States|   US| 327167434|0.1719867644|0.1708001743|   0.29|              0.233|      0.1897709024|0.1022344603|7.546654E-4|0.0389533902|          8.6|    0.1791360885|                  null|          0.125|            46.77346382|   0.1602579828|0.1926902892|\n",
      "|1000|       Alabama|   AL|   4887871|0.2202870285|0.2092735311|  0.355|              0.298|      0.1390351529|0.1104478259|6.482388E-4|0.0393356691|         11.0|    0.1434070208|                  null|          0.163|           50.777775905|   0.1691726316| 0.409631829|\n",
      "|1001|Autauga County|   AL|     55601|0.2088298733|0.1808155718|  0.333|              0.347|      0.1502603126|0.0872168595| 4.50418E-4|0.0362907886|         11.7|    0.1466346154|          0.0120192308|          0.132|           23.628395199|   0.1556266974|0.4200216232|\n",
      "|1003|Baldwin County|   AL|    218022|0.1750913436| 0.174890326|   0.31|              0.265|       0.179583101|0.1133340447|7.289727E-4|0.0361538216|         10.3|    0.1356620093|          0.0127079175|          0.116|           31.825343231|   0.2044334975|0.4227909911|\n",
      "|1005|Barbour County|   AL|     24881|0.2959180171|0.2199998453|  0.417|              0.235|      0.1284401555|0.1224279246|3.165809E-4|0.0517138421|         11.5|    0.1458333333|          0.0168859649|           0.22|           23.449712509|    0.194204413| 0.677896347|\n",
      "+----+--------------+-----+----------+------------+------------+-------+-------------------+------------------+------------+-----------+------------+-------------+----------------+----------------------+---------------+-----------------------+---------------+------------+\n",
      "\n"
     ]
    }
   ],
   "source": [
    "health_df.limit(5).show()"
   ]
  },
  {
   "cell_type": "code",
   "execution_count": 10,
   "metadata": {},
   "outputs": [
    {
     "name": "stdout",
     "output_type": "stream",
     "text": [
      "+----+-----------+-----------+------------------+-----+----------+------------+------------+-------+-------------------+------------------+------------+-----------+------------+-------------+----------------+----------------------+---------------+-----------------------+---------------+------------+\n",
      "|fips|county_name|   latitude|         longitude|state|population| poor_health|     smokers|obesity|physical_inactivity|excessive_drinking|   uninsured| physicians|unemployment|air_pollution|housing_problems|household_overcrowding|food_insecurity|residential_segregation|over_sixtyfives|       rural|\n",
      "+----+-----------+-----------+------------------+-----+----------+------------+------------+-------+-------------------+------------------+------------+-----------+------------+-------------+----------------+----------------------+---------------+-----------------------+---------------+------------+\n",
      "|1001|    Autauga|32.53952745|      -86.64408227|   AL|     55601|0.2088298733|0.1808155718|  0.333|              0.347|      0.1502603126|0.0872168595| 4.50418E-4|0.0362907886|         11.7|    0.1466346154|          0.0120192308|          0.132|           23.628395199|   0.1556266974|0.4200216232|\n",
      "|1003|    Baldwin|30.72774991|      -87.72207058|   AL|    218022|0.1750913436| 0.174890326|   0.31|              0.265|       0.179583101|0.1133340447|7.289727E-4|0.0361538216|         10.3|    0.1356620093|          0.0127079175|          0.116|           31.825343231|   0.2044334975|0.4227909911|\n",
      "|1005|    Barbour|  31.868263|       -85.3871286|   AL|     24881|0.2959180171|0.2199998453|  0.417|              0.235|      0.1284401555|0.1224279246|3.165809E-4|0.0517138421|         11.5|    0.1458333333|          0.0168859649|           0.22|           23.449712509|    0.194204413| 0.677896347|\n",
      "|1007|       Bibb|32.99642064|-87.12511459999996|   AL|     22400|0.1943972416|0.1911419989|  0.376|              0.335|      0.1557004237|0.1020625259|4.852656E-4|0.0397182773|         11.2|     0.104964539|          0.0025531915|          0.143|           52.600205502|   0.1647321429|0.6835260746|\n",
      "|1009|     Blount|33.98210918|      -86.56790593|   AL|     57840|0.2174529281|0.1920867197|  0.338|              0.303|      0.1423059383|0.1336075949|2.240877E-4|0.0351115732|         11.7|    0.1054801164|           0.018913676|          0.107|           17.694494741|   0.1823651452|0.8995150204|\n",
      "+----+-----------+-----------+------------------+-----+----------+------------+------------+-------+-------------------+------------------+------------+-----------+------------+-------------+----------------+----------------------+---------------+-----------------------+---------------+------------+\n",
      "\n"
     ]
    }
   ],
   "source": [
    "health_df = health_df.withColumnRenamed('county_name', 'cn')\n",
    "county_dim_df = county_dim_df.join(health_df, on=[\"fips\"], how=\"inner\").drop('cn')\n",
    "county_dim_df.limit(5).show()"
   ]
  },
  {
   "cell_type": "code",
   "execution_count": 11,
   "metadata": {},
   "outputs": [
    {
     "name": "stdout",
     "output_type": "stream",
     "text": [
      "root\n",
      " |-- fips: integer (nullable = true)\n",
      " |-- county_name: string (nullable = true)\n",
      " |-- latitude: double (nullable = true)\n",
      " |-- longitude: double (nullable = true)\n",
      " |-- state: string (nullable = true)\n",
      " |-- population: integer (nullable = true)\n",
      " |-- poor_health: double (nullable = true)\n",
      " |-- smokers: double (nullable = true)\n",
      " |-- obesity: double (nullable = true)\n",
      " |-- physical_inactivity: double (nullable = true)\n",
      " |-- excessive_drinking: double (nullable = true)\n",
      " |-- uninsured: double (nullable = true)\n",
      " |-- physicians: double (nullable = true)\n",
      " |-- unemployment: double (nullable = true)\n",
      " |-- air_pollution: double (nullable = true)\n",
      " |-- housing_problems: double (nullable = true)\n",
      " |-- household_overcrowding: double (nullable = true)\n",
      " |-- food_insecurity: double (nullable = true)\n",
      " |-- residential_segregation: double (nullable = true)\n",
      " |-- over_sixtyfives: double (nullable = true)\n",
      " |-- rural: double (nullable = true)\n",
      "\n"
     ]
    }
   ],
   "source": [
    "county_dim_df.printSchema()"
   ]
  },
  {
   "cell_type": "code",
   "execution_count": 12,
   "metadata": {},
   "outputs": [
    {
     "data": {
      "text/plain": [
       "3142"
      ]
     },
     "execution_count": 12,
     "metadata": {},
     "output_type": "execute_result"
    }
   ],
   "source": [
    "county_dim_df.count()"
   ]
  },
  {
   "cell_type": "markdown",
   "metadata": {},
   "source": [
    "That's... kinda weird, but I'll take it. It looks like we didn't lose any counties at all with this join.\n",
    "\n",
    "Next up, let's augment it with our area data."
   ]
  },
  {
   "cell_type": "code",
   "execution_count": 13,
   "metadata": {},
   "outputs": [],
   "source": [
    "county_area_df = load_area_data(spark)"
   ]
  },
  {
   "cell_type": "code",
   "execution_count": 14,
   "metadata": {},
   "outputs": [
    {
     "name": "stdout",
     "output_type": "stream",
     "text": [
      "root\n",
      " |-- fips: integer (nullable = true)\n",
      " |-- area: double (nullable = true)\n",
      "\n"
     ]
    }
   ],
   "source": [
    "county_area_df.printSchema()"
   ]
  },
  {
   "cell_type": "code",
   "execution_count": 15,
   "metadata": {},
   "outputs": [
    {
     "name": "stdout",
     "output_type": "stream",
     "text": [
      "+----+-------+\n",
      "|fips|   area|\n",
      "+----+-------+\n",
      "|1001|594.436|\n",
      "|1009|644.776|\n",
      "|1017|596.531|\n",
      "|1021|692.854|\n",
      "|1033|592.619|\n",
      "+----+-------+\n",
      "\n"
     ]
    }
   ],
   "source": [
    "county_area_df.limit(5).show()"
   ]
  },
  {
   "cell_type": "code",
   "execution_count": 16,
   "metadata": {},
   "outputs": [
    {
     "name": "stdout",
     "output_type": "stream",
     "text": [
      "+----+-----------+-----------+------------------+-----+----------+------------+------------+-------+-------------------+------------------+------------+-----------+------------+-------------+----------------+----------------------+---------------+-----------------------+---------------+------------+--------+\n",
      "|fips|county_name|   latitude|         longitude|state|population| poor_health|     smokers|obesity|physical_inactivity|excessive_drinking|   uninsured| physicians|unemployment|air_pollution|housing_problems|household_overcrowding|food_insecurity|residential_segregation|over_sixtyfives|       rural|    area|\n",
      "+----+-----------+-----------+------------------+-----+----------+------------+------------+-------+-------------------+------------------+------------+-----------+------------+-------------+----------------+----------------------+---------------+-----------------------+---------------+------------+--------+\n",
      "|1001|    Autauga|32.53952745|      -86.64408227|   AL|     55601|0.2088298733|0.1808155718|  0.333|              0.347|      0.1502603126|0.0872168595| 4.50418E-4|0.0362907886|         11.7|    0.1466346154|          0.0120192308|          0.132|           23.628395199|   0.1556266974|0.4200216232| 594.436|\n",
      "|1003|    Baldwin|30.72774991|      -87.72207058|   AL|    218022|0.1750913436| 0.174890326|   0.31|              0.265|       0.179583101|0.1133340447|7.289727E-4|0.0361538216|         10.3|    0.1356620093|          0.0127079175|          0.116|           31.825343231|   0.2044334975|0.4227909911|1589.784|\n",
      "|1005|    Barbour|  31.868263|       -85.3871286|   AL|     24881|0.2959180171|0.2199998453|  0.417|              0.235|      0.1284401555|0.1224279246|3.165809E-4|0.0517138421|         11.5|    0.1458333333|          0.0168859649|           0.22|           23.449712509|    0.194204413| 0.677896347| 884.876|\n",
      "|1007|       Bibb|32.99642064|-87.12511459999996|   AL|     22400|0.1943972416|0.1911419989|  0.376|              0.335|      0.1557004237|0.1020625259|4.852656E-4|0.0397182773|         11.2|     0.104964539|          0.0025531915|          0.143|           52.600205502|   0.1647321429|0.6835260746| 622.582|\n",
      "|1009|     Blount|33.98210918|      -86.56790593|   AL|     57840|0.2174529281|0.1920867197|  0.338|              0.303|      0.1423059383|0.1336075949|2.240877E-4|0.0351115732|         11.7|    0.1054801164|           0.018913676|          0.107|           17.694494741|   0.1823651452|0.8995150204| 644.776|\n",
      "+----+-----------+-----------+------------------+-----+----------+------------+------------+-------+-------------------+------------------+------------+-----------+------------+-------------+----------------+----------------------+---------------+-----------------------+---------------+------------+--------+\n",
      "\n"
     ]
    }
   ],
   "source": [
    "county_dim_df = county_dim_df.join(county_area_df, on=[\"fips\"], how=\"inner\")\n",
    "county_dim_df.limit(5).show()"
   ]
  },
  {
   "cell_type": "code",
   "execution_count": 17,
   "metadata": {},
   "outputs": [
    {
     "data": {
      "text/plain": [
       "3140"
      ]
     },
     "execution_count": 17,
     "metadata": {},
     "output_type": "execute_result"
    }
   ],
   "source": [
    "county_dim_df.count()"
   ]
  },
  {
   "cell_type": "markdown",
   "metadata": {},
   "source": [
    "Looks like we lost two counties. Honestly, that's pretty great for three data sets of 3000+ rows.\n",
    "\n",
    "Now that we have columns for both the population and the area, let's combine these to calculate the population density:"
   ]
  },
  {
   "cell_type": "code",
   "execution_count": 18,
   "metadata": {},
   "outputs": [
    {
     "name": "stdout",
     "output_type": "stream",
     "text": [
      "+-----------+----------+--------+------------------+\n",
      "|county_name|population|    area|population_density|\n",
      "+-----------+----------+--------+------------------+\n",
      "|    Autauga|     55601| 594.436| 93.53572125510567|\n",
      "|    Baldwin|    218022|1589.784|137.13938497305293|\n",
      "|    Barbour|     24881| 884.876|28.118063999927674|\n",
      "|       Bibb|     22400| 622.582| 35.97919631470232|\n",
      "|     Blount|     57840| 644.776| 89.70557216769856|\n",
      "+-----------+----------+--------+------------------+\n",
      "\n"
     ]
    }
   ],
   "source": [
    "county_dim_df = county_dim_df.withColumn('population_density', county_dim_df['population'] / county_dim_df['area'])\n",
    "county_dim_df[['county_name', 'population', 'area', 'population_density']].limit(5).show()"
   ]
  },
  {
   "cell_type": "code",
   "execution_count": 19,
   "metadata": {},
   "outputs": [
    {
     "name": "stdout",
     "output_type": "stream",
     "text": [
      "+-----------------------+\n",
      "|min(population_density)|\n",
      "+-----------------------+\n",
      "|     0.0366104788482254|\n",
      "+-----------------------+\n",
      "\n"
     ]
    }
   ],
   "source": [
    "county_dim_df.agg({'population_density': 'min'}).show()"
   ]
  },
  {
   "cell_type": "code",
   "execution_count": 20,
   "metadata": {},
   "outputs": [
    {
     "name": "stdout",
     "output_type": "stream",
     "text": [
      "+-----------------------+\n",
      "|max(population_density)|\n",
      "+-----------------------+\n",
      "|      71343.51044723816|\n",
      "+-----------------------+\n",
      "\n"
     ]
    }
   ],
   "source": [
    "county_dim_df.agg({'population_density': 'max'}).show()"
   ]
  },
  {
   "cell_type": "markdown",
   "metadata": {},
   "source": [
    "Quick data quality checks, looks like the min and max values are reasonable (not negative, not infinite).\n",
    "\n",
    "Now we're ready to write out the dimension table to parquet."
   ]
  },
  {
   "cell_type": "code",
   "execution_count": 21,
   "metadata": {},
   "outputs": [],
   "source": [
    "county_dim_df.write.partitionBy('state').mode('overwrite').parquet(output_path + \"county_dim.parquet\")"
   ]
  }
 ],
 "metadata": {
  "kernelspec": {
   "display_name": "Python 3",
   "language": "python",
   "name": "python3"
  },
  "language_info": {
   "codemirror_mode": {
    "name": "ipython",
    "version": 3
   },
   "file_extension": ".py",
   "mimetype": "text/x-python",
   "name": "python",
   "nbconvert_exporter": "python",
   "pygments_lexer": "ipython3",
   "version": "3.8.5"
  }
 },
 "nbformat": 4,
 "nbformat_minor": 4
}
