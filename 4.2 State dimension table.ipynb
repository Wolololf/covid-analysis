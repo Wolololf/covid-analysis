{
 "cells": [
  {
   "cell_type": "markdown",
   "metadata": {},
   "source": [
    "#### 4.2 Create the state dimension table\n",
    "- Create state dimension table from health data as a start\n",
    "- Calculate area and population density based on county dim table, group by state\n",
    "- Don't partition? There's only 50 of them anyway"
   ]
  },
  {
   "cell_type": "markdown",
   "metadata": {},
   "source": [
    "##### Setup\n",
    "I'm going to need Spark for this because I'll want to make use of some of its functionality, such as the ability to create temporary SQL views of my dataframes."
   ]
  },
  {
   "cell_type": "code",
   "execution_count": 1,
   "metadata": {},
   "outputs": [],
   "source": [
    "from setup import create_spark_session\n",
    "\n",
    "spark = create_spark_session()"
   ]
  },
  {
   "cell_type": "markdown",
   "metadata": {},
   "source": [
    "Imports and output paths:"
   ]
  },
  {
   "cell_type": "code",
   "execution_count": 2,
   "metadata": {},
   "outputs": [],
   "source": [
    "import pandas as pd\n",
    "from pyspark.sql import functions as F\n",
    "from pyspark.sql.types import *\n",
    "\n",
    "from clean import *\n",
    "from etl import *\n",
    "\n",
    "# For now, just locally, later on maybe write this to S3 instead\n",
    "output_path = \"output/\""
   ]
  },
  {
   "cell_type": "markdown",
   "metadata": {},
   "source": [
    "Let's start with the health data since that has all the relevant information about states in it. How can we tell that this is a state and not a county? State FIPS codes end in \"000\", county ones don't; there's one exception in that the whole of the US has a FIPS code of \"00000\" so we need to handle that."
   ]
  },
  {
   "cell_type": "code",
   "execution_count": 3,
   "metadata": {},
   "outputs": [
    {
     "name": "stdout",
     "output_type": "stream",
     "text": [
      "Started loading county health data\n",
      "Finished loading county health data\n"
     ]
    }
   ],
   "source": [
    "health_df = load_health_data(spark)"
   ]
  },
  {
   "cell_type": "code",
   "execution_count": 4,
   "metadata": {},
   "outputs": [
    {
     "name": "stdout",
     "output_type": "stream",
     "text": [
      "root\n",
      " |-- fips: integer (nullable = true)\n",
      " |-- county_name: string (nullable = true)\n",
      " |-- state: string (nullable = true)\n",
      " |-- population: integer (nullable = true)\n",
      " |-- poor_health: double (nullable = true)\n",
      " |-- smokers: double (nullable = true)\n",
      " |-- obesity: double (nullable = true)\n",
      " |-- physical_inactivity: double (nullable = true)\n",
      " |-- excessive_drinking: double (nullable = true)\n",
      " |-- uninsured: double (nullable = true)\n",
      " |-- physicians: double (nullable = true)\n",
      " |-- unemployment: double (nullable = true)\n",
      " |-- air_pollution: double (nullable = true)\n",
      " |-- housing_problems: double (nullable = true)\n",
      " |-- household_overcrowding: double (nullable = true)\n",
      " |-- food_insecurity: double (nullable = true)\n",
      " |-- residential_segregation: double (nullable = true)\n",
      " |-- over_sixtyfives: double (nullable = true)\n",
      " |-- rural: double (nullable = true)\n",
      "\n"
     ]
    }
   ],
   "source": [
    "health_df.printSchema()"
   ]
  },
  {
   "cell_type": "code",
   "execution_count": 5,
   "metadata": {},
   "outputs": [],
   "source": [
    "health_df = health_df.withColumnRenamed('state', 'abbreviation')"
   ]
  },
  {
   "cell_type": "code",
   "execution_count": 6,
   "metadata": {},
   "outputs": [],
   "source": [
    "state_dim_df = health_df.where((health_df['fips'] != 0) & (health_df['fips'] % 1000 == 0)).drop('fips').withColumnRenamed('county_name', 'state')"
   ]
  },
  {
   "cell_type": "code",
   "execution_count": 7,
   "metadata": {},
   "outputs": [
    {
     "name": "stdout",
     "output_type": "stream",
     "text": [
      "+----------+------------+----------+------------+------------+-------+-------------------+------------------+------------+-----------+------------+-------------+----------------+----------------------+---------------+-----------------------+---------------+------------+\n",
      "|     state|abbreviation|population| poor_health|     smokers|obesity|physical_inactivity|excessive_drinking|   uninsured| physicians|unemployment|air_pollution|housing_problems|household_overcrowding|food_insecurity|residential_segregation|over_sixtyfives|       rural|\n",
      "+----------+------------+----------+------------+------------+-------+-------------------+------------------+------------+-----------+------------+-------------+----------------+----------------------+---------------+-----------------------+---------------+------------+\n",
      "|   Alabama|          AL|   4887871|0.2202870285|0.2092735311|  0.355|              0.298|      0.1390351529|0.1104478259|6.482388E-4|0.0393356691|         11.0|    0.1434070208|                  null|          0.163|           50.777775905|   0.1691726316| 0.409631829|\n",
      "|    Alaska|          AK|    737438|0.1808017613|0.2100785366|  0.325|                0.2|      0.2129393789|0.1475762792|9.097115E-4|0.0658753776|         null|    0.2051671429|                  null|          0.136|           43.340440022|   0.1179909362|0.3398021207|\n",
      "|   Arizona|          AZ|   7171646|0.1855504464|0.1555500301|  0.275|              0.218|      0.1670870284|0.1210220861|6.645981E-4|0.0483188061|          5.8|    0.1845691162|                  null|           0.14|            36.68660884|   0.1754478679|0.1019017941|\n",
      "|  Arkansas|          AR|   3013825|0.2319868077|0.2228625875|  0.342|              0.316|      0.1580533385| 0.093032678|6.657171E-4|0.0370241021|         10.0|     0.143230718|                  null|          0.173|           50.840417823|   0.1698263834|0.4383967588|\n",
      "|California|          CA|  39557045| 0.172182085|0.1133626274|  0.236|              0.176|       0.192207998| 0.082071999|7.927581E-4|0.0420352659|          9.5|    0.2686207996|                  null|           0.11|           37.891200486|   0.1433126514|0.0504738342|\n",
      "+----------+------------+----------+------------+------------+-------+-------------------+------------------+------------+-----------+------------+-------------+----------------+----------------------+---------------+-----------------------+---------------+------------+\n",
      "\n"
     ]
    }
   ],
   "source": [
    "state_dim_df.limit(5).show()"
   ]
  },
  {
   "cell_type": "code",
   "execution_count": 8,
   "metadata": {},
   "outputs": [
    {
     "data": {
      "text/plain": [
       "51"
      ]
     },
     "execution_count": 8,
     "metadata": {},
     "output_type": "execute_result"
    }
   ],
   "source": [
    "state_dim_df.count()"
   ]
  },
  {
   "cell_type": "markdown",
   "metadata": {},
   "source": [
    "Looking good! No problems so far. We do see some null-values in the above data, but they are in the columns we'd expect.\n",
    "\n",
    "The next part is trickier: I want population density data for states as well. The problem is that we don't have state information in the area data, so we'll have to get it from the county dimension table instead."
   ]
  },
  {
   "cell_type": "code",
   "execution_count": 9,
   "metadata": {},
   "outputs": [
    {
     "name": "stdout",
     "output_type": "stream",
     "text": [
      "Started loading county dimension table\n",
      "Finished loading county dimension table\n"
     ]
    }
   ],
   "source": [
    "county_dim_df = load_county_dimension_table(spark)"
   ]
  },
  {
   "cell_type": "code",
   "execution_count": 10,
   "metadata": {},
   "outputs": [
    {
     "name": "stdout",
     "output_type": "stream",
     "text": [
      "+-----+-----------+-----------+------------+----------+------------+------------+-------+-------------------+------------------+------------+-----------+------------+-------------+----------------+----------------------+---------------+-----------------------+---------------+------------+--------+------------------+-----+\n",
      "| fips|county_name|   latitude|   longitude|population| poor_health|     smokers|obesity|physical_inactivity|excessive_drinking|   uninsured| physicians|unemployment|air_pollution|housing_problems|household_overcrowding|food_insecurity|residential_segregation|over_sixtyfives|       rural|    area|population_density|state|\n",
      "+-----+-----------+-----------+------------+----------+------------+------------+-------+-------------------+------------------+------------+-----------+------------+-------------+----------------+----------------------+---------------+-----------------------+---------------+------------+--------+------------------+-----+\n",
      "|48001|   Anderson|31.81534745|-95.65354823|     58057|0.1972772264| 0.173863208|  0.365|              0.231|      0.1923829174|0.1960252936|3.463743E-4|0.0308985187|          9.9|    0.1442365721|          0.0452625226|          0.182|           31.324239849|   0.1479752657|0.6706353279|1062.602|54.636637235766536|Texas|\n",
      "|48003|    Andrews|32.30468633|-102.6376548|     18128|0.1985100222| 0.134363002|  0.349|              0.264|      0.2011542987|0.2205352059|5.078434E-4|0.0239820934|          7.3|    0.1632653061|          0.0797773655|          0.084|           10.286160726|   0.1035966461|0.1650209658|1500.713|12.079591500839934|Texas|\n",
      "|48005|   Angelina|31.25457347|-94.60901487|     87092|0.2090042999|0.1585696582|  0.407|              0.345|      0.1573896433|0.2165753731|5.922214E-4|0.0438816934|          9.8|      0.17461879|          0.0490244302|          0.189|           37.254296744|   0.1632526524|0.4308236623| 797.778|109.16821471637473|Texas|\n",
      "|48007|    Aransas|28.10556197| -96.9995047|     23792|0.2055054094|0.1415745233|  0.405|              0.363|      0.1589120745|0.2230243369|3.519474E-4|0.0571068451|          9.3|    0.1382198953|          0.0256544503|          0.165|           20.556187387|   0.2962760592|0.2726055791| 252.074| 94.38498218777025|Texas|\n",
      "|48009|     Archer|33.61569967|-98.68754589|      8786|0.1389139766|0.1406260699|  0.268|              0.193|      0.1925183263|0.1897820549|       null|  0.03083174|          8.5|    0.0945945946|          0.0222222222|           0.14|           26.771709398|   0.2000910539|0.8898829247|  903.11| 9.728604488932689|Texas|\n",
      "+-----+-----------+-----------+------------+----------+------------+------------+-------+-------------------+------------------+------------+-----------+------------+-------------+----------------+----------------------+---------------+-----------------------+---------------+------------+--------+------------------+-----+\n",
      "\n"
     ]
    }
   ],
   "source": [
    "county_dim_df.limit(5).show()"
   ]
  },
  {
   "cell_type": "code",
   "execution_count": 11,
   "metadata": {},
   "outputs": [
    {
     "name": "stdout",
     "output_type": "stream",
     "text": [
      "+--------------------+------------------+\n",
      "|               state|              area|\n",
      "+--------------------+------------------+\n",
      "|                Utah| 82169.62100000001|\n",
      "|              Hawaii|          6422.628|\n",
      "|           Minnesota|         79626.745|\n",
      "|                Ohio| 40860.69500000001|\n",
      "|            Arkansas| 52035.47799999999|\n",
      "|              Oregon|         95988.012|\n",
      "|               Texas|261231.70899999997|\n",
      "|        North Dakota| 69000.79599999999|\n",
      "|        Pennsylvania|         44742.702|\n",
      "|         Connecticut|          4842.356|\n",
      "|            Nebraska| 76824.17799999997|\n",
      "|             Vermont| 9216.655999999999|\n",
      "|              Nevada|109781.17999999998|\n",
      "|          Washington|          66455.52|\n",
      "|            Illinois|55518.925999999985|\n",
      "|            Oklahoma|          68594.92|\n",
      "|District of Columbia|            61.048|\n",
      "|            Delaware|1948.5439999999999|\n",
      "|              Alaska| 553559.5180000002|\n",
      "|          New Mexico|121298.14800000002|\n",
      "+--------------------+------------------+\n",
      "only showing top 20 rows\n",
      "\n"
     ]
    }
   ],
   "source": [
    "state_area_df = county_dim_df.groupBy('state').agg(F.sum('area').alias('area'))\n",
    "state_area_df.show()"
   ]
  },
  {
   "cell_type": "code",
   "execution_count": 12,
   "metadata": {},
   "outputs": [
    {
     "name": "stdout",
     "output_type": "stream",
     "text": [
      "+----------+------------+----------+------------+------------+-------+-------------------+------------------+------------+-----------+------------+-------------+----------------+----------------------+---------------+-----------------------+---------------+------------+------------------+\n",
      "|     state|abbreviation|population| poor_health|     smokers|obesity|physical_inactivity|excessive_drinking|   uninsured| physicians|unemployment|air_pollution|housing_problems|household_overcrowding|food_insecurity|residential_segregation|over_sixtyfives|       rural|              area|\n",
      "+----------+------------+----------+------------+------------+-------+-------------------+------------------+------------+-----------+------------+-------------+----------------+----------------------+---------------+-----------------------+---------------+------------+------------------+\n",
      "|   Alabama|          AL|   4887871|0.2202870285|0.2092735311|  0.355|              0.298|      0.1390351529|0.1104478259|6.482388E-4|0.0393356691|         11.0|    0.1434070208|                  null|          0.163|           50.777775905|   0.1691726316| 0.409631829| 50645.32500000001|\n",
      "|    Alaska|          AK|    737438|0.1808017613|0.2100785366|  0.325|                0.2|      0.2129393789|0.1475762792|9.097115E-4|0.0658753776|         null|    0.2051671429|                  null|          0.136|           43.340440022|   0.1179909362|0.3398021207| 553559.5180000002|\n",
      "|   Arizona|          AZ|   7171646|0.1855504464|0.1555500301|  0.275|              0.218|      0.1670870284|0.1210220861|6.645981E-4|0.0483188061|          5.8|    0.1845691162|                  null|           0.14|            36.68660884|   0.1754478679|0.1019017941|113594.08499999998|\n",
      "|  Arkansas|          AR|   3013825|0.2319868077|0.2228625875|  0.342|              0.316|      0.1580533385| 0.093032678|6.657171E-4|0.0370241021|         10.0|     0.143230718|                  null|          0.173|           50.840417823|   0.1698263834|0.4383967588| 52035.47799999999|\n",
      "|California|          CA|  39557045| 0.172182085|0.1133626274|  0.236|              0.176|       0.192207998| 0.082071999|7.927581E-4|0.0420352659|          9.5|    0.2686207996|                  null|           0.11|           37.891200486|   0.1433126514|0.0504738342|155779.21800000002|\n",
      "+----------+------------+----------+------------+------------+-------+-------------------+------------------+------------+-----------+------------+-------------+----------------+----------------------+---------------+-----------------------+---------------+------------+------------------+\n",
      "\n"
     ]
    }
   ],
   "source": [
    "state_dim_df = state_dim_df.join(state_area_df, on=[\"state\"], how=\"inner\").select(state_dim_df[\"*\"], state_area_df[\"area\"])\n",
    "state_dim_df.limit(5).show()"
   ]
  },
  {
   "cell_type": "code",
   "execution_count": 13,
   "metadata": {},
   "outputs": [
    {
     "data": {
      "text/plain": [
       "51"
      ]
     },
     "execution_count": 13,
     "metadata": {},
     "output_type": "execute_result"
    }
   ],
   "source": [
    "state_dim_df.count()"
   ]
  },
  {
   "cell_type": "code",
   "execution_count": 14,
   "metadata": {},
   "outputs": [
    {
     "name": "stdout",
     "output_type": "stream",
     "text": [
      "root\n",
      " |-- state: string (nullable = true)\n",
      " |-- abbreviation: string (nullable = true)\n",
      " |-- population: integer (nullable = true)\n",
      " |-- poor_health: double (nullable = true)\n",
      " |-- smokers: double (nullable = true)\n",
      " |-- obesity: double (nullable = true)\n",
      " |-- physical_inactivity: double (nullable = true)\n",
      " |-- excessive_drinking: double (nullable = true)\n",
      " |-- uninsured: double (nullable = true)\n",
      " |-- physicians: double (nullable = true)\n",
      " |-- unemployment: double (nullable = true)\n",
      " |-- air_pollution: double (nullable = true)\n",
      " |-- housing_problems: double (nullable = true)\n",
      " |-- household_overcrowding: double (nullable = true)\n",
      " |-- food_insecurity: double (nullable = true)\n",
      " |-- residential_segregation: double (nullable = true)\n",
      " |-- over_sixtyfives: double (nullable = true)\n",
      " |-- rural: double (nullable = true)\n",
      " |-- area: double (nullable = true)\n",
      "\n"
     ]
    }
   ],
   "source": [
    "state_dim_df.printSchema()"
   ]
  },
  {
   "cell_type": "code",
   "execution_count": 15,
   "metadata": {},
   "outputs": [
    {
     "name": "stdout",
     "output_type": "stream",
     "text": [
      "+---------+----------+-----------------+------------------+\n",
      "|    state|population|             area|population_density|\n",
      "+---------+----------+-----------------+------------------+\n",
      "|     Utah|   3161105|82169.62100000001|  38.4704829051116|\n",
      "|   Hawaii|   1420491|         6422.628|221.16974546867732|\n",
      "|Minnesota|   5611179|        79626.745| 70.46852160037434|\n",
      "|     Ohio|  11689442|40860.69500000001| 286.0803517903941|\n",
      "| Arkansas|   3013825|52035.47799999999|57.918656959392216|\n",
      "+---------+----------+-----------------+------------------+\n",
      "\n"
     ]
    }
   ],
   "source": [
    "state_dim_df = state_dim_df.withColumn('population_density', state_dim_df['population'] / state_dim_df['area'])\n",
    "state_dim_df[['state', 'population', 'area', 'population_density']].limit(5).show()"
   ]
  },
  {
   "cell_type": "code",
   "execution_count": 16,
   "metadata": {},
   "outputs": [
    {
     "name": "stdout",
     "output_type": "stream",
     "text": [
      "+-----------------------+\n",
      "|min(population_density)|\n",
      "+-----------------------+\n",
      "|     1.3321747274156701|\n",
      "+-----------------------+\n",
      "\n"
     ]
    }
   ],
   "source": [
    "state_dim_df.agg({'population_density': 'min'}).show()"
   ]
  },
  {
   "cell_type": "code",
   "execution_count": 17,
   "metadata": {},
   "outputs": [
    {
     "name": "stdout",
     "output_type": "stream",
     "text": [
      "+-----------------------+\n",
      "|max(population_density)|\n",
      "+-----------------------+\n",
      "|      11506.60136286201|\n",
      "+-----------------------+\n",
      "\n"
     ]
    }
   ],
   "source": [
    "state_dim_df.agg({'population_density': 'max'}).show()"
   ]
  },
  {
   "cell_type": "markdown",
   "metadata": {},
   "source": [
    "Quick data quality checks, looks like the min and max values are reasonable (not negative, not infinite).\n",
    "\n",
    "Now we're ready to write out the dimension table to parquet."
   ]
  },
  {
   "cell_type": "code",
   "execution_count": 19,
   "metadata": {},
   "outputs": [],
   "source": [
    "state_dim_df.write.mode('overwrite').parquet(output_path + \"state_dim.parquet\")"
   ]
  }
 ],
 "metadata": {
  "kernelspec": {
   "display_name": "Python 3",
   "language": "python",
   "name": "python3"
  },
  "language_info": {
   "codemirror_mode": {
    "name": "ipython",
    "version": 3
   },
   "file_extension": ".py",
   "mimetype": "text/x-python",
   "name": "python",
   "nbconvert_exporter": "python",
   "pygments_lexer": "ipython3",
   "version": "3.8.5"
  }
 },
 "nbformat": 4,
 "nbformat_minor": 4
}
