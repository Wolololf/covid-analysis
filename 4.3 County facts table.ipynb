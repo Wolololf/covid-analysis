{
 "cells": [
  {
   "cell_type": "markdown",
   "metadata": {},
   "source": [
    "#### 4.3 Create the county facts table\n",
    "- Start with covid case data, split out date columns into a table with county-date-case rows\n",
    "- Window with county partition and date sorting, calculate data by lagging one behind with 0 fill\n",
    "- Do the same for covid death data, then join\n",
    "- Same for all the weather data, keep joining\n",
    "- Write to parquet partitioned by day"
   ]
  },
  {
   "cell_type": "markdown",
   "metadata": {},
   "source": [
    "##### Setup\n",
    "I'm going to need Spark for this because I'll want to make use of some of its functionality, such as the ability to create temporary SQL views of my dataframes."
   ]
  },
  {
   "cell_type": "code",
   "execution_count": 1,
   "metadata": {},
   "outputs": [],
   "source": [
    "from setup import create_spark_session\n",
    "\n",
    "spark = create_spark_session()"
   ]
  },
  {
   "cell_type": "markdown",
   "metadata": {},
   "source": [
    "Imports and output paths:"
   ]
  },
  {
   "cell_type": "code",
   "execution_count": 2,
   "metadata": {},
   "outputs": [],
   "source": [
    "import pandas as pd\n",
    "from pyspark.sql import functions as F\n",
    "from pyspark.sql.types import *\n",
    "from pyspark.sql.window import Window\n",
    "\n",
    "from clean import *\n",
    "from etl import *\n",
    "\n",
    "# For now, just locally, later on maybe write this to S3 instead\n",
    "output_path = \"output/\""
   ]
  },
  {
   "cell_type": "markdown",
   "metadata": {},
   "source": [
    "Let's first load in the cleaned Covid data and inspect the schema:"
   ]
  },
  {
   "cell_type": "code",
   "execution_count": 3,
   "metadata": {},
   "outputs": [],
   "source": [
    "covid_cases_df = load_covid_case_data(spark)"
   ]
  },
  {
   "cell_type": "markdown",
   "metadata": {},
   "source": [
    "First, let's extract all the dates from the Covid-19 data set. This is so we can avoid having to cast the column names to dates constantly, instead we can do it once and cache them here.  \n",
    "Apparently, I have to store them as unix timestamps; I tried keeping them as DateType, but when I later use them to construct the dataframe, it just gives me empty lists instead of datetimes."
   ]
  },
  {
   "cell_type": "code",
   "execution_count": 4,
   "metadata": {},
   "outputs": [
    {
     "data": {
      "text/plain": [
       "[1579651200, 1579737600, 1579824000, 1579910400, 1579996800]"
      ]
     },
     "execution_count": 4,
     "metadata": {},
     "output_type": "execute_result"
    }
   ],
   "source": [
    "unix_time = pd.Timestamp(\"1970-01-01\")\n",
    "second = pd.Timedelta('1s')\n",
    "\n",
    "date_list = [(pd.to_datetime(c) - unix_time) // second for c in covid_cases_df.columns[5:]]\n",
    "date_list[:5]"
   ]
  },
  {
   "cell_type": "markdown",
   "metadata": {},
   "source": [
    "We only need the FIPS codes and the time columns, let's extract these."
   ]
  },
  {
   "cell_type": "code",
   "execution_count": 5,
   "metadata": {},
   "outputs": [
    {
     "data": {
      "text/plain": [
       "['fips', 'state', '1/22/20', '1/23/20', '1/24/20']"
      ]
     },
     "execution_count": 5,
     "metadata": {},
     "output_type": "execute_result"
    }
   ],
   "source": [
    "time_data_columns = covid_cases_df.columns[5:]\n",
    "time_data_columns.insert(0, 'fips')\n",
    "time_data_columns.insert(1, 'state')\n",
    "\n",
    "time_data_columns[:5]"
   ]
  },
  {
   "cell_type": "markdown",
   "metadata": {},
   "source": [
    "For each row in the dataframe, for each time column, we want to create one new row in a new dataframe where each row contains the FIPS code (to identify the county), the date of the column, and the case count for this county at that date.  \n",
    "We store these as a tuple in the list so that we can insert each tuple as a row into a dataframe later on."
   ]
  },
  {
   "cell_type": "code",
   "execution_count": 6,
   "metadata": {},
   "outputs": [
    {
     "data": {
      "text/plain": [
       "[(1001, 'Alabama', 1579651200, 0),\n",
       " (1001, 'Alabama', 1579737600, 0),\n",
       " (1001, 'Alabama', 1579824000, 0),\n",
       " (1001, 'Alabama', 1579910400, 0),\n",
       " (1001, 'Alabama', 1579996800, 0)]"
      ]
     },
     "execution_count": 6,
     "metadata": {},
     "output_type": "execute_result"
    }
   ],
   "source": [
    "time_series = []\n",
    "\n",
    "def extract_county_case_data(row):\n",
    "    fips = time_data_columns[0]\n",
    "    state = time_data_columns[1]\n",
    "    for i in range(2, len(time_data_columns)):\n",
    "        time_series.append((row[fips], row[state], date_list[i - 2], row[time_data_columns[i]]))\n",
    "\n",
    "# I have no idea why the foreach doesn't work, I can only get it working if I collect the data\n",
    "#covid_cases_df.limit(5).foreach(extract_county_case_data)\n",
    "\n",
    "for row in covid_cases_df.collect():\n",
    "    extract_county_case_data(row)\n",
    "\n",
    "time_series[:5]"
   ]
  },
  {
   "cell_type": "markdown",
   "metadata": {},
   "source": [
    "We've got the values for the rows, now we just need to define the column names and build the dataframe."
   ]
  },
  {
   "cell_type": "code",
   "execution_count": 7,
   "metadata": {},
   "outputs": [
    {
     "name": "stdout",
     "output_type": "stream",
     "text": [
      "+----+-------+----------+----------------+\n",
      "|fips|  state| timestamp|covid_case_total|\n",
      "+----+-------+----------+----------------+\n",
      "|1001|Alabama|1579651200|               0|\n",
      "|1001|Alabama|1579737600|               0|\n",
      "|1001|Alabama|1579824000|               0|\n",
      "|1001|Alabama|1579910400|               0|\n",
      "|1001|Alabama|1579996800|               0|\n",
      "+----+-------+----------+----------------+\n",
      "\n"
     ]
    }
   ],
   "source": [
    "time_series_columns = ['fips', 'state', 'timestamp', 'covid_case_total']\n",
    "\n",
    "county_cases_df = spark.createDataFrame(time_series, time_series_columns)\n",
    "county_cases_df.limit(5).show()"
   ]
  },
  {
   "cell_type": "markdown",
   "metadata": {},
   "source": [
    "We could just keep the timestamps? I don't know if we need the datetimes since we'll fetch these from another table. I'll keep these in for now because it makes it easier for me to tell which dates I'm dealing with while debugging."
   ]
  },
  {
   "cell_type": "code",
   "execution_count": 8,
   "metadata": {},
   "outputs": [
    {
     "name": "stdout",
     "output_type": "stream",
     "text": [
      "+----+-------+----------+----------------+----------+\n",
      "|fips|  state| timestamp|covid_case_total|      date|\n",
      "+----+-------+----------+----------------+----------+\n",
      "|1001|Alabama|1579651200|               0|2020-01-22|\n",
      "|1001|Alabama|1579737600|               0|2020-01-23|\n",
      "|1001|Alabama|1579824000|               0|2020-01-24|\n",
      "|1001|Alabama|1579910400|               0|2020-01-25|\n",
      "|1001|Alabama|1579996800|               0|2020-01-26|\n",
      "+----+-------+----------+----------------+----------+\n",
      "\n"
     ]
    }
   ],
   "source": [
    "county_cases_df = county_cases_df.withColumn(\"date\", F.from_unixtime(\"timestamp\").cast(DateType()))\n",
    "county_cases_df.limit(5).show()"
   ]
  },
  {
   "cell_type": "markdown",
   "metadata": {},
   "source": [
    "We only have the cumulative Covid-19 case counts, not the daily increase. Since we're most likely going to check the delta quite frequently, let's add that to the data set:"
   ]
  },
  {
   "cell_type": "code",
   "execution_count": 9,
   "metadata": {},
   "outputs": [
    {
     "name": "stdout",
     "output_type": "stream",
     "text": [
      "+----+--------+----------+----------------+----------+----------------+\n",
      "|fips|   state| timestamp|covid_case_total|      date|covid_case_delta|\n",
      "+----+--------+----------+----------------+----------+----------------+\n",
      "|8075|Colorado|1579651200|               0|2020-01-22|               0|\n",
      "|8075|Colorado|1579737600|               0|2020-01-23|               0|\n",
      "|8075|Colorado|1579824000|               0|2020-01-24|               0|\n",
      "|8075|Colorado|1579910400|               0|2020-01-25|               0|\n",
      "|8075|Colorado|1579996800|               0|2020-01-26|               0|\n",
      "+----+--------+----------+----------------+----------+----------------+\n",
      "\n"
     ]
    }
   ],
   "source": [
    "windowSpec = Window \\\n",
    "    .partitionBy(county_cases_df['fips']) \\\n",
    "    .orderBy(county_cases_df['timestamp'].asc())\n",
    "\n",
    "''' This is more long-form, I wrote this because I thought that lagged numbers were bleeding across partition boundaries, but that doesn't seem to be the case.\n",
    "county_cases_df = county_cases_df.withColumn('lag', F.lag(county_cases_df['covid_case_total']).over(windowSpec))\n",
    "\n",
    "county_cases_df = county_cases_df.withColumn('covid_case_delta', \\\n",
    "    F.when(county_cases_df['lag'].isNull(), 0) \\\n",
    "    .otherwise(county_cases_df['covid_case_total'] - county_cases_df['lag']))\n",
    "\n",
    "county_cases_df = county_cases_df.drop('lag')\n",
    "'''\n",
    "\n",
    "county_cases_df = county_cases_df.withColumn('covid_case_delta', \\\n",
    "    county_cases_df['covid_case_total'] - F.lag(county_cases_df['covid_case_total'], 1, 0).over(windowSpec))\n",
    "\n",
    "county_cases_df.limit(5).show()"
   ]
  },
  {
   "cell_type": "code",
   "execution_count": 10,
   "metadata": {},
   "outputs": [
    {
     "data": {
      "text/plain": [
       "0"
      ]
     },
     "execution_count": 10,
     "metadata": {},
     "output_type": "execute_result"
    }
   ],
   "source": [
    "county_cases_df.where(county_cases_df['covid_case_delta'].isNull()).count()"
   ]
  },
  {
   "cell_type": "markdown",
   "metadata": {},
   "source": [
    "So far, so good, no null entries in the delta column."
   ]
  },
  {
   "cell_type": "code",
   "execution_count": 11,
   "metadata": {},
   "outputs": [
    {
     "name": "stdout",
     "output_type": "stream",
     "text": [
      "+---------------------+\n",
      "|max(covid_case_delta)|\n",
      "+---------------------+\n",
      "|                29423|\n",
      "+---------------------+\n",
      "\n"
     ]
    }
   ],
   "source": [
    "county_cases_df.agg({'covid_case_delta': 'max'}).show()"
   ]
  },
  {
   "cell_type": "code",
   "execution_count": 12,
   "metadata": {},
   "outputs": [
    {
     "name": "stdout",
     "output_type": "stream",
     "text": [
      "+---------------------+\n",
      "|min(covid_case_delta)|\n",
      "+---------------------+\n",
      "|                -3059|\n",
      "+---------------------+\n",
      "\n"
     ]
    }
   ],
   "source": [
    "county_cases_df.agg({'covid_case_delta': 'min'}).show()"
   ]
  },
  {
   "cell_type": "markdown",
   "metadata": {},
   "source": [
    "Wait, what? Why do we have negative case counts here?"
   ]
  },
  {
   "cell_type": "code",
   "execution_count": 13,
   "metadata": {},
   "outputs": [
    {
     "name": "stdout",
     "output_type": "stream",
     "text": [
      "+-----+--------+----------+----------------+----------+----------------+\n",
      "| fips|   state| timestamp|covid_case_total|      date|covid_case_delta|\n",
      "+-----+--------+----------+----------------+----------+----------------+\n",
      "| 8075|Colorado|1613433600|            3692|2021-02-16|              -1|\n",
      "|18147| Indiana|1596499200|             112|2020-08-04|              -2|\n",
      "|18147| Indiana|1600732800|             215|2020-09-22|              -6|\n",
      "|19141|    Iowa|1587772800|               4|2020-04-25|              -1|\n",
      "|19141|    Iowa|1589500800|              20|2020-05-15|              -1|\n",
      "|19141|    Iowa|1589846400|              21|2020-05-19|              -1|\n",
      "|19141|    Iowa|1590796800|              27|2020-05-30|              -1|\n",
      "|19141|    Iowa|1590969600|              30|2020-06-01|              -1|\n",
      "|19141|    Iowa|1613779200|            1912|2021-02-20|              -1|\n",
      "|19141|    Iowa|1614211200|            1929|2021-02-25|              -1|\n",
      "|19163|    Iowa|1591401600|             384|2020-06-06|              -1|\n",
      "|21209|Kentucky|1586908800|              21|2020-04-15|              -5|\n",
      "|21209|Kentucky|1587340800|              22|2020-04-20|              -1|\n",
      "|21209|Kentucky|1587945600|              24|2020-04-27|              -1|\n",
      "|21209|Kentucky|1588723200|              24|2020-05-06|              -1|\n",
      "|21209|Kentucky|1589760000|              33|2020-05-18|              -1|\n",
      "|21209|Kentucky|1593216000|              82|2020-06-27|              -1|\n",
      "|21209|Kentucky|1594944000|             136|2020-07-17|              -1|\n",
      "|21223|Kentucky|1586822400|               1|2020-04-14|              -1|\n",
      "|21223|Kentucky|1591833600|               5|2020-06-11|              -1|\n",
      "+-----+--------+----------+----------------+----------+----------------+\n",
      "only showing top 20 rows\n",
      "\n"
     ]
    }
   ],
   "source": [
    "county_cases_df.where(county_cases_df['covid_case_delta'] < 0).show()"
   ]
  },
  {
   "cell_type": "code",
   "execution_count": 14,
   "metadata": {},
   "outputs": [
    {
     "data": {
      "text/plain": [
       "15355"
      ]
     },
     "execution_count": 14,
     "metadata": {},
     "output_type": "execute_result"
    }
   ],
   "source": [
    "county_cases_df.where(county_cases_df['covid_case_delta'] < 0).count()"
   ]
  },
  {
   "cell_type": "code",
   "execution_count": 15,
   "metadata": {},
   "outputs": [
    {
     "data": {
      "text/plain": [
       "717783"
      ]
     },
     "execution_count": 15,
     "metadata": {},
     "output_type": "execute_result"
    }
   ],
   "source": [
    "county_cases_df.where(county_cases_df['covid_case_delta'] > 0).count()"
   ]
  },
  {
   "cell_type": "markdown",
   "metadata": {},
   "source": [
    "There seem to be a fair few cases of this, but there aren't that many compared to the amount of actual increases, so it seems to work in most cases. It's also not just occurring once per FIPS code which might indicate an issue with my windowing logic.\n",
    "\n",
    "At a guess, this is due to overreporting some cases one day and then correcting them the next day. These are case numbers as well, so it's possible that someone received a false positive and got scrubbed from the case counts again."
   ]
  },
  {
   "cell_type": "code",
   "execution_count": 16,
   "metadata": {},
   "outputs": [
    {
     "data": {
      "text/plain": [
       "442"
      ]
     },
     "execution_count": 16,
     "metadata": {},
     "output_type": "execute_result"
    }
   ],
   "source": [
    "county_cases_df.where(county_cases_df['covid_case_delta'] < -20).count()"
   ]
  },
  {
   "cell_type": "code",
   "execution_count": 17,
   "metadata": {},
   "outputs": [
    {
     "name": "stdout",
     "output_type": "stream",
     "text": [
      "+-----+-------------+----------+----------------+----------+----------------+\n",
      "| fips|        state| timestamp|covid_case_total|      date|covid_case_delta|\n",
      "+-----+-------------+----------+----------------+----------+----------------+\n",
      "|48041|        Texas|1589932800|             262|2020-05-20|             -79|\n",
      "|48041|        Texas|1600473600|            6118|2020-09-19|            -483|\n",
      "|48229|        Texas|1605916800|             156|2020-11-21|             -24|\n",
      "|48229|        Texas|1611187200|             466|2021-01-21|             -29|\n",
      "|48229|        Texas|1612483200|             465|2021-02-05|             -60|\n",
      "|55093|    Wisconsin|1603238400|             842|2020-10-21|             -26|\n",
      "|55093|    Wisconsin|1610496000|            3887|2021-01-13|             -52|\n",
      "|21121|     Kentucky|1604880000|             969|2020-11-09|             -28|\n",
      "|46099| South Dakota|1592611200|            3503|2020-06-20|             -23|\n",
      "|48441|        Texas|1588809600|             206|2020-05-07|            -172|\n",
      "|48441|        Texas|1594684800|             794|2020-07-14|            -380|\n",
      "|48147|        Texas|1597363200|             276|2020-08-14|             -34|\n",
      "|48147|        Texas|1610496000|            2163|2021-01-13|             -97|\n",
      "|21041|     Kentucky|1608681600|             499|2020-12-23|             -23|\n",
      "|48093|        Texas|1596585600|             121|2020-08-05|            -115|\n",
      "|12085|      Florida|1599004800|            4509|2020-09-02|             -24|\n",
      "|12085|      Florida|1599696000|            4526|2020-09-10|             -34|\n",
      "|17179|     Illinois|1597190400|             581|2020-08-12|             -29|\n",
      "|13091|      Georgia|1595980800|             178|2020-07-29|             -27|\n",
      "|25023|Massachusetts|1599091200|            9153|2020-09-03|             -35|\n",
      "+-----+-------------+----------+----------------+----------+----------------+\n",
      "only showing top 20 rows\n",
      "\n"
     ]
    }
   ],
   "source": [
    "county_cases_df.where(county_cases_df['covid_case_delta'] < -20).show()"
   ]
  },
  {
   "cell_type": "markdown",
   "metadata": {},
   "source": [
    "Ok, so there are still several hundred cases where more than 20 negative cases were reported. Still, this doesn't seem to be a bug, but just something inherent to the data. I checked a few of these by hand in the source data, and the data on days right after the decrease looks fine again, it jumps back up to the previous value and beyond. This makes me think that at least some of these are mistakes in data entry.\n",
    "\n",
    "I'll attempt to fix up the broken deltas and totals by interpolating using the neighbouring rows."
   ]
  },
  {
   "cell_type": "code",
   "execution_count": 18,
   "metadata": {},
   "outputs": [],
   "source": [
    "adjusted_county_cases_df = county_cases_df.withColumn('lag', F.lag(county_cases_df['covid_case_total'], 1).over(windowSpec))\n",
    "adjusted_county_cases_df = adjusted_county_cases_df.withColumn('lead', F.lead(county_cases_df['covid_case_total'], 1).over(windowSpec))\n",
    "adjusted_county_cases_df = adjusted_county_cases_df.withColumn('next_delta', F.lead(county_cases_df['covid_case_delta'], 1).over(windowSpec))\n",
    "\n",
    "# Get rid of overreporting\n",
    "adjusted_county_cases_df = adjusted_county_cases_df.withColumn('covid_case_total', \\\n",
    "    F.when((adjusted_county_cases_df['next_delta'] >= 0) | adjusted_county_cases_df['lag'].isNull() | (adjusted_county_cases_df['lead'].isNull()), county_cases_df['covid_case_total']) \\\n",
    "    .otherwise(F.ceil((adjusted_county_cases_df['lead'] + adjusted_county_cases_df['lag']) / 2)))\n",
    "\n",
    "adjusted_county_cases_df = adjusted_county_cases_df.withColumn('lag', F.lag(adjusted_county_cases_df['covid_case_total'], 1).over(windowSpec))\n",
    "\n",
    "adjusted_county_cases_df = adjusted_county_cases_df.withColumn('covid_case_delta', \\\n",
    "    adjusted_county_cases_df['covid_case_total'] - adjusted_county_cases_df['lag'])\n",
    "\n",
    "adjusted_county_cases_df = adjusted_county_cases_df.drop('lag').drop('lead').drop('next_delta')"
   ]
  },
  {
   "cell_type": "code",
   "execution_count": 19,
   "metadata": {},
   "outputs": [
    {
     "name": "stdout",
     "output_type": "stream",
     "text": [
      "+---------------------+\n",
      "|min(covid_case_delta)|\n",
      "+---------------------+\n",
      "|                -1364|\n",
      "+---------------------+\n",
      "\n"
     ]
    }
   ],
   "source": [
    "adjusted_county_cases_df.agg({'covid_case_delta': 'min'}).show()"
   ]
  },
  {
   "cell_type": "code",
   "execution_count": 20,
   "metadata": {},
   "outputs": [
    {
     "data": {
      "text/plain": [
       "7717"
      ]
     },
     "execution_count": 20,
     "metadata": {},
     "output_type": "execute_result"
    }
   ],
   "source": [
    "adjusted_county_cases_df.where(adjusted_county_cases_df['covid_case_delta'] < 0).count()"
   ]
  },
  {
   "cell_type": "code",
   "execution_count": 21,
   "metadata": {},
   "outputs": [
    {
     "name": "stdout",
     "output_type": "stream",
     "text": [
      "+-----+-------------+----------+----------------+----------+----------------+\n",
      "| fips|        state| timestamp|covid_case_total|      date|covid_case_delta|\n",
      "+-----+-------------+----------+----------------+----------+----------------+\n",
      "|18147|      Indiana|1596499200|             112|2020-08-04|              -1|\n",
      "|18147|      Indiana|1600646400|             217|2020-09-21|              -2|\n",
      "|18147|      Indiana|1600732800|             215|2020-09-22|              -2|\n",
      "|19141|         Iowa|1589846400|              21|2020-05-19|              -1|\n",
      "|21209|     Kentucky|1586908800|              21|2020-04-15|              -1|\n",
      "|21209|     Kentucky|1587340800|              22|2020-04-20|              -1|\n",
      "|21209|     Kentucky|1589760000|              33|2020-05-18|              -1|\n",
      "|21223|     Kentucky|1586822400|               1|2020-04-14|              -1|\n",
      "|21223|     Kentucky|1591833600|               5|2020-06-11|              -1|\n",
      "|21223|     Kentucky|1591920000|               4|2020-06-12|              -1|\n",
      "|21223|     Kentucky|1596931200|              32|2020-08-09|              -1|\n",
      "|21223|     Kentucky|1603152000|              80|2020-10-20|              -1|\n",
      "|23019|        Maine|1592265600|             101|2020-06-16|              -1|\n",
      "|23019|        Maine|1596931200|             151|2020-08-09|              -1|\n",
      "|23019|        Maine|1597017600|             150|2020-08-10|              -1|\n",
      "|29089|     Missouri|1599436800|             134|2020-09-07|              -5|\n",
      "|29089|     Missouri|1599523200|             129|2020-09-08|              -5|\n",
      "|30025|      Montana|1607817600|             261|2020-12-13|              -1|\n",
      "|54039|West Virginia|1589673600|             205|2020-05-17|              -1|\n",
      "|54039|West Virginia|1589760000|             203|2020-05-18|              -2|\n",
      "+-----+-------------+----------+----------------+----------+----------------+\n",
      "only showing top 20 rows\n",
      "\n"
     ]
    }
   ],
   "source": [
    "adjusted_county_cases_df.where(adjusted_county_cases_df['covid_case_delta'] < 0).show()"
   ]
  },
  {
   "cell_type": "code",
   "execution_count": 22,
   "metadata": {},
   "outputs": [
    {
     "data": {
      "text/plain": [
       "258"
      ]
     },
     "execution_count": 22,
     "metadata": {},
     "output_type": "execute_result"
    }
   ],
   "source": [
    "adjusted_county_cases_df.where(adjusted_county_cases_df['covid_case_delta'] < -20).count()"
   ]
  },
  {
   "cell_type": "code",
   "execution_count": 23,
   "metadata": {},
   "outputs": [
    {
     "name": "stdout",
     "output_type": "stream",
     "text": [
      "+-----+----------+----------+----------------+----------+----------------+\n",
      "| fips|     state| timestamp|covid_case_total|      date|covid_case_delta|\n",
      "+-----+----------+----------+----------------+----------+----------------+\n",
      "|48041|     Texas|1589846400|             298|2020-05-19|             -35|\n",
      "|48041|     Texas|1589932800|             262|2020-05-20|             -36|\n",
      "|48041|     Texas|1600387200|            6326|2020-09-18|            -207|\n",
      "|48041|     Texas|1600473600|            6118|2020-09-19|            -208|\n",
      "|48229|     Texas|1612396800|             495|2021-02-04|             -30|\n",
      "|48229|     Texas|1612483200|             465|2021-02-05|             -30|\n",
      "|48441|     Texas|1588723200|             281|2020-05-06|             -75|\n",
      "|48441|     Texas|1588809600|             206|2020-05-07|             -75|\n",
      "|48093|     Texas|1596499200|             176|2020-08-04|             -54|\n",
      "|48093|     Texas|1596585600|             121|2020-08-05|             -55|\n",
      "|20079|    Kansas|1611187200|            3201|2021-01-21|             -68|\n",
      "|20079|    Kansas|1611273600|            3133|2021-01-22|             -68|\n",
      "|36079|  New York|1587513600|             711|2020-04-22|             -96|\n",
      "|36079|  New York|1587600000|             615|2020-04-23|             -96|\n",
      "| 6045|California|1606435200|            1436|2020-11-27|             -49|\n",
      "| 6045|California|1606521600|            1387|2020-11-28|             -49|\n",
      "| 6045|California|1608249600|            2056|2020-12-18|             -78|\n",
      "| 6045|California|1608336000|            1977|2020-12-19|             -79|\n",
      "|12127|   Florida|1613347200|           33178|2021-02-15|             -86|\n",
      "|12127|   Florida|1613433600|           33092|2021-02-16|             -86|\n",
      "+-----+----------+----------+----------------+----------+----------------+\n",
      "only showing top 20 rows\n",
      "\n"
     ]
    }
   ],
   "source": [
    "adjusted_county_cases_df.where(adjusted_county_cases_df['covid_case_delta'] < -20).show()"
   ]
  },
  {
   "cell_type": "markdown",
   "metadata": {},
   "source": [
    "This seems to have worked somewhat. The maximum drop is reduced, and we have less than one-fifth the amount of negative deltas as before, and only 12 outliers.  \n",
    "Spot checks on the source data shows that we eliminated the one-off drops, but there are still drops when the incorrect data persists over multiple days. I don't feel comfortable messing with the data this much since multi-day data entry issues seem unlikelier than that the case count did in fact change, due to correction, false positives, etc."
   ]
  },
  {
   "cell_type": "markdown",
   "metadata": {},
   "source": [
    "Now let's do it all again for the death data:"
   ]
  },
  {
   "cell_type": "code",
   "execution_count": 24,
   "metadata": {},
   "outputs": [
    {
     "name": "stdout",
     "output_type": "stream",
     "text": [
      "+----+-----------+-------+-----------+------------+----------+-------+-------+-------+-------+-------+-------+-------+-------+-------+-------+------+------+------+------+------+------+------+------+------+-------+-------+-------+-------+-------+-------+-------+-------+-------+-------+-------+-------+-------+-------+-------+-------+-------+-------+-------+-------+------+------+------+------+------+------+------+------+------+-------+-------+-------+-------+-------+-------+-------+-------+-------+-------+-------+-------+-------+-------+-------+-------+-------+-------+-------+-------+-------+-------+------+------+------+------+------+------+------+------+------+-------+-------+-------+-------+-------+-------+-------+-------+-------+-------+-------+-------+-------+-------+-------+-------+-------+-------+-------+-------+-------+------+------+------+------+------+------+------+------+------+-------+-------+-------+-------+-------+-------+-------+-------+-------+-------+-------+-------+-------+-------+-------+-------+-------+-------+-------+-------+-------+-------+------+------+------+------+------+------+------+------+------+-------+-------+-------+-------+-------+-------+-------+-------+-------+-------+-------+-------+-------+-------+-------+-------+-------+-------+-------+-------+-------+------+------+------+------+------+------+------+------+------+-------+-------+-------+-------+-------+-------+-------+-------+-------+-------+-------+-------+-------+-------+-------+-------+-------+-------+-------+-------+-------+-------+------+------+------+------+------+------+------+------+------+-------+-------+-------+-------+-------+-------+-------+-------+-------+-------+-------+-------+-------+-------+-------+-------+-------+-------+-------+-------+-------+-------+------+------+------+------+------+------+------+------+------+-------+-------+-------+-------+-------+-------+-------+-------+-------+-------+-------+-------+-------+-------+-------+-------+-------+-------+-------+-------+-------+-------+-------+-------+-------+-------+-------+-------+-------+-------+--------+--------+--------+--------+--------+--------+--------+--------+--------+--------+--------+--------+--------+--------+--------+--------+--------+--------+--------+--------+--------+--------+-------+-------+-------+-------+-------+-------+-------+-------+-------+--------+--------+--------+--------+--------+--------+--------+--------+--------+--------+--------+--------+--------+--------+--------+--------+--------+--------+--------+--------+--------+-------+-------+-------+-------+-------+-------+-------+-------+-------+--------+--------+--------+--------+--------+--------+--------+--------+--------+--------+--------+--------+--------+--------+--------+--------+--------+--------+--------+--------+--------+--------+------+------+------+------+------+------+------+------+------+-------+-------+-------+-------+-------+-------+-------+-------+-------+-------+-------+-------+-------+-------+-------+-------+-------+-------+-------+-------+-------+-------+------+------+------+------+------+------+------+------+------+-------+-------+-------+-------+-------+-------+-------+-------+-------+-------+-------+-------+-------+-------+-------+-------+-------+-------+\n",
      "|fips|county_name|  state|   latitude|   longitude|Population|1/22/20|1/23/20|1/24/20|1/25/20|1/26/20|1/27/20|1/28/20|1/29/20|1/30/20|1/31/20|2/1/20|2/2/20|2/3/20|2/4/20|2/5/20|2/6/20|2/7/20|2/8/20|2/9/20|2/10/20|2/11/20|2/12/20|2/13/20|2/14/20|2/15/20|2/16/20|2/17/20|2/18/20|2/19/20|2/20/20|2/21/20|2/22/20|2/23/20|2/24/20|2/25/20|2/26/20|2/27/20|2/28/20|2/29/20|3/1/20|3/2/20|3/3/20|3/4/20|3/5/20|3/6/20|3/7/20|3/8/20|3/9/20|3/10/20|3/11/20|3/12/20|3/13/20|3/14/20|3/15/20|3/16/20|3/17/20|3/18/20|3/19/20|3/20/20|3/21/20|3/22/20|3/23/20|3/24/20|3/25/20|3/26/20|3/27/20|3/28/20|3/29/20|3/30/20|3/31/20|4/1/20|4/2/20|4/3/20|4/4/20|4/5/20|4/6/20|4/7/20|4/8/20|4/9/20|4/10/20|4/11/20|4/12/20|4/13/20|4/14/20|4/15/20|4/16/20|4/17/20|4/18/20|4/19/20|4/20/20|4/21/20|4/22/20|4/23/20|4/24/20|4/25/20|4/26/20|4/27/20|4/28/20|4/29/20|4/30/20|5/1/20|5/2/20|5/3/20|5/4/20|5/5/20|5/6/20|5/7/20|5/8/20|5/9/20|5/10/20|5/11/20|5/12/20|5/13/20|5/14/20|5/15/20|5/16/20|5/17/20|5/18/20|5/19/20|5/20/20|5/21/20|5/22/20|5/23/20|5/24/20|5/25/20|5/26/20|5/27/20|5/28/20|5/29/20|5/30/20|5/31/20|6/1/20|6/2/20|6/3/20|6/4/20|6/5/20|6/6/20|6/7/20|6/8/20|6/9/20|6/10/20|6/11/20|6/12/20|6/13/20|6/14/20|6/15/20|6/16/20|6/17/20|6/18/20|6/19/20|6/20/20|6/21/20|6/22/20|6/23/20|6/24/20|6/25/20|6/26/20|6/27/20|6/28/20|6/29/20|6/30/20|7/1/20|7/2/20|7/3/20|7/4/20|7/5/20|7/6/20|7/7/20|7/8/20|7/9/20|7/10/20|7/11/20|7/12/20|7/13/20|7/14/20|7/15/20|7/16/20|7/17/20|7/18/20|7/19/20|7/20/20|7/21/20|7/22/20|7/23/20|7/24/20|7/25/20|7/26/20|7/27/20|7/28/20|7/29/20|7/30/20|7/31/20|8/1/20|8/2/20|8/3/20|8/4/20|8/5/20|8/6/20|8/7/20|8/8/20|8/9/20|8/10/20|8/11/20|8/12/20|8/13/20|8/14/20|8/15/20|8/16/20|8/17/20|8/18/20|8/19/20|8/20/20|8/21/20|8/22/20|8/23/20|8/24/20|8/25/20|8/26/20|8/27/20|8/28/20|8/29/20|8/30/20|8/31/20|9/1/20|9/2/20|9/3/20|9/4/20|9/5/20|9/6/20|9/7/20|9/8/20|9/9/20|9/10/20|9/11/20|9/12/20|9/13/20|9/14/20|9/15/20|9/16/20|9/17/20|9/18/20|9/19/20|9/20/20|9/21/20|9/22/20|9/23/20|9/24/20|9/25/20|9/26/20|9/27/20|9/28/20|9/29/20|9/30/20|10/1/20|10/2/20|10/3/20|10/4/20|10/5/20|10/6/20|10/7/20|10/8/20|10/9/20|10/10/20|10/11/20|10/12/20|10/13/20|10/14/20|10/15/20|10/16/20|10/17/20|10/18/20|10/19/20|10/20/20|10/21/20|10/22/20|10/23/20|10/24/20|10/25/20|10/26/20|10/27/20|10/28/20|10/29/20|10/30/20|10/31/20|11/1/20|11/2/20|11/3/20|11/4/20|11/5/20|11/6/20|11/7/20|11/8/20|11/9/20|11/10/20|11/11/20|11/12/20|11/13/20|11/14/20|11/15/20|11/16/20|11/17/20|11/18/20|11/19/20|11/20/20|11/21/20|11/22/20|11/23/20|11/24/20|11/25/20|11/26/20|11/27/20|11/28/20|11/29/20|11/30/20|12/1/20|12/2/20|12/3/20|12/4/20|12/5/20|12/6/20|12/7/20|12/8/20|12/9/20|12/10/20|12/11/20|12/12/20|12/13/20|12/14/20|12/15/20|12/16/20|12/17/20|12/18/20|12/19/20|12/20/20|12/21/20|12/22/20|12/23/20|12/24/20|12/25/20|12/26/20|12/27/20|12/28/20|12/29/20|12/30/20|12/31/20|1/1/21|1/2/21|1/3/21|1/4/21|1/5/21|1/6/21|1/7/21|1/8/21|1/9/21|1/10/21|1/11/21|1/12/21|1/13/21|1/14/21|1/15/21|1/16/21|1/17/21|1/18/21|1/19/21|1/20/21|1/21/21|1/22/21|1/23/21|1/24/21|1/25/21|1/26/21|1/27/21|1/28/21|1/29/21|1/30/21|1/31/21|2/1/21|2/2/21|2/3/21|2/4/21|2/5/21|2/6/21|2/7/21|2/8/21|2/9/21|2/10/21|2/11/21|2/12/21|2/13/21|2/14/21|2/15/21|2/16/21|2/17/21|2/18/21|2/19/21|2/20/21|2/21/21|2/22/21|2/23/21|2/24/21|2/25/21|2/26/21|2/27/21|\n",
      "+----+-----------+-------+-----------+------------+----------+-------+-------+-------+-------+-------+-------+-------+-------+-------+-------+------+------+------+------+------+------+------+------+------+-------+-------+-------+-------+-------+-------+-------+-------+-------+-------+-------+-------+-------+-------+-------+-------+-------+-------+-------+-------+------+------+------+------+------+------+------+------+------+-------+-------+-------+-------+-------+-------+-------+-------+-------+-------+-------+-------+-------+-------+-------+-------+-------+-------+-------+-------+-------+-------+------+------+------+------+------+------+------+------+------+-------+-------+-------+-------+-------+-------+-------+-------+-------+-------+-------+-------+-------+-------+-------+-------+-------+-------+-------+-------+-------+------+------+------+------+------+------+------+------+------+-------+-------+-------+-------+-------+-------+-------+-------+-------+-------+-------+-------+-------+-------+-------+-------+-------+-------+-------+-------+-------+-------+------+------+------+------+------+------+------+------+------+-------+-------+-------+-------+-------+-------+-------+-------+-------+-------+-------+-------+-------+-------+-------+-------+-------+-------+-------+-------+-------+------+------+------+------+------+------+------+------+------+-------+-------+-------+-------+-------+-------+-------+-------+-------+-------+-------+-------+-------+-------+-------+-------+-------+-------+-------+-------+-------+-------+------+------+------+------+------+------+------+------+------+-------+-------+-------+-------+-------+-------+-------+-------+-------+-------+-------+-------+-------+-------+-------+-------+-------+-------+-------+-------+-------+-------+------+------+------+------+------+------+------+------+------+-------+-------+-------+-------+-------+-------+-------+-------+-------+-------+-------+-------+-------+-------+-------+-------+-------+-------+-------+-------+-------+-------+-------+-------+-------+-------+-------+-------+-------+-------+--------+--------+--------+--------+--------+--------+--------+--------+--------+--------+--------+--------+--------+--------+--------+--------+--------+--------+--------+--------+--------+--------+-------+-------+-------+-------+-------+-------+-------+-------+-------+--------+--------+--------+--------+--------+--------+--------+--------+--------+--------+--------+--------+--------+--------+--------+--------+--------+--------+--------+--------+--------+-------+-------+-------+-------+-------+-------+-------+-------+-------+--------+--------+--------+--------+--------+--------+--------+--------+--------+--------+--------+--------+--------+--------+--------+--------+--------+--------+--------+--------+--------+--------+------+------+------+------+------+------+------+------+------+-------+-------+-------+-------+-------+-------+-------+-------+-------+-------+-------+-------+-------+-------+-------+-------+-------+-------+-------+-------+-------+-------+------+------+------+------+------+------+------+------+------+-------+-------+-------+-------+-------+-------+-------+-------+-------+-------+-------+-------+-------+-------+-------+-------+-------+-------+\n",
      "|1001|    Autauga|Alabama|32.53952745|-86.64408227|     55869|      0|      0|      0|      0|      0|      0|      0|      0|      0|      0|     0|     0|     0|     0|     0|     0|     0|     0|     0|      0|      0|      0|      0|      0|      0|      0|      0|      0|      0|      0|      0|      0|      0|      0|      0|      0|      0|      0|      0|     0|     0|     0|     0|     0|     0|     0|     0|     0|      0|      0|      0|      0|      0|      0|      0|      0|      0|      0|      0|      0|      0|      0|      0|      0|      0|      0|      0|      0|      0|      0|     0|     0|     0|     0|     0|     0|     1|     1|     1|      1|      1|      1|      1|      1|      1|      1|      2|      2|      2|      1|      1|      2|      2|      2|      2|      2|      3|      4|      4|      4|     3|     3|     3|     3|     3|     3|     3|     4|     4|      4|      4|      4|      4|      4|      4|      4|      4|      4|      4|      3|      3|      3|      3|      3|      3|      3|      3|      3|      3|      4|      4|     5|     5|     5|     5|     5|     5|     5|     5|     5|      6|      6|      6|      6|      6|      6|      6|      6|      7|      7|      8|      8|      8|      8|     10|     10|     10|     11|     11|     11|     11|    11|    12|    12|    12|    12|    12|    12|    12|    13|     14|     14|     15|     15|     17|     18|     19|     20|     20|     20|     20|     20|     20|     20|     20|     20|     20|     20|     20|     20|     20|     20|    20|    20|    20|    20|    21|    21|    21|    21|    21|     21|     22|     22|     22|     22|     22|     22|     22|     22|     22|     22|     22|     22|     22|     22|     22|     22|     22|     22|     22|     22|     22|    23|    23|    23|    23|    23|    23|    23|    23|    23|     23|     23|     23|     23|     23|     23|     24|     24|     24|     24|     24|     24|     25|     25|     25|     25|     25|     25|     25|     27|     27|     28|     27|     27|     27|     27|     27|     27|     28|     28|      28|      28|      28|      28|      28|      28|      28|      28|      28|      28|      29|      30|      30|      30|      31|      31|      31|      31|      31|      31|      31|      31|     31|     31|     31|     31|     31|     30|     30|     30|     30|      30|      32|      32|      36|      36|      36|      36|      37|      37|      39|      39|      39|      39|      39|      39|      41|      42|      42|      42|      42|      42|     42|     42|     42|     42|     42|     42|     42|     42|     42|      42|      42|      41|      41|      41|      43|      43|      43|      44|      44|      44|      44|      44|      46|      46|      46|      46|      47|      47|      47|      48|      48|    50|    50|    50|    50|    50|    50|    50|    50|    53|     54|     55|     55|     55|     55|     55|     55|     55|     55|     55|     55|     61|     61|     62|     62|     62|     65|     67|     69|     69|     69|     69|    69|    70|    71|    74|    76|    77|    77|    77|    77|     79|     81|     84|     84|     84|     84|     84|     84|     84|     85|     85|     85|     85|     84|     85|     89|     90|     91|\n",
      "+----+-----------+-------+-----------+------------+----------+-------+-------+-------+-------+-------+-------+-------+-------+-------+-------+------+------+------+------+------+------+------+------+------+-------+-------+-------+-------+-------+-------+-------+-------+-------+-------+-------+-------+-------+-------+-------+-------+-------+-------+-------+-------+------+------+------+------+------+------+------+------+------+-------+-------+-------+-------+-------+-------+-------+-------+-------+-------+-------+-------+-------+-------+-------+-------+-------+-------+-------+-------+-------+-------+------+------+------+------+------+------+------+------+------+-------+-------+-------+-------+-------+-------+-------+-------+-------+-------+-------+-------+-------+-------+-------+-------+-------+-------+-------+-------+-------+------+------+------+------+------+------+------+------+------+-------+-------+-------+-------+-------+-------+-------+-------+-------+-------+-------+-------+-------+-------+-------+-------+-------+-------+-------+-------+-------+-------+------+------+------+------+------+------+------+------+------+-------+-------+-------+-------+-------+-------+-------+-------+-------+-------+-------+-------+-------+-------+-------+-------+-------+-------+-------+-------+-------+------+------+------+------+------+------+------+------+------+-------+-------+-------+-------+-------+-------+-------+-------+-------+-------+-------+-------+-------+-------+-------+-------+-------+-------+-------+-------+-------+-------+------+------+------+------+------+------+------+------+------+-------+-------+-------+-------+-------+-------+-------+-------+-------+-------+-------+-------+-------+-------+-------+-------+-------+-------+-------+-------+-------+-------+------+------+------+------+------+------+------+------+------+-------+-------+-------+-------+-------+-------+-------+-------+-------+-------+-------+-------+-------+-------+-------+-------+-------+-------+-------+-------+-------+-------+-------+-------+-------+-------+-------+-------+-------+-------+--------+--------+--------+--------+--------+--------+--------+--------+--------+--------+--------+--------+--------+--------+--------+--------+--------+--------+--------+--------+--------+--------+-------+-------+-------+-------+-------+-------+-------+-------+-------+--------+--------+--------+--------+--------+--------+--------+--------+--------+--------+--------+--------+--------+--------+--------+--------+--------+--------+--------+--------+--------+-------+-------+-------+-------+-------+-------+-------+-------+-------+--------+--------+--------+--------+--------+--------+--------+--------+--------+--------+--------+--------+--------+--------+--------+--------+--------+--------+--------+--------+--------+--------+------+------+------+------+------+------+------+------+------+-------+-------+-------+-------+-------+-------+-------+-------+-------+-------+-------+-------+-------+-------+-------+-------+-------+-------+-------+-------+-------+-------+------+------+------+------+------+------+------+------+------+-------+-------+-------+-------+-------+-------+-------+-------+-------+-------+-------+-------+-------+-------+-------+-------+-------+-------+\n",
      "\n"
     ]
    }
   ],
   "source": [
    "covid_deaths_df = load_covid_deaths_data(spark)\n",
    "covid_deaths_df.limit(1).show()"
   ]
  },
  {
   "cell_type": "code",
   "execution_count": 25,
   "metadata": {},
   "outputs": [],
   "source": [
    "date_list = [(pd.to_datetime(c) - unix_time) // second for c in covid_deaths_df.columns[6:]]\n",
    "\n",
    "time_data_columns = covid_deaths_df.columns[6:]\n",
    "time_data_columns.insert(0, 'fips')\n",
    "\n",
    "time_series = []\n",
    "\n",
    "def extract_county_death_data(row):\n",
    "    fips = time_data_columns[0]\n",
    "    for i in range(1, len(time_data_columns)):\n",
    "        time_series.append((row[fips], date_list[i - 1], row[time_data_columns[i]]))\n",
    "\n",
    "for row in covid_deaths_df.collect():\n",
    "    extract_county_death_data(row)\n",
    "\n",
    "time_series_columns = [\"fips\", \"timestamp\", \"covid_death_total\"]\n",
    "\n",
    "county_deaths_df = spark.createDataFrame(time_series, time_series_columns)\n",
    "\n",
    "windowSpec = Window \\\n",
    "    .partitionBy(county_deaths_df['fips']) \\\n",
    "    .orderBy(county_deaths_df['timestamp'].asc())\n",
    "\n",
    "county_deaths_df = county_deaths_df.withColumn('lag', F.lag(county_deaths_df['covid_death_total'], 1).over(windowSpec))\n",
    "county_deaths_df = county_deaths_df.withColumn('lead', F.lead(county_deaths_df['covid_death_total'], 1).over(windowSpec))\n",
    "\n",
    "# Populate deltas\n",
    "county_deaths_df = county_deaths_df.withColumn('covid_death_delta', \\\n",
    "    F.when(county_deaths_df['lag'].isNull(), 0) \\\n",
    "    .otherwise(county_deaths_df['covid_death_total'] - county_deaths_df['lag']))\n",
    "\n",
    "county_deaths_df = county_deaths_df.withColumn('next_delta', F.lead(county_deaths_df['covid_death_delta'], 1).over(windowSpec))\n",
    "\n",
    "# Fix overreporting\n",
    "county_deaths_df = county_deaths_df.withColumn('covid_death_total', \\\n",
    "    F.when((county_deaths_df['next_delta'] >= 0) | (county_deaths_df['lag'].isNull() | (county_deaths_df['lead'].isNull())), county_deaths_df['covid_death_total']) \\\n",
    "    .otherwise(F.ceil((county_deaths_df['lead'] + county_deaths_df['lag']) / 2)))\n",
    "\n",
    "# Recalculate deltas\n",
    "county_deaths_df = county_deaths_df.withColumn('lag', F.lag(county_deaths_df['covid_death_total'], 1).over(windowSpec))\n",
    "county_deaths_df = county_deaths_df.withColumn('covid_death_delta', \\\n",
    "    F.when(county_deaths_df['lag'].isNull(), 0) \\\n",
    "    .otherwise(county_deaths_df['covid_death_total'] - county_deaths_df['lag']))\n",
    "\n",
    "county_deaths_df = county_deaths_df.drop('lag').drop('lead').drop('next_delta')"
   ]
  },
  {
   "cell_type": "code",
   "execution_count": 26,
   "metadata": {},
   "outputs": [
    {
     "name": "stdout",
     "output_type": "stream",
     "text": [
      "+----------------------+\n",
      "|min(covid_death_total)|\n",
      "+----------------------+\n",
      "|                     0|\n",
      "+----------------------+\n",
      "\n"
     ]
    }
   ],
   "source": [
    "county_deaths_df.agg({'covid_death_total': 'min'}).show()"
   ]
  },
  {
   "cell_type": "code",
   "execution_count": 27,
   "metadata": {},
   "outputs": [
    {
     "name": "stdout",
     "output_type": "stream",
     "text": [
      "+----------------------+\n",
      "|max(covid_death_total)|\n",
      "+----------------------+\n",
      "|                 21328|\n",
      "+----------------------+\n",
      "\n"
     ]
    }
   ],
   "source": [
    "county_deaths_df.agg({'covid_death_total': 'max'}).show()"
   ]
  },
  {
   "cell_type": "code",
   "execution_count": 28,
   "metadata": {},
   "outputs": [
    {
     "data": {
      "text/plain": [
       "0"
      ]
     },
     "execution_count": 28,
     "metadata": {},
     "output_type": "execute_result"
    }
   ],
   "source": [
    "county_deaths_df.where(county_deaths_df['covid_death_delta'].isNull()).count()"
   ]
  },
  {
   "cell_type": "code",
   "execution_count": 29,
   "metadata": {},
   "outputs": [
    {
     "name": "stdout",
     "output_type": "stream",
     "text": [
      "+----------------------+\n",
      "|min(covid_death_delta)|\n",
      "+----------------------+\n",
      "|                   -47|\n",
      "+----------------------+\n",
      "\n"
     ]
    }
   ],
   "source": [
    "county_deaths_df.agg({'covid_death_delta': 'min'}).show()"
   ]
  },
  {
   "cell_type": "code",
   "execution_count": 30,
   "metadata": {},
   "outputs": [
    {
     "name": "stdout",
     "output_type": "stream",
     "text": [
      "+----------------------+\n",
      "|max(covid_death_delta)|\n",
      "+----------------------+\n",
      "|                  1553|\n",
      "+----------------------+\n",
      "\n"
     ]
    }
   ],
   "source": [
    "county_deaths_df.agg({'covid_death_delta': 'max'}).show()"
   ]
  },
  {
   "cell_type": "code",
   "execution_count": 31,
   "metadata": {},
   "outputs": [
    {
     "data": {
      "text/plain": [
       "2759"
      ]
     },
     "execution_count": 31,
     "metadata": {},
     "output_type": "execute_result"
    }
   ],
   "source": [
    "county_deaths_df.where(county_deaths_df['covid_death_delta'] < 0).count()"
   ]
  },
  {
   "cell_type": "code",
   "execution_count": 32,
   "metadata": {},
   "outputs": [
    {
     "data": {
      "text/plain": [
       "29"
      ]
     },
     "execution_count": 32,
     "metadata": {},
     "output_type": "execute_result"
    }
   ],
   "source": [
    "county_deaths_df.where(county_deaths_df['covid_death_delta'] < -10).count()"
   ]
  },
  {
   "cell_type": "code",
   "execution_count": 33,
   "metadata": {},
   "outputs": [
    {
     "name": "stdout",
     "output_type": "stream",
     "text": [
      "+-----+----------+-----------------+-----------------+\n",
      "| fips| timestamp|covid_death_total|covid_death_delta|\n",
      "+-----+----------+-----------------+-----------------+\n",
      "|36047|1593388800|             7140|              -20|\n",
      "|36047|1593475200|             7120|              -20|\n",
      "|34017|1587772800|              684|              -22|\n",
      "|34017|1587859200|              661|              -23|\n",
      "|42069|1589673600|              136|              -11|\n",
      "|42069|1589760000|              125|              -11|\n",
      "|42045|1589673600|              457|              -21|\n",
      "|42045|1589760000|              436|              -21|\n",
      "|42095|1589673600|              184|              -12|\n",
      "|42095|1589760000|              171|              -13|\n",
      "|42091|1587600000|              219|              -11|\n",
      "|42091|1587686400|              208|              -11|\n",
      "|42091|1589673600|              590|              -24|\n",
      "|42091|1589760000|              566|              -24|\n",
      "|48453|1595721600|              223|              -18|\n",
      "|48453|1595808000|              204|              -19|\n",
      "|48061|1609977600|             1147|              -46|\n",
      "|48061|1610064000|             1100|              -47|\n",
      "|48355|1609977600|              532|              -32|\n",
      "|48355|1610064000|              500|              -32|\n",
      "+-----+----------+-----------------+-----------------+\n",
      "only showing top 20 rows\n",
      "\n"
     ]
    }
   ],
   "source": [
    "county_deaths_df.where(county_deaths_df['covid_death_delta'] < -10).show()"
   ]
  },
  {
   "cell_type": "markdown",
   "metadata": {},
   "source": [
    "Death data looks good, we do see some negative deltas again but the vast majority is very small, most likely due to corrections, overreporting, etc."
   ]
  },
  {
   "cell_type": "code",
   "execution_count": 34,
   "metadata": {},
   "outputs": [
    {
     "name": "stdout",
     "output_type": "stream",
     "text": [
      "+----+----------+-------+----------------+----------+----------------+-----------------+-----------------+\n",
      "|fips| timestamp|  state|covid_case_total|      date|covid_case_delta|covid_death_total|covid_death_delta|\n",
      "+----+----------+-------+----------------+----------+----------------+-----------------+-----------------+\n",
      "|1001|1586044800|Alabama|              12|2020-04-05|               0|                0|                0|\n",
      "|1003|1595980800|Alabama|            3001|2020-07-29|             128|               20|                3|\n",
      "|1003|1599609600|Alabama|            4796|2020-09-09|              41|               42|                0|\n",
      "|1005|1603238400|Alabama|            1007|2020-10-21|              14|                9|                0|\n",
      "|1005|1605744000|Alabama|            1145|2020-11-19|               8|               10|                0|\n",
      "+----+----------+-------+----------------+----------+----------------+-----------------+-----------------+\n",
      "\n"
     ]
    }
   ],
   "source": [
    "county_facts_df = county_cases_df.join(county_deaths_df, on=[\"fips\", \"timestamp\"], how=\"left\")\n",
    "county_facts_df.limit(5).show()"
   ]
  },
  {
   "cell_type": "code",
   "execution_count": 35,
   "metadata": {},
   "outputs": [
    {
     "data": {
      "text/plain": [
       "403"
      ]
     },
     "execution_count": 35,
     "metadata": {},
     "output_type": "execute_result"
    }
   ],
   "source": [
    "county_facts_df.where(county_facts_df['fips'] == 1001).count()"
   ]
  },
  {
   "cell_type": "markdown",
   "metadata": {},
   "source": [
    "Great, this seems to have worked! So now we have the Covid-19 case and death counts.\n",
    "\n",
    "Next up, do something similar for the weather data."
   ]
  },
  {
   "cell_type": "code",
   "execution_count": 36,
   "metadata": {},
   "outputs": [
    {
     "name": "stdout",
     "output_type": "stream",
     "text": [
      "+----+-----------+-------+-----------+------------+------+------+------+------+------+------+------+------+------+-------+-------+-------+-------+-------+-------+-------+-------+-------+-------+-------+-------+-------+-------+-------+-------+-------+-------+-------+-------+-------+-------+------+------+------+------+------+------+------+------+------+-------+-------+-------+-------+-------+-------+-------+-------+-------+-------+-------+-------+-------+-------+-------+-------+-------+-------+-------+-------+------+------+------+------+------+------+------+------+------+-------+-------+-------+-------+-------+-------+-------+-------+-------+-------+-------+-------+-------+-------+-------+-------+-------+-------+-------+-------+-------+-------+------+------+------+------+------+------+------+------+------+-------+-------+-------+-------+-------+-------+-------+-------+-------+-------+-------+-------+-------+-------+-------+-------+-------+-------+-------+-------+------+------+------+------+------+------+------+------+------+-------+-------+-------+-------+-------+-------+-------+-------+-------+-------+-------+-------+-------+-------+-------+-------+-------+-------+-------+-------+-------+-------+------+------+------+------+------+------+------+------+------+-------+-------+-------+-------+-------+-------+-------+-------+-------+-------+-------+-------+-------+-------+-------+-------+-------+-------+-------+-------+-------+------+------+------+------+------+------+------+------+------+-------+-------+-------+-------+-------+-------+-------+-------+-------+-------+-------+-------+-------+-------+-------+-------+-------+-------+-------+-------+-------+-------+------+------+------+------+------+------+------+------+------+-------+-------+-------+-------+-------+-------+-------+-------+-------+-------+-------+-------+-------+-------+-------+-------+-------+-------+-------+-------+-------+-------+------+------+------+------+------+------+------+------+------+-------+-------+-------+-------+-------+-------+-------+-------+-------+-------+-------+-------+-------+-------+-------+-------+-------+-------+-------+-------+-------+-------+-------+-------+-------+-------+-------+-------+-------+-------+--------+--------+--------+--------+--------+--------+--------+--------+--------+--------+--------+--------+--------+--------+--------+--------+--------+--------+--------+--------+--------+--------+-------+-------+-------+-------+-------+-------+-------+-------+-------+--------+--------+--------+--------+--------+--------+--------+--------+--------+--------+--------+--------+--------+--------+--------+--------+--------+--------+--------+--------+--------+-------+-------+-------+-------+-------+-------+-------+-------+-------+--------+--------+--------+--------+--------+--------+--------+--------+--------+--------+--------+--------+--------+--------+--------+--------+\n",
      "|fips|county_name|  state|   latitude|   longitude|1/1/20|1/2/20|1/3/20|1/4/20|1/5/20|1/6/20|1/7/20|1/8/20|1/9/20|1/10/20|1/11/20|1/12/20|1/13/20|1/14/20|1/15/20|1/16/20|1/17/20|1/18/20|1/19/20|1/20/20|1/21/20|1/22/20|1/23/20|1/24/20|1/25/20|1/26/20|1/27/20|1/28/20|1/29/20|1/30/20|1/31/20|2/1/20|2/2/20|2/3/20|2/4/20|2/5/20|2/6/20|2/7/20|2/8/20|2/9/20|2/10/20|2/11/20|2/12/20|2/13/20|2/14/20|2/15/20|2/16/20|2/17/20|2/18/20|2/19/20|2/20/20|2/21/20|2/22/20|2/23/20|2/24/20|2/25/20|2/26/20|2/27/20|2/28/20|2/29/20|3/1/20|3/2/20|3/3/20|3/4/20|3/5/20|3/6/20|3/7/20|3/8/20|3/9/20|3/10/20|3/11/20|3/12/20|3/13/20|3/14/20|3/15/20|3/16/20|3/17/20|3/18/20|3/19/20|3/20/20|3/21/20|3/22/20|3/23/20|3/24/20|3/25/20|3/26/20|3/27/20|3/28/20|3/29/20|3/30/20|3/31/20|4/1/20|4/2/20|4/3/20|4/4/20|4/5/20|4/6/20|4/7/20|4/8/20|4/9/20|4/10/20|4/11/20|4/12/20|4/14/20|4/15/20|4/16/20|4/17/20|4/18/20|4/19/20|4/20/20|4/21/20|4/22/20|4/23/20|4/24/20|4/25/20|4/26/20|4/27/20|4/28/20|4/29/20|4/30/20|5/1/20|5/2/20|5/3/20|5/4/20|5/5/20|5/6/20|5/7/20|5/8/20|5/9/20|5/10/20|5/11/20|5/12/20|5/13/20|5/14/20|5/15/20|5/16/20|5/17/20|5/18/20|5/19/20|5/20/20|5/21/20|5/22/20|5/23/20|5/24/20|5/25/20|5/26/20|5/27/20|5/28/20|5/29/20|5/30/20|5/31/20|6/1/20|6/2/20|6/3/20|6/4/20|6/5/20|6/6/20|6/7/20|6/8/20|6/9/20|6/10/20|6/11/20|6/12/20|6/13/20|6/14/20|6/15/20|6/16/20|6/17/20|6/18/20|6/19/20|6/20/20|6/21/20|6/22/20|6/23/20|6/24/20|6/25/20|6/26/20|6/27/20|6/28/20|6/29/20|6/30/20|7/1/20|7/2/20|7/3/20|7/4/20|7/5/20|7/6/20|7/7/20|7/8/20|7/9/20|7/10/20|7/11/20|7/12/20|7/13/20|7/14/20|7/15/20|7/16/20|7/17/20|7/18/20|7/19/20|7/20/20|7/21/20|7/22/20|7/23/20|7/24/20|7/25/20|7/26/20|7/27/20|7/28/20|7/29/20|7/30/20|7/31/20|8/1/20|8/2/20|8/3/20|8/4/20|8/5/20|8/6/20|8/7/20|8/8/20|8/9/20|8/10/20|8/11/20|8/12/20|8/13/20|8/14/20|8/15/20|8/16/20|8/17/20|8/18/20|8/19/20|8/20/20|8/21/20|8/22/20|8/23/20|8/24/20|8/25/20|8/26/20|8/27/20|8/28/20|8/29/20|8/30/20|8/31/20|9/1/20|9/2/20|9/3/20|9/4/20|9/5/20|9/6/20|9/7/20|9/8/20|9/9/20|9/10/20|9/11/20|9/12/20|9/13/20|9/14/20|9/15/20|9/16/20|9/17/20|9/18/20|9/19/20|9/20/20|9/21/20|9/22/20|9/23/20|9/24/20|9/25/20|9/26/20|9/27/20|9/28/20|9/29/20|9/30/20|10/1/20|10/2/20|10/3/20|10/4/20|10/5/20|10/6/20|10/7/20|10/8/20|10/9/20|10/10/20|10/11/20|10/12/20|10/13/20|10/14/20|10/15/20|10/16/20|10/17/20|10/18/20|10/19/20|10/20/20|10/21/20|10/22/20|10/23/20|10/24/20|10/25/20|10/26/20|10/27/20|10/28/20|10/29/20|10/30/20|10/31/20|11/1/20|11/2/20|11/3/20|11/4/20|11/5/20|11/6/20|11/7/20|11/8/20|11/9/20|11/10/20|11/11/20|11/12/20|11/13/20|11/14/20|11/15/20|11/16/20|11/17/20|11/18/20|11/19/20|11/20/20|11/21/20|11/22/20|11/23/20|11/24/20|11/25/20|11/26/20|11/27/20|11/28/20|11/29/20|11/30/20|12/1/20|12/2/20|12/3/20|12/4/20|12/5/20|12/6/20|12/7/20|12/8/20|12/9/20|12/10/20|12/11/20|12/12/20|12/13/20|12/14/20|12/15/20|12/16/20|12/17/20|12/18/20|12/19/20|12/20/20|12/21/20|12/22/20|12/23/20|12/24/20|12/25/20|\n",
      "+----+-----------+-------+-----------+------------+------+------+------+------+------+------+------+------+------+-------+-------+-------+-------+-------+-------+-------+-------+-------+-------+-------+-------+-------+-------+-------+-------+-------+-------+-------+-------+-------+-------+------+------+------+------+------+------+------+------+------+-------+-------+-------+-------+-------+-------+-------+-------+-------+-------+-------+-------+-------+-------+-------+-------+-------+-------+-------+-------+------+------+------+------+------+------+------+------+------+-------+-------+-------+-------+-------+-------+-------+-------+-------+-------+-------+-------+-------+-------+-------+-------+-------+-------+-------+-------+-------+-------+------+------+------+------+------+------+------+------+------+-------+-------+-------+-------+-------+-------+-------+-------+-------+-------+-------+-------+-------+-------+-------+-------+-------+-------+-------+-------+------+------+------+------+------+------+------+------+------+-------+-------+-------+-------+-------+-------+-------+-------+-------+-------+-------+-------+-------+-------+-------+-------+-------+-------+-------+-------+-------+-------+------+------+------+------+------+------+------+------+------+-------+-------+-------+-------+-------+-------+-------+-------+-------+-------+-------+-------+-------+-------+-------+-------+-------+-------+-------+-------+-------+------+------+------+------+------+------+------+------+------+-------+-------+-------+-------+-------+-------+-------+-------+-------+-------+-------+-------+-------+-------+-------+-------+-------+-------+-------+-------+-------+-------+------+------+------+------+------+------+------+------+------+-------+-------+-------+-------+-------+-------+-------+-------+-------+-------+-------+-------+-------+-------+-------+-------+-------+-------+-------+-------+-------+-------+------+------+------+------+------+------+------+------+------+-------+-------+-------+-------+-------+-------+-------+-------+-------+-------+-------+-------+-------+-------+-------+-------+-------+-------+-------+-------+-------+-------+-------+-------+-------+-------+-------+-------+-------+-------+--------+--------+--------+--------+--------+--------+--------+--------+--------+--------+--------+--------+--------+--------+--------+--------+--------+--------+--------+--------+--------+--------+-------+-------+-------+-------+-------+-------+-------+-------+-------+--------+--------+--------+--------+--------+--------+--------+--------+--------+--------+--------+--------+--------+--------+--------+--------+--------+--------+--------+--------+--------+-------+-------+-------+-------+-------+-------+-------+-------+-------+--------+--------+--------+--------+--------+--------+--------+--------+--------+--------+--------+--------+--------+--------+--------+--------+\n",
      "|1001|    Autauga|Alabama|32.53952745|-86.64408227|     0|     8|    16|    11|     0|     1|     9|     0|     1|     13|     18|      8|     15|     17|     14|     17|      8|      9|      4|     -1|     -4|     -4|      2|      9|      1|      1|      6|      1|      5|      1|      6|     5|     0|     4|    11|    16|    18|     2|     1|     4|      9|     16|     13|     13|      1|      0|      7|      8|     13|     12|     10|      0|     -1|      0|      8|     13|      7|      0|     -1|      1|     2|    10|    15|    12|    11|     5|     1|     3|     6|     12|     12|     13|     16|     14|     16|     14|     15|     15|     15|     17|     16|     10|     15|     17|     17|     11|     16|     19|     20|     13|     14|     5|     5|     7|    11|    15|    12|    16|    17|    18|     13|      4|     10|      6|      5|      4|      7|     16|     12|     14|      8|      9|     13|     11|     13|     11|      6|      9|     15|     10|     7|     9|    12|    13|    15|    13|     6|     8|     7|      6|      9|      8|     11|     15|     16|     17|     17|     19|     14|     15|     14|     18|     18|     19|     20|     20|     19|     19|     18|     18|     16|    16|    20|    19|    19|    20|    20|    21|    22|    22|     23|     18|     17|     18|     18|     17|     17|     15|     17|     17|     18|     20|     20|     20|     20|     20|     20|     20|     22|     22|     22|    21|    21|    22|    21|    21|    21|    21|    22|    21|     22|     22|     20|     21|     21|     22|     21|     22|     22|     22|     23|     22|     22|     21|     22|     21|     21|     21|     22|     22|     22|     23|    22|    21|    22|    20|    21|    21|    20|    20|    21|     22|     22|     21|  22.36|  22.26|  21.96|  21.05|  22.04|  20.34|   20.5|  19.98|   19.9|  19.42|  20.92|  21.94|  22.92|  23.72|  23.38|  23.14|  23.21|   22.7|  22.73|  22.6| 23.05| 22.16| 20.39|  22.4| 18.49| 17.26| 19.72| 18.94|  21.24|  21.71|  22.61|  22.03|  22.41|  22.65|  19.64|  19.74|   19.5|  19.05|  15.93|  15.67|  14.32|  16.26|   19.0|  19.06|  18.85|  19.85|  20.19|  15.14|   9.14|  10.45|   9.72|   7.45|   9.59|  11.24|  12.84|  16.31|  16.12|   19.6|   21.19|   20.37|   19.21|   19.74|    9.97|   12.79|   14.25|    6.21|   10.88|   14.49|   14.43|   16.93|   18.15|   18.44|   19.18|   16.85|   15.14|   19.27|   21.66|   22.31|    9.19|    6.23|  11.09|   3.87|   2.16|   4.42|   7.37|  12.76|  15.31|  17.37|  18.31|   19.92|   20.48|   17.15|   10.83|    9.12|    12.6|    4.64|    4.29|    4.78|    3.51|    6.25|    8.37|   10.05|    8.07|    2.53|    9.29|   15.38|    9.76|    13.6|   10.13|    6.75|  -3.09|  -3.46|   -0.2|   7.54|   0.45|    2.8|   4.68|  -1.46|  -0.43|    2.21|    3.41|   12.34|     8.7|    8.14|    0.06|    7.13|    0.85|   -2.79|   -1.47|    6.22|    6.41|    2.79|     3.0|   12.25|   -3.37|\n",
      "+----+-----------+-------+-----------+------------+------+------+------+------+------+------+------+------+------+-------+-------+-------+-------+-------+-------+-------+-------+-------+-------+-------+-------+-------+-------+-------+-------+-------+-------+-------+-------+-------+-------+------+------+------+------+------+------+------+------+------+-------+-------+-------+-------+-------+-------+-------+-------+-------+-------+-------+-------+-------+-------+-------+-------+-------+-------+-------+-------+------+------+------+------+------+------+------+------+------+-------+-------+-------+-------+-------+-------+-------+-------+-------+-------+-------+-------+-------+-------+-------+-------+-------+-------+-------+-------+-------+-------+------+------+------+------+------+------+------+------+------+-------+-------+-------+-------+-------+-------+-------+-------+-------+-------+-------+-------+-------+-------+-------+-------+-------+-------+-------+-------+------+------+------+------+------+------+------+------+------+-------+-------+-------+-------+-------+-------+-------+-------+-------+-------+-------+-------+-------+-------+-------+-------+-------+-------+-------+-------+-------+-------+------+------+------+------+------+------+------+------+------+-------+-------+-------+-------+-------+-------+-------+-------+-------+-------+-------+-------+-------+-------+-------+-------+-------+-------+-------+-------+-------+------+------+------+------+------+------+------+------+------+-------+-------+-------+-------+-------+-------+-------+-------+-------+-------+-------+-------+-------+-------+-------+-------+-------+-------+-------+-------+-------+-------+------+------+------+------+------+------+------+------+------+-------+-------+-------+-------+-------+-------+-------+-------+-------+-------+-------+-------+-------+-------+-------+-------+-------+-------+-------+-------+-------+-------+------+------+------+------+------+------+------+------+------+-------+-------+-------+-------+-------+-------+-------+-------+-------+-------+-------+-------+-------+-------+-------+-------+-------+-------+-------+-------+-------+-------+-------+-------+-------+-------+-------+-------+-------+-------+--------+--------+--------+--------+--------+--------+--------+--------+--------+--------+--------+--------+--------+--------+--------+--------+--------+--------+--------+--------+--------+--------+-------+-------+-------+-------+-------+-------+-------+-------+-------+--------+--------+--------+--------+--------+--------+--------+--------+--------+--------+--------+--------+--------+--------+--------+--------+--------+--------+--------+--------+--------+-------+-------+-------+-------+-------+-------+-------+-------+-------+--------+--------+--------+--------+--------+--------+--------+--------+--------+--------+--------+--------+--------+--------+--------+--------+\n",
      "\n"
     ]
    }
   ],
   "source": [
    "tMin_df, tMax_df, cloud_df, wind_df = load_weather_data(spark)\n",
    "tMin_df.limit(1).show()"
   ]
  },
  {
   "cell_type": "code",
   "execution_count": 37,
   "metadata": {},
   "outputs": [],
   "source": [
    "def transform_weather_data(df, column_name):\n",
    "    date_list = [(pd.to_datetime(c) - unix_time) // second for c in df.columns[5:]]\n",
    "\n",
    "    time_data_columns = df.columns[5:]\n",
    "    time_data_columns.insert(0, 'fips')\n",
    "\n",
    "    time_series = []\n",
    "\n",
    "    def extract_weather_data(row):\n",
    "        fips = time_data_columns[0]\n",
    "        for i in range(1, len(time_data_columns)):\n",
    "            time_series.append((row[fips], date_list[i - 1], float(row[time_data_columns[i]])))\n",
    "\n",
    "    for row in df.collect():\n",
    "        extract_weather_data(row)\n",
    "\n",
    "    time_series_columns = [\"fips\", \"timestamp\", column_name]\n",
    "\n",
    "    df = spark.createDataFrame(time_series, time_series_columns)\n",
    "    \n",
    "    return df\n",
    "\n",
    "transformed_tMin_df = transform_weather_data(tMin_df, \"min_temp\")\n",
    "transformed_tMax_df = transform_weather_data(tMax_df, \"max_temp\")\n",
    "transformed_cloud_df = transform_weather_data(cloud_df, \"cloud_cover\")\n",
    "transformed_wind_df = transform_weather_data(wind_df, \"wind\")"
   ]
  },
  {
   "cell_type": "code",
   "execution_count": 38,
   "metadata": {},
   "outputs": [
    {
     "name": "stdout",
     "output_type": "stream",
     "text": [
      "+----+----------+--------+\n",
      "|fips| timestamp|min_temp|\n",
      "+----+----------+--------+\n",
      "|1001|1577836800|     0.0|\n",
      "|1001|1577923200|     8.0|\n",
      "|1001|1578009600|    16.0|\n",
      "|1001|1578096000|    11.0|\n",
      "|1001|1578182400|     0.0|\n",
      "+----+----------+--------+\n",
      "\n"
     ]
    }
   ],
   "source": [
    "transformed_tMin_df.limit(5).show()"
   ]
  },
  {
   "cell_type": "code",
   "execution_count": 39,
   "metadata": {},
   "outputs": [
    {
     "name": "stdout",
     "output_type": "stream",
     "text": [
      "+----+----------+-------+----------------+----------+----------------+-----------------+-----------------+--------+--------+-----------+----+\n",
      "|fips| timestamp|  state|covid_case_total|      date|covid_case_delta|covid_death_total|covid_death_delta|min_temp|max_temp|cloud_cover|wind|\n",
      "+----+----------+-------+----------------+----------+----------------+-----------------+-----------------+--------+--------+-----------+----+\n",
      "|1001|1586044800|Alabama|              12|2020-04-05|               0|                0|                0|    15.0|    27.0|       59.0| 1.0|\n",
      "|1003|1595980800|Alabama|            3001|2020-07-29|             128|               20|                3|    23.0|    30.0|       70.0| 2.0|\n",
      "|1003|1599609600|Alabama|            4796|2020-09-09|              41|               42|                0|   20.85|   32.28|       14.0|1.88|\n",
      "|1005|1603238400|Alabama|            1007|2020-10-21|              14|                9|                0|   17.54|   28.84|       12.0|2.65|\n",
      "|1005|1605744000|Alabama|            1145|2020-11-19|               8|               10|                0|    2.79|   19.39|        0.0|2.66|\n",
      "+----+----------+-------+----------------+----------+----------------+-----------------+-----------------+--------+--------+-----------+----+\n",
      "\n"
     ]
    }
   ],
   "source": [
    "county_facts_df = county_facts_df.join(transformed_tMin_df, on=[\"fips\", \"timestamp\"], how=\"left\")\n",
    "county_facts_df = county_facts_df.join(transformed_tMax_df, on=[\"fips\", \"timestamp\"], how=\"left\")\n",
    "county_facts_df = county_facts_df.join(transformed_cloud_df, on=[\"fips\", \"timestamp\"], how=\"left\")\n",
    "county_facts_df = county_facts_df.join(transformed_wind_df, on=[\"fips\", \"timestamp\"], how=\"left\")\n",
    "county_facts_df.limit(5).show()"
   ]
  },
  {
   "cell_type": "code",
   "execution_count": 42,
   "metadata": {},
   "outputs": [
    {
     "name": "stdout",
     "output_type": "stream",
     "text": [
      "+----+----------+-------+----------------+----------------+-----------------+-----------------+--------+--------+-----------+----+\n",
      "|fips| timestamp|  state|covid_case_total|covid_case_delta|covid_death_total|covid_death_delta|min_temp|max_temp|cloud_cover|wind|\n",
      "+----+----------+-------+----------------+----------------+-----------------+-----------------+--------+--------+-----------+----+\n",
      "|1001|1586044800|Alabama|              12|               0|                0|                0|    15.0|    27.0|       59.0| 1.0|\n",
      "|1003|1595980800|Alabama|            3001|             128|               20|                3|    23.0|    30.0|       70.0| 2.0|\n",
      "|1003|1599609600|Alabama|            4796|              41|               42|                0|   20.85|   32.28|       14.0|1.88|\n",
      "|1005|1603238400|Alabama|            1007|              14|                9|                0|   17.54|   28.84|       12.0|2.65|\n",
      "|1005|1605744000|Alabama|            1145|               8|               10|                0|    2.79|   19.39|        0.0|2.66|\n",
      "+----+----------+-------+----------------+----------------+-----------------+-----------------+--------+--------+-----------+----+\n",
      "\n"
     ]
    }
   ],
   "source": [
    "county_facts_df = county_facts_df.drop('date')\n",
    "county_facts_df.limit(5).show()"
   ]
  },
  {
   "cell_type": "code",
   "execution_count": 43,
   "metadata": {},
   "outputs": [],
   "source": [
    "county_facts_df.write.partitionBy('timestamp').mode('append').parquet(output_path + \"county_facts.parquet\")\n",
    "#county_facts_df.write.partitionBy('timestamp').mode('overwrite').parquet(output_path + \"county_facts.parquet\")"
   ]
  }
 ],
 "metadata": {
  "kernelspec": {
   "display_name": "Python 3",
   "language": "python",
   "name": "python3"
  },
  "language_info": {
   "codemirror_mode": {
    "name": "ipython",
    "version": 3
   },
   "file_extension": ".py",
   "mimetype": "text/x-python",
   "name": "python",
   "nbconvert_exporter": "python",
   "pygments_lexer": "ipython3",
   "version": "3.8.5"
  }
 },
 "nbformat": 4,
 "nbformat_minor": 4
}
