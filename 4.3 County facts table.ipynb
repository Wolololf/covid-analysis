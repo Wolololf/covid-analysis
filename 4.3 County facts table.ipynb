{
 "cells": [
  {
   "cell_type": "markdown",
   "metadata": {},
   "source": [
    "#### 4.3 Create the county facts table\n",
    "- Start with covid case data, split out date columns into a table with county-date-case rows\n",
    "- Window with county partition and date sorting, calculate data by lagging one behind with 0 fill\n",
    "- Do the same for covid death data, then join\n",
    "- Same for all the weather data, keep joining\n",
    "- Fill in 0 for all missing row fields\n",
    "- Partition by county"
   ]
  },
  {
   "cell_type": "markdown",
   "metadata": {},
   "source": [
    "##### Setup\n",
    "I'm going to need Spark for this because I'll want to make use of some of its functionality, such as the ability to create temporary SQL views of my dataframes."
   ]
  },
  {
   "cell_type": "code",
   "execution_count": 1,
   "metadata": {},
   "outputs": [],
   "source": [
    "from setup import create_spark_session\n",
    "\n",
    "spark = create_spark_session()"
   ]
  },
  {
   "cell_type": "markdown",
   "metadata": {},
   "source": [
    "Imports and output paths:"
   ]
  },
  {
   "cell_type": "code",
   "execution_count": 2,
   "metadata": {},
   "outputs": [],
   "source": [
    "import pandas as pd\n",
    "from pyspark.sql import functions as F\n",
    "from pyspark.sql.types import *\n",
    "from pyspark.sql.window import Window\n",
    "\n",
    "from clean import *\n",
    "from etl import *\n",
    "\n",
    "# For now, just locally, later on maybe write this to S3 instead\n",
    "output_path = \"output/\""
   ]
  },
  {
   "cell_type": "markdown",
   "metadata": {},
   "source": [
    "Let's first load in the cleaned Covid data and inspect the schema:"
   ]
  },
  {
   "cell_type": "code",
   "execution_count": 3,
   "metadata": {},
   "outputs": [],
   "source": [
    "covid_cases_df = load_covid_case_data(spark)"
   ]
  },
  {
   "cell_type": "markdown",
   "metadata": {},
   "source": [
    "First, let's extract all the dates from the Covid-19 data set. This is so we can avoid having to cast the column names to dates constantly, instead we can do it once and cache them here.  \n",
    "Apparently, I have to store them as unix timestamps; I tried keeping them as DateType, but when I later use them to construct the dataframe, it just gives me empty lists instead of datetimes."
   ]
  },
  {
   "cell_type": "code",
   "execution_count": 4,
   "metadata": {},
   "outputs": [
    {
     "data": {
      "text/plain": [
       "[1579651200, 1579737600, 1579824000, 1579910400, 1579996800]"
      ]
     },
     "execution_count": 4,
     "metadata": {},
     "output_type": "execute_result"
    }
   ],
   "source": [
    "unix_time = pd.Timestamp(\"1970-01-01\")\n",
    "second = pd.Timedelta('1s')\n",
    "\n",
    "date_list = [(pd.to_datetime(c) - unix_time) // second for c in covid_cases_df.columns[5:]]\n",
    "date_list[:5]"
   ]
  },
  {
   "cell_type": "markdown",
   "metadata": {},
   "source": [
    "We only need the FIPS codes and the time columns, let's extract these."
   ]
  },
  {
   "cell_type": "code",
   "execution_count": 5,
   "metadata": {},
   "outputs": [
    {
     "data": {
      "text/plain": [
       "['fips', 'state', '1/22/20', '1/23/20', '1/24/20']"
      ]
     },
     "execution_count": 5,
     "metadata": {},
     "output_type": "execute_result"
    }
   ],
   "source": [
    "time_data_columns = covid_cases_df.columns[5:]\n",
    "time_data_columns.insert(0, 'fips')\n",
    "time_data_columns.insert(1, 'state')\n",
    "\n",
    "time_data_columns[:5]"
   ]
  },
  {
   "cell_type": "markdown",
   "metadata": {},
   "source": [
    "For each row in the dataframe, for each time column, we want to create one new row in a new dataframe where each row contains the FIPS code (to identify the county), the date of the column, and the case count for this county at that date.  \n",
    "We store these as a tuple in the list so that we can insert each tuple as a row into a dataframe later on."
   ]
  },
  {
   "cell_type": "code",
   "execution_count": 6,
   "metadata": {},
   "outputs": [
    {
     "data": {
      "text/plain": [
       "[(1001, 'Alabama', 1579651200, 0),\n",
       " (1001, 'Alabama', 1579737600, 0),\n",
       " (1001, 'Alabama', 1579824000, 0),\n",
       " (1001, 'Alabama', 1579910400, 0),\n",
       " (1001, 'Alabama', 1579996800, 0)]"
      ]
     },
     "execution_count": 6,
     "metadata": {},
     "output_type": "execute_result"
    }
   ],
   "source": [
    "time_series = []\n",
    "\n",
    "def extract_county_case_data(row):\n",
    "    fips = time_data_columns[0]\n",
    "    state = time_data_columns[1]\n",
    "    for i in range(2, len(time_data_columns)):\n",
    "        time_series.append((row[fips], row[state], date_list[i - 2], row[time_data_columns[i]]))\n",
    "\n",
    "# I have no idea why the foreach doesn't work, I can only get it working if I collect the data\n",
    "#covid_cases_df.limit(5).foreach(extract_county_case_data)\n",
    "\n",
    "for row in covid_cases_df.collect():\n",
    "    extract_county_case_data(row)\n",
    "\n",
    "time_series[:5]"
   ]
  },
  {
   "cell_type": "markdown",
   "metadata": {},
   "source": [
    "We've got the values for the rows, now we just need to define the column names and build the dataframe."
   ]
  },
  {
   "cell_type": "code",
   "execution_count": 7,
   "metadata": {},
   "outputs": [
    {
     "name": "stdout",
     "output_type": "stream",
     "text": [
      "+----+-------+----------+----------------+\n",
      "|fips|  state| timestamp|covid_case_total|\n",
      "+----+-------+----------+----------------+\n",
      "|1001|Alabama|1579651200|               0|\n",
      "|1001|Alabama|1579737600|               0|\n",
      "|1001|Alabama|1579824000|               0|\n",
      "|1001|Alabama|1579910400|               0|\n",
      "|1001|Alabama|1579996800|               0|\n",
      "+----+-------+----------+----------------+\n",
      "\n"
     ]
    }
   ],
   "source": [
    "time_series_columns = ['fips', 'state', 'timestamp', 'covid_case_total']\n",
    "\n",
    "county_cases_df = spark.createDataFrame(time_series, time_series_columns)\n",
    "county_cases_df.limit(5).show()"
   ]
  },
  {
   "cell_type": "markdown",
   "metadata": {},
   "source": [
    "We could just keep the timestamps? I don't know if we need the datetimes since we'll fetch these from another table. I'll keep these in for now because it makes it easier for me to tell which dates I'm dealing with while debugging."
   ]
  },
  {
   "cell_type": "code",
   "execution_count": 8,
   "metadata": {},
   "outputs": [
    {
     "name": "stdout",
     "output_type": "stream",
     "text": [
      "+----+-------+----------+----------------+----------+\n",
      "|fips|  state| timestamp|covid_case_total|      date|\n",
      "+----+-------+----------+----------------+----------+\n",
      "|1001|Alabama|1579651200|               0|2020-01-22|\n",
      "|1001|Alabama|1579737600|               0|2020-01-23|\n",
      "|1001|Alabama|1579824000|               0|2020-01-24|\n",
      "|1001|Alabama|1579910400|               0|2020-01-25|\n",
      "|1001|Alabama|1579996800|               0|2020-01-26|\n",
      "+----+-------+----------+----------------+----------+\n",
      "\n"
     ]
    }
   ],
   "source": [
    "county_cases_df = county_cases_df.withColumn(\"date\", F.from_unixtime(\"timestamp\").cast(DateType()))\n",
    "county_cases_df.limit(5).show()"
   ]
  },
  {
   "cell_type": "markdown",
   "metadata": {},
   "source": [
    "We only have the cumulative Covid-19 case counts, not the daily increase. Since we're most likely going to check the delta quite frequently, let's add that to the data set:"
   ]
  },
  {
   "cell_type": "code",
   "execution_count": 9,
   "metadata": {},
   "outputs": [
    {
     "name": "stdout",
     "output_type": "stream",
     "text": [
      "+----+--------+----------+----------------+----------+----------------+\n",
      "|fips|   state| timestamp|covid_case_total|      date|covid_case_delta|\n",
      "+----+--------+----------+----------------+----------+----------------+\n",
      "|8075|Colorado|1579651200|               0|2020-01-22|               0|\n",
      "|8075|Colorado|1579737600|               0|2020-01-23|               0|\n",
      "|8075|Colorado|1579824000|               0|2020-01-24|               0|\n",
      "|8075|Colorado|1579910400|               0|2020-01-25|               0|\n",
      "|8075|Colorado|1579996800|               0|2020-01-26|               0|\n",
      "+----+--------+----------+----------------+----------+----------------+\n",
      "\n"
     ]
    }
   ],
   "source": [
    "windowSpec = Window \\\n",
    "    .partitionBy(county_cases_df['fips']) \\\n",
    "    .orderBy(county_cases_df['timestamp'].asc())\n",
    "\n",
    "''' This is more long-form, I wrote this because I thought that lagged numbers were bleeding across partition boundaries, but that doesn't seem to be the case.\n",
    "county_cases_df = county_cases_df.withColumn('lag', F.lag(county_cases_df['covid_case_total']).over(windowSpec))\n",
    "\n",
    "county_cases_df = county_cases_df.withColumn('covid_case_delta', \\\n",
    "    F.when(county_cases_df['lag'].isNull(), 0) \\\n",
    "    .otherwise(county_cases_df['covid_case_total'] - county_cases_df['lag']))\n",
    "\n",
    "county_cases_df = county_cases_df.drop('lag')\n",
    "'''\n",
    "\n",
    "county_cases_df = county_cases_df.withColumn('covid_case_delta', \\\n",
    "    county_cases_df['covid_case_total'] - F.lag(county_cases_df['covid_case_total'], 1, 0).over(windowSpec))\n",
    "\n",
    "county_cases_df.limit(5).show()"
   ]
  },
  {
   "cell_type": "code",
   "execution_count": 10,
   "metadata": {},
   "outputs": [
    {
     "data": {
      "text/plain": [
       "0"
      ]
     },
     "execution_count": 10,
     "metadata": {},
     "output_type": "execute_result"
    }
   ],
   "source": [
    "county_cases_df.where(county_cases_df['covid_case_delta'].isNull()).count()"
   ]
  },
  {
   "cell_type": "markdown",
   "metadata": {},
   "source": [
    "So far, so good, no null entries in the delta column."
   ]
  },
  {
   "cell_type": "code",
   "execution_count": 11,
   "metadata": {},
   "outputs": [
    {
     "name": "stdout",
     "output_type": "stream",
     "text": [
      "+---------------------+\n",
      "|max(covid_case_delta)|\n",
      "+---------------------+\n",
      "|                29423|\n",
      "+---------------------+\n",
      "\n"
     ]
    }
   ],
   "source": [
    "county_cases_df.agg({'covid_case_delta': 'max'}).show()"
   ]
  },
  {
   "cell_type": "code",
   "execution_count": 12,
   "metadata": {},
   "outputs": [
    {
     "name": "stdout",
     "output_type": "stream",
     "text": [
      "+---------------------+\n",
      "|min(covid_case_delta)|\n",
      "+---------------------+\n",
      "|                -3059|\n",
      "+---------------------+\n",
      "\n"
     ]
    }
   ],
   "source": [
    "county_cases_df.agg({'covid_case_delta': 'min'}).show()"
   ]
  },
  {
   "cell_type": "markdown",
   "metadata": {},
   "source": [
    "Wait, what? Why do we have negative case counts here?"
   ]
  },
  {
   "cell_type": "code",
   "execution_count": null,
   "metadata": {},
   "outputs": [],
   "source": [
    "county_cases_df.where(county_cases_df['covid_case_delta'] < 0).show()"
   ]
  },
  {
   "cell_type": "code",
   "execution_count": null,
   "metadata": {},
   "outputs": [],
   "source": [
    "county_cases_df.where(county_cases_df['covid_case_delta'] < 0).count()"
   ]
  },
  {
   "cell_type": "code",
   "execution_count": null,
   "metadata": {},
   "outputs": [],
   "source": [
    "county_cases_df.where(county_cases_df['covid_case_delta'] > 0).count()"
   ]
  },
  {
   "cell_type": "markdown",
   "metadata": {},
   "source": [
    "There seem to be a fair few cases of this, but there aren't that many compared to the amount of actual increases, so it seems to work in most cases. It's also not just occurring once per FIPS code which might indicate an issue with my windowing logic.\n",
    "\n",
    "At a guess, this is due to overreporting some cases one day and then correcting them the next day. These are case numbers as well, so it's possible that someone received a false positive and got scrubbed from the case counts again."
   ]
  },
  {
   "cell_type": "code",
   "execution_count": null,
   "metadata": {},
   "outputs": [],
   "source": [
    "county_cases_df.where(county_cases_df['covid_case_delta'] < -20).count()"
   ]
  },
  {
   "cell_type": "code",
   "execution_count": null,
   "metadata": {},
   "outputs": [],
   "source": [
    "county_cases_df.where(county_cases_df['covid_case_delta'] < -20).show()"
   ]
  },
  {
   "cell_type": "markdown",
   "metadata": {},
   "source": [
    "Ok, so there are still several hundred cases where more than 20 negative cases were reported. Still, this doesn't seem to be a bug, but just something inherent to the data. I checked a few of these by hand in the source data, and the data on days right after the decrease looks fine again, it jumps back up to the previous value and beyond. This makes me think that at least some of these are mistakes in data entry.\n",
    "\n",
    "I'll attempt to fix up the broken deltas and totals by interpolating using the neighbouring rows."
   ]
  },
  {
   "cell_type": "code",
   "execution_count": 13,
   "metadata": {},
   "outputs": [],
   "source": [
    "adjusted_county_cases_df = county_cases_df.withColumn('lag', F.lag(county_cases_df['covid_case_total'], 1).over(windowSpec))\n",
    "adjusted_county_cases_df = adjusted_county_cases_df.withColumn('lead', F.lead(county_cases_df['covid_case_total'], 1).over(windowSpec))\n",
    "adjusted_county_cases_df = adjusted_county_cases_df.withColumn('next_delta', F.lead(county_cases_df['covid_case_delta'], 1).over(windowSpec))\n",
    "\n",
    "# Get rid of overreporting\n",
    "adjusted_county_cases_df = adjusted_county_cases_df.withColumn('covid_case_total', \\\n",
    "    F.when((adjusted_county_cases_df['next_delta'] >= 0) | adjusted_county_cases_df['lag'].isNull() | (adjusted_county_cases_df['lead'].isNull()), county_cases_df['covid_case_total']) \\\n",
    "    .otherwise(F.ceil((adjusted_county_cases_df['lead'] + adjusted_county_cases_df['lag']) / 2)))\n",
    "\n",
    "adjusted_county_cases_df = adjusted_county_cases_df.withColumn('lag', F.lag(adjusted_county_cases_df['covid_case_total'], 1).over(windowSpec))\n",
    "\n",
    "adjusted_county_cases_df = adjusted_county_cases_df.withColumn('covid_case_delta', \\\n",
    "    adjusted_county_cases_df['covid_case_total'] - adjusted_county_cases_df['lag'])\n",
    "\n",
    "adjusted_county_cases_df = adjusted_county_cases_df.drop('lag').drop('lead').drop('next_delta')"
   ]
  },
  {
   "cell_type": "code",
   "execution_count": null,
   "metadata": {},
   "outputs": [],
   "source": [
    "adjusted_county_cases_df.agg({'covid_case_delta': 'min'}).show()"
   ]
  },
  {
   "cell_type": "code",
   "execution_count": null,
   "metadata": {},
   "outputs": [],
   "source": [
    "adjusted_county_cases_df.where(adjusted_county_cases_df['covid_case_delta'] < 0).count()"
   ]
  },
  {
   "cell_type": "code",
   "execution_count": null,
   "metadata": {},
   "outputs": [],
   "source": [
    "adjusted_county_cases_df.where(adjusted_county_cases_df['covid_case_delta'] < 0).show()"
   ]
  },
  {
   "cell_type": "code",
   "execution_count": null,
   "metadata": {},
   "outputs": [],
   "source": [
    "adjusted_county_cases_df.where(adjusted_county_cases_df['covid_case_delta'] < -20).count()"
   ]
  },
  {
   "cell_type": "code",
   "execution_count": null,
   "metadata": {},
   "outputs": [],
   "source": [
    "adjusted_county_cases_df.where(adjusted_county_cases_df['covid_case_delta'] < -20).show()"
   ]
  },
  {
   "cell_type": "markdown",
   "metadata": {},
   "source": [
    "This seems to have worked somewhat. The maximum drop is reduced, and we have less than one-fifth the amount of negative deltas as before, and only 12 outliers.  \n",
    "Spot checks on the source data shows that we eliminated the one-off drops, but there are still drops when the incorrect data persists over multiple days. I don't feel comfortable messing with the data this much since multi-day data entry issues seem unlikelier than that the case count did in fact change, due to correction, false positives, etc."
   ]
  },
  {
   "cell_type": "markdown",
   "metadata": {},
   "source": [
    "Now let's do it all again for the death data:"
   ]
  },
  {
   "cell_type": "code",
   "execution_count": 14,
   "metadata": {},
   "outputs": [
    {
     "name": "stdout",
     "output_type": "stream",
     "text": [
      "+----+-----------+-------+-----------+------------+----------+-------+-------+-------+-------+-------+-------+-------+-------+-------+-------+------+------+------+------+------+------+------+------+------+-------+-------+-------+-------+-------+-------+-------+-------+-------+-------+-------+-------+-------+-------+-------+-------+-------+-------+-------+-------+------+------+------+------+------+------+------+------+------+-------+-------+-------+-------+-------+-------+-------+-------+-------+-------+-------+-------+-------+-------+-------+-------+-------+-------+-------+-------+-------+-------+------+------+------+------+------+------+------+------+------+-------+-------+-------+-------+-------+-------+-------+-------+-------+-------+-------+-------+-------+-------+-------+-------+-------+-------+-------+-------+-------+------+------+------+------+------+------+------+------+------+-------+-------+-------+-------+-------+-------+-------+-------+-------+-------+-------+-------+-------+-------+-------+-------+-------+-------+-------+-------+-------+-------+------+------+------+------+------+------+------+------+------+-------+-------+-------+-------+-------+-------+-------+-------+-------+-------+-------+-------+-------+-------+-------+-------+-------+-------+-------+-------+-------+------+------+------+------+------+------+------+------+------+-------+-------+-------+-------+-------+-------+-------+-------+-------+-------+-------+-------+-------+-------+-------+-------+-------+-------+-------+-------+-------+-------+------+------+------+------+------+------+------+------+------+-------+-------+-------+-------+-------+-------+-------+-------+-------+-------+-------+-------+-------+-------+-------+-------+-------+-------+-------+-------+-------+-------+------+------+------+------+------+------+------+------+------+-------+-------+-------+-------+-------+-------+-------+-------+-------+-------+-------+-------+-------+-------+-------+-------+-------+-------+-------+-------+-------+-------+-------+-------+-------+-------+-------+-------+-------+-------+--------+--------+--------+--------+--------+--------+--------+--------+--------+--------+--------+--------+--------+--------+--------+--------+--------+--------+--------+--------+--------+--------+-------+-------+-------+-------+-------+-------+-------+-------+-------+--------+--------+--------+--------+--------+--------+--------+--------+--------+--------+--------+--------+--------+--------+--------+--------+--------+--------+--------+--------+--------+-------+-------+-------+-------+-------+-------+-------+-------+-------+--------+--------+--------+--------+--------+--------+--------+--------+--------+--------+--------+--------+--------+--------+--------+--------+--------+--------+--------+--------+--------+--------+------+------+------+------+------+------+------+------+------+-------+-------+-------+-------+-------+-------+-------+-------+-------+-------+-------+-------+-------+-------+-------+-------+-------+-------+-------+-------+-------+-------+------+------+------+------+------+------+------+------+------+-------+-------+-------+-------+-------+-------+-------+-------+-------+-------+-------+-------+-------+-------+-------+-------+-------+-------+\n",
      "|fips|county_name|  state|   latitude|   longitude|Population|1/22/20|1/23/20|1/24/20|1/25/20|1/26/20|1/27/20|1/28/20|1/29/20|1/30/20|1/31/20|2/1/20|2/2/20|2/3/20|2/4/20|2/5/20|2/6/20|2/7/20|2/8/20|2/9/20|2/10/20|2/11/20|2/12/20|2/13/20|2/14/20|2/15/20|2/16/20|2/17/20|2/18/20|2/19/20|2/20/20|2/21/20|2/22/20|2/23/20|2/24/20|2/25/20|2/26/20|2/27/20|2/28/20|2/29/20|3/1/20|3/2/20|3/3/20|3/4/20|3/5/20|3/6/20|3/7/20|3/8/20|3/9/20|3/10/20|3/11/20|3/12/20|3/13/20|3/14/20|3/15/20|3/16/20|3/17/20|3/18/20|3/19/20|3/20/20|3/21/20|3/22/20|3/23/20|3/24/20|3/25/20|3/26/20|3/27/20|3/28/20|3/29/20|3/30/20|3/31/20|4/1/20|4/2/20|4/3/20|4/4/20|4/5/20|4/6/20|4/7/20|4/8/20|4/9/20|4/10/20|4/11/20|4/12/20|4/13/20|4/14/20|4/15/20|4/16/20|4/17/20|4/18/20|4/19/20|4/20/20|4/21/20|4/22/20|4/23/20|4/24/20|4/25/20|4/26/20|4/27/20|4/28/20|4/29/20|4/30/20|5/1/20|5/2/20|5/3/20|5/4/20|5/5/20|5/6/20|5/7/20|5/8/20|5/9/20|5/10/20|5/11/20|5/12/20|5/13/20|5/14/20|5/15/20|5/16/20|5/17/20|5/18/20|5/19/20|5/20/20|5/21/20|5/22/20|5/23/20|5/24/20|5/25/20|5/26/20|5/27/20|5/28/20|5/29/20|5/30/20|5/31/20|6/1/20|6/2/20|6/3/20|6/4/20|6/5/20|6/6/20|6/7/20|6/8/20|6/9/20|6/10/20|6/11/20|6/12/20|6/13/20|6/14/20|6/15/20|6/16/20|6/17/20|6/18/20|6/19/20|6/20/20|6/21/20|6/22/20|6/23/20|6/24/20|6/25/20|6/26/20|6/27/20|6/28/20|6/29/20|6/30/20|7/1/20|7/2/20|7/3/20|7/4/20|7/5/20|7/6/20|7/7/20|7/8/20|7/9/20|7/10/20|7/11/20|7/12/20|7/13/20|7/14/20|7/15/20|7/16/20|7/17/20|7/18/20|7/19/20|7/20/20|7/21/20|7/22/20|7/23/20|7/24/20|7/25/20|7/26/20|7/27/20|7/28/20|7/29/20|7/30/20|7/31/20|8/1/20|8/2/20|8/3/20|8/4/20|8/5/20|8/6/20|8/7/20|8/8/20|8/9/20|8/10/20|8/11/20|8/12/20|8/13/20|8/14/20|8/15/20|8/16/20|8/17/20|8/18/20|8/19/20|8/20/20|8/21/20|8/22/20|8/23/20|8/24/20|8/25/20|8/26/20|8/27/20|8/28/20|8/29/20|8/30/20|8/31/20|9/1/20|9/2/20|9/3/20|9/4/20|9/5/20|9/6/20|9/7/20|9/8/20|9/9/20|9/10/20|9/11/20|9/12/20|9/13/20|9/14/20|9/15/20|9/16/20|9/17/20|9/18/20|9/19/20|9/20/20|9/21/20|9/22/20|9/23/20|9/24/20|9/25/20|9/26/20|9/27/20|9/28/20|9/29/20|9/30/20|10/1/20|10/2/20|10/3/20|10/4/20|10/5/20|10/6/20|10/7/20|10/8/20|10/9/20|10/10/20|10/11/20|10/12/20|10/13/20|10/14/20|10/15/20|10/16/20|10/17/20|10/18/20|10/19/20|10/20/20|10/21/20|10/22/20|10/23/20|10/24/20|10/25/20|10/26/20|10/27/20|10/28/20|10/29/20|10/30/20|10/31/20|11/1/20|11/2/20|11/3/20|11/4/20|11/5/20|11/6/20|11/7/20|11/8/20|11/9/20|11/10/20|11/11/20|11/12/20|11/13/20|11/14/20|11/15/20|11/16/20|11/17/20|11/18/20|11/19/20|11/20/20|11/21/20|11/22/20|11/23/20|11/24/20|11/25/20|11/26/20|11/27/20|11/28/20|11/29/20|11/30/20|12/1/20|12/2/20|12/3/20|12/4/20|12/5/20|12/6/20|12/7/20|12/8/20|12/9/20|12/10/20|12/11/20|12/12/20|12/13/20|12/14/20|12/15/20|12/16/20|12/17/20|12/18/20|12/19/20|12/20/20|12/21/20|12/22/20|12/23/20|12/24/20|12/25/20|12/26/20|12/27/20|12/28/20|12/29/20|12/30/20|12/31/20|1/1/21|1/2/21|1/3/21|1/4/21|1/5/21|1/6/21|1/7/21|1/8/21|1/9/21|1/10/21|1/11/21|1/12/21|1/13/21|1/14/21|1/15/21|1/16/21|1/17/21|1/18/21|1/19/21|1/20/21|1/21/21|1/22/21|1/23/21|1/24/21|1/25/21|1/26/21|1/27/21|1/28/21|1/29/21|1/30/21|1/31/21|2/1/21|2/2/21|2/3/21|2/4/21|2/5/21|2/6/21|2/7/21|2/8/21|2/9/21|2/10/21|2/11/21|2/12/21|2/13/21|2/14/21|2/15/21|2/16/21|2/17/21|2/18/21|2/19/21|2/20/21|2/21/21|2/22/21|2/23/21|2/24/21|2/25/21|2/26/21|2/27/21|\n",
      "+----+-----------+-------+-----------+------------+----------+-------+-------+-------+-------+-------+-------+-------+-------+-------+-------+------+------+------+------+------+------+------+------+------+-------+-------+-------+-------+-------+-------+-------+-------+-------+-------+-------+-------+-------+-------+-------+-------+-------+-------+-------+-------+------+------+------+------+------+------+------+------+------+-------+-------+-------+-------+-------+-------+-------+-------+-------+-------+-------+-------+-------+-------+-------+-------+-------+-------+-------+-------+-------+-------+------+------+------+------+------+------+------+------+------+-------+-------+-------+-------+-------+-------+-------+-------+-------+-------+-------+-------+-------+-------+-------+-------+-------+-------+-------+-------+-------+------+------+------+------+------+------+------+------+------+-------+-------+-------+-------+-------+-------+-------+-------+-------+-------+-------+-------+-------+-------+-------+-------+-------+-------+-------+-------+-------+-------+------+------+------+------+------+------+------+------+------+-------+-------+-------+-------+-------+-------+-------+-------+-------+-------+-------+-------+-------+-------+-------+-------+-------+-------+-------+-------+-------+------+------+------+------+------+------+------+------+------+-------+-------+-------+-------+-------+-------+-------+-------+-------+-------+-------+-------+-------+-------+-------+-------+-------+-------+-------+-------+-------+-------+------+------+------+------+------+------+------+------+------+-------+-------+-------+-------+-------+-------+-------+-------+-------+-------+-------+-------+-------+-------+-------+-------+-------+-------+-------+-------+-------+-------+------+------+------+------+------+------+------+------+------+-------+-------+-------+-------+-------+-------+-------+-------+-------+-------+-------+-------+-------+-------+-------+-------+-------+-------+-------+-------+-------+-------+-------+-------+-------+-------+-------+-------+-------+-------+--------+--------+--------+--------+--------+--------+--------+--------+--------+--------+--------+--------+--------+--------+--------+--------+--------+--------+--------+--------+--------+--------+-------+-------+-------+-------+-------+-------+-------+-------+-------+--------+--------+--------+--------+--------+--------+--------+--------+--------+--------+--------+--------+--------+--------+--------+--------+--------+--------+--------+--------+--------+-------+-------+-------+-------+-------+-------+-------+-------+-------+--------+--------+--------+--------+--------+--------+--------+--------+--------+--------+--------+--------+--------+--------+--------+--------+--------+--------+--------+--------+--------+--------+------+------+------+------+------+------+------+------+------+-------+-------+-------+-------+-------+-------+-------+-------+-------+-------+-------+-------+-------+-------+-------+-------+-------+-------+-------+-------+-------+-------+------+------+------+------+------+------+------+------+------+-------+-------+-------+-------+-------+-------+-------+-------+-------+-------+-------+-------+-------+-------+-------+-------+-------+-------+\n",
      "|1001|    Autauga|Alabama|32.53952745|-86.64408227|     55869|      0|      0|      0|      0|      0|      0|      0|      0|      0|      0|     0|     0|     0|     0|     0|     0|     0|     0|     0|      0|      0|      0|      0|      0|      0|      0|      0|      0|      0|      0|      0|      0|      0|      0|      0|      0|      0|      0|      0|     0|     0|     0|     0|     0|     0|     0|     0|     0|      0|      0|      0|      0|      0|      0|      0|      0|      0|      0|      0|      0|      0|      0|      0|      0|      0|      0|      0|      0|      0|      0|     0|     0|     0|     0|     0|     0|     1|     1|     1|      1|      1|      1|      1|      1|      1|      1|      2|      2|      2|      1|      1|      2|      2|      2|      2|      2|      3|      4|      4|      4|     3|     3|     3|     3|     3|     3|     3|     4|     4|      4|      4|      4|      4|      4|      4|      4|      4|      4|      4|      3|      3|      3|      3|      3|      3|      3|      3|      3|      3|      4|      4|     5|     5|     5|     5|     5|     5|     5|     5|     5|      6|      6|      6|      6|      6|      6|      6|      6|      7|      7|      8|      8|      8|      8|     10|     10|     10|     11|     11|     11|     11|    11|    12|    12|    12|    12|    12|    12|    12|    13|     14|     14|     15|     15|     17|     18|     19|     20|     20|     20|     20|     20|     20|     20|     20|     20|     20|     20|     20|     20|     20|     20|    20|    20|    20|    20|    21|    21|    21|    21|    21|     21|     22|     22|     22|     22|     22|     22|     22|     22|     22|     22|     22|     22|     22|     22|     22|     22|     22|     22|     22|     22|     22|    23|    23|    23|    23|    23|    23|    23|    23|    23|     23|     23|     23|     23|     23|     23|     24|     24|     24|     24|     24|     24|     25|     25|     25|     25|     25|     25|     25|     27|     27|     28|     27|     27|     27|     27|     27|     27|     28|     28|      28|      28|      28|      28|      28|      28|      28|      28|      28|      28|      29|      30|      30|      30|      31|      31|      31|      31|      31|      31|      31|      31|     31|     31|     31|     31|     31|     30|     30|     30|     30|      30|      32|      32|      36|      36|      36|      36|      37|      37|      39|      39|      39|      39|      39|      39|      41|      42|      42|      42|      42|      42|     42|     42|     42|     42|     42|     42|     42|     42|     42|      42|      42|      41|      41|      41|      43|      43|      43|      44|      44|      44|      44|      44|      46|      46|      46|      46|      47|      47|      47|      48|      48|    50|    50|    50|    50|    50|    50|    50|    50|    53|     54|     55|     55|     55|     55|     55|     55|     55|     55|     55|     55|     61|     61|     62|     62|     62|     65|     67|     69|     69|     69|     69|    69|    70|    71|    74|    76|    77|    77|    77|    77|     79|     81|     84|     84|     84|     84|     84|     84|     84|     85|     85|     85|     85|     84|     85|     89|     90|     91|\n",
      "+----+-----------+-------+-----------+------------+----------+-------+-------+-------+-------+-------+-------+-------+-------+-------+-------+------+------+------+------+------+------+------+------+------+-------+-------+-------+-------+-------+-------+-------+-------+-------+-------+-------+-------+-------+-------+-------+-------+-------+-------+-------+-------+------+------+------+------+------+------+------+------+------+-------+-------+-------+-------+-------+-------+-------+-------+-------+-------+-------+-------+-------+-------+-------+-------+-------+-------+-------+-------+-------+-------+------+------+------+------+------+------+------+------+------+-------+-------+-------+-------+-------+-------+-------+-------+-------+-------+-------+-------+-------+-------+-------+-------+-------+-------+-------+-------+-------+------+------+------+------+------+------+------+------+------+-------+-------+-------+-------+-------+-------+-------+-------+-------+-------+-------+-------+-------+-------+-------+-------+-------+-------+-------+-------+-------+-------+------+------+------+------+------+------+------+------+------+-------+-------+-------+-------+-------+-------+-------+-------+-------+-------+-------+-------+-------+-------+-------+-------+-------+-------+-------+-------+-------+------+------+------+------+------+------+------+------+------+-------+-------+-------+-------+-------+-------+-------+-------+-------+-------+-------+-------+-------+-------+-------+-------+-------+-------+-------+-------+-------+-------+------+------+------+------+------+------+------+------+------+-------+-------+-------+-------+-------+-------+-------+-------+-------+-------+-------+-------+-------+-------+-------+-------+-------+-------+-------+-------+-------+-------+------+------+------+------+------+------+------+------+------+-------+-------+-------+-------+-------+-------+-------+-------+-------+-------+-------+-------+-------+-------+-------+-------+-------+-------+-------+-------+-------+-------+-------+-------+-------+-------+-------+-------+-------+-------+--------+--------+--------+--------+--------+--------+--------+--------+--------+--------+--------+--------+--------+--------+--------+--------+--------+--------+--------+--------+--------+--------+-------+-------+-------+-------+-------+-------+-------+-------+-------+--------+--------+--------+--------+--------+--------+--------+--------+--------+--------+--------+--------+--------+--------+--------+--------+--------+--------+--------+--------+--------+-------+-------+-------+-------+-------+-------+-------+-------+-------+--------+--------+--------+--------+--------+--------+--------+--------+--------+--------+--------+--------+--------+--------+--------+--------+--------+--------+--------+--------+--------+--------+------+------+------+------+------+------+------+------+------+-------+-------+-------+-------+-------+-------+-------+-------+-------+-------+-------+-------+-------+-------+-------+-------+-------+-------+-------+-------+-------+-------+------+------+------+------+------+------+------+------+------+-------+-------+-------+-------+-------+-------+-------+-------+-------+-------+-------+-------+-------+-------+-------+-------+-------+-------+\n",
      "\n"
     ]
    }
   ],
   "source": [
    "covid_deaths_df = load_covid_deaths_data(spark)\n",
    "covid_deaths_df.limit(1).show()"
   ]
  },
  {
   "cell_type": "code",
   "execution_count": 15,
   "metadata": {},
   "outputs": [],
   "source": [
    "date_list = [(pd.to_datetime(c) - unix_time) // second for c in covid_deaths_df.columns[6:]]\n",
    "\n",
    "time_data_columns = covid_deaths_df.columns[6:]\n",
    "time_data_columns.insert(0, 'fips')\n",
    "\n",
    "time_series = []\n",
    "\n",
    "def extract_county_death_data(row):\n",
    "    fips = time_data_columns[0]\n",
    "    for i in range(1, len(time_data_columns)):\n",
    "        time_series.append((row[fips], date_list[i - 1], row[time_data_columns[i]]))\n",
    "\n",
    "for row in covid_deaths_df.collect():\n",
    "    extract_county_death_data(row)\n",
    "\n",
    "time_series_columns = [\"fips\", \"timestamp\", \"covid_death_total\"]\n",
    "\n",
    "county_deaths_df = spark.createDataFrame(time_series, time_series_columns)\n",
    "\n",
    "windowSpec = Window \\\n",
    "    .partitionBy(county_deaths_df['fips']) \\\n",
    "    .orderBy(county_deaths_df['timestamp'].asc())\n",
    "\n",
    "county_deaths_df = county_deaths_df.withColumn('lag', F.lag(county_deaths_df['covid_death_total'], 1).over(windowSpec))\n",
    "county_deaths_df = county_deaths_df.withColumn('lead', F.lead(county_deaths_df['covid_death_total'], 1).over(windowSpec))\n",
    "\n",
    "# Populate deltas\n",
    "county_deaths_df = county_deaths_df.withColumn('covid_death_delta', \\\n",
    "    F.when(county_deaths_df['lag'].isNull(), 0) \\\n",
    "    .otherwise(county_deaths_df['covid_death_total'] - county_deaths_df['lag']))\n",
    "\n",
    "county_deaths_df = county_deaths_df.withColumn('next_delta', F.lead(county_deaths_df['covid_death_delta'], 1).over(windowSpec))\n",
    "\n",
    "# Fix overreporting\n",
    "county_deaths_df = county_deaths_df.withColumn('covid_death_total', \\\n",
    "    F.when((county_deaths_df['next_delta'] >= 0) | (county_deaths_df['lag'].isNull() | (county_deaths_df['lead'].isNull())), county_deaths_df['covid_death_total']) \\\n",
    "    .otherwise(F.ceil((county_deaths_df['lead'] + county_deaths_df['lag']) / 2)))\n",
    "\n",
    "# Recalculate deltas\n",
    "county_deaths_df = county_deaths_df.withColumn('lag', F.lag(county_deaths_df['covid_death_total'], 1).over(windowSpec))\n",
    "county_deaths_df = county_deaths_df.withColumn('covid_death_delta', \\\n",
    "    F.when(county_deaths_df['lag'].isNull(), 0) \\\n",
    "    .otherwise(county_deaths_df['covid_death_total'] - county_deaths_df['lag']))\n",
    "\n",
    "county_deaths_df = county_deaths_df.drop('lag').drop('lead').drop('next_delta')"
   ]
  },
  {
   "cell_type": "code",
   "execution_count": 16,
   "metadata": {},
   "outputs": [
    {
     "name": "stdout",
     "output_type": "stream",
     "text": [
      "+----------------------+\n",
      "|min(covid_death_total)|\n",
      "+----------------------+\n",
      "|                     0|\n",
      "+----------------------+\n",
      "\n"
     ]
    }
   ],
   "source": [
    "county_deaths_df.agg({'covid_death_total': 'min'}).show()"
   ]
  },
  {
   "cell_type": "code",
   "execution_count": null,
   "metadata": {},
   "outputs": [],
   "source": [
    "county_deaths_df.agg({'covid_death_total': 'max'}).show()"
   ]
  },
  {
   "cell_type": "code",
   "execution_count": null,
   "metadata": {},
   "outputs": [],
   "source": [
    "county_deaths_df.where(county_deaths_df['covid_death_delta'].isNull()).count()"
   ]
  },
  {
   "cell_type": "code",
   "execution_count": 17,
   "metadata": {},
   "outputs": [
    {
     "name": "stdout",
     "output_type": "stream",
     "text": [
      "+----------------------+\n",
      "|min(covid_death_delta)|\n",
      "+----------------------+\n",
      "|                   -47|\n",
      "+----------------------+\n",
      "\n"
     ]
    }
   ],
   "source": [
    "county_deaths_df.agg({'covid_death_delta': 'min'}).show()"
   ]
  },
  {
   "cell_type": "code",
   "execution_count": null,
   "metadata": {},
   "outputs": [],
   "source": [
    "county_deaths_df.agg({'covid_death_delta': 'max'}).show()"
   ]
  },
  {
   "cell_type": "code",
   "execution_count": null,
   "metadata": {},
   "outputs": [],
   "source": [
    "county_deaths_df.where(county_deaths_df['covid_death_delta'] < 0).count()"
   ]
  },
  {
   "cell_type": "code",
   "execution_count": null,
   "metadata": {},
   "outputs": [],
   "source": [
    "county_deaths_df.where(county_deaths_df['covid_death_delta'] < -10).count()"
   ]
  },
  {
   "cell_type": "code",
   "execution_count": null,
   "metadata": {},
   "outputs": [],
   "source": [
    "county_deaths_df.where(county_deaths_df['covid_death_delta'] < -10).show()"
   ]
  },
  {
   "cell_type": "markdown",
   "metadata": {},
   "source": [
    "Death data looks good, we do see some negative deltas again but the vast majority is very small, most likely due to corrections, overreporting, etc."
   ]
  },
  {
   "cell_type": "code",
   "execution_count": 18,
   "metadata": {},
   "outputs": [
    {
     "name": "stdout",
     "output_type": "stream",
     "text": [
      "+----+----------+-------+----------------+----------+----------------+-----------------+-----------------+\n",
      "|fips| timestamp|  state|covid_case_total|      date|covid_case_delta|covid_death_total|covid_death_delta|\n",
      "+----+----------+-------+----------------+----------+----------------+-----------------+-----------------+\n",
      "|1001|1586044800|Alabama|              12|2020-04-05|               0|                0|                0|\n",
      "|1003|1595980800|Alabama|            3001|2020-07-29|             128|               20|                3|\n",
      "|1003|1599609600|Alabama|            4796|2020-09-09|              41|               42|                0|\n",
      "|1005|1603238400|Alabama|            1007|2020-10-21|              14|                9|                0|\n",
      "|1005|1605744000|Alabama|            1145|2020-11-19|               8|               10|                0|\n",
      "+----+----------+-------+----------------+----------+----------------+-----------------+-----------------+\n",
      "\n"
     ]
    }
   ],
   "source": [
    "county_facts_df = county_cases_df.join(county_deaths_df, on=[\"fips\", \"timestamp\"], how=\"left\")\n",
    "county_facts_df.limit(5).show()"
   ]
  },
  {
   "cell_type": "code",
   "execution_count": null,
   "metadata": {},
   "outputs": [],
   "source": [
    "county_facts_df.where(county_facts_df['fips'] == 1001).count()"
   ]
  },
  {
   "cell_type": "markdown",
   "metadata": {},
   "source": [
    "Great, this seems to have worked! So now we have the Covid-19 case and death counts.\n",
    "\n",
    "Next up, do something similar for the weather data."
   ]
  },
  {
   "cell_type": "code",
   "execution_count": 19,
   "metadata": {},
   "outputs": [
    {
     "name": "stdout",
     "output_type": "stream",
     "text": [
      "+----+-----------+-------+-----------+------------+------+------+------+------+------+------+------+------+------+-------+-------+-------+-------+-------+-------+-------+-------+-------+-------+-------+-------+-------+-------+-------+-------+-------+-------+-------+-------+-------+-------+------+------+------+------+------+------+------+------+------+-------+-------+-------+-------+-------+-------+-------+-------+-------+-------+-------+-------+-------+-------+-------+-------+-------+-------+-------+-------+------+------+------+------+------+------+------+------+------+-------+-------+-------+-------+-------+-------+-------+-------+-------+-------+-------+-------+-------+-------+-------+-------+-------+-------+-------+-------+-------+-------+------+------+------+------+------+------+------+------+------+-------+-------+-------+-------+-------+-------+-------+-------+-------+-------+-------+-------+-------+-------+-------+-------+-------+-------+-------+-------+------+------+------+------+------+------+------+------+------+-------+-------+-------+-------+-------+-------+-------+-------+-------+-------+-------+-------+-------+-------+-------+-------+-------+-------+-------+-------+-------+-------+------+------+------+------+------+------+------+------+------+-------+-------+-------+-------+-------+-------+-------+-------+-------+-------+-------+-------+-------+-------+-------+-------+-------+-------+-------+-------+-------+------+------+------+------+------+------+------+------+------+-------+-------+-------+-------+-------+-------+-------+-------+-------+-------+-------+-------+-------+-------+-------+-------+-------+-------+-------+-------+-------+-------+------+------+------+------+------+------+------+------+------+-------+-------+-------+-------+-------+-------+-------+-------+-------+-------+-------+-------+-------+-------+-------+-------+-------+-------+-------+-------+-------+-------+------+------+------+------+------+------+------+------+------+-------+-------+-------+-------+-------+-------+-------+-------+-------+-------+-------+-------+-------+-------+-------+-------+-------+-------+-------+-------+-------+-------+-------+-------+-------+-------+-------+-------+-------+-------+--------+--------+--------+--------+--------+--------+--------+--------+--------+--------+--------+--------+--------+--------+--------+--------+--------+--------+--------+--------+--------+--------+-------+-------+-------+-------+-------+-------+-------+-------+-------+--------+--------+--------+--------+--------+--------+--------+--------+--------+--------+--------+--------+--------+--------+--------+--------+--------+--------+--------+--------+--------+-------+-------+-------+-------+-------+-------+-------+-------+-------+--------+--------+--------+--------+--------+--------+--------+--------+--------+--------+--------+--------+--------+--------+--------+--------+\n",
      "|fips|county_name|  state|   latitude|   longitude|1/1/20|1/2/20|1/3/20|1/4/20|1/5/20|1/6/20|1/7/20|1/8/20|1/9/20|1/10/20|1/11/20|1/12/20|1/13/20|1/14/20|1/15/20|1/16/20|1/17/20|1/18/20|1/19/20|1/20/20|1/21/20|1/22/20|1/23/20|1/24/20|1/25/20|1/26/20|1/27/20|1/28/20|1/29/20|1/30/20|1/31/20|2/1/20|2/2/20|2/3/20|2/4/20|2/5/20|2/6/20|2/7/20|2/8/20|2/9/20|2/10/20|2/11/20|2/12/20|2/13/20|2/14/20|2/15/20|2/16/20|2/17/20|2/18/20|2/19/20|2/20/20|2/21/20|2/22/20|2/23/20|2/24/20|2/25/20|2/26/20|2/27/20|2/28/20|2/29/20|3/1/20|3/2/20|3/3/20|3/4/20|3/5/20|3/6/20|3/7/20|3/8/20|3/9/20|3/10/20|3/11/20|3/12/20|3/13/20|3/14/20|3/15/20|3/16/20|3/17/20|3/18/20|3/19/20|3/20/20|3/21/20|3/22/20|3/23/20|3/24/20|3/25/20|3/26/20|3/27/20|3/28/20|3/29/20|3/30/20|3/31/20|4/1/20|4/2/20|4/3/20|4/4/20|4/5/20|4/6/20|4/7/20|4/8/20|4/9/20|4/10/20|4/11/20|4/12/20|4/14/20|4/15/20|4/16/20|4/17/20|4/18/20|4/19/20|4/20/20|4/21/20|4/22/20|4/23/20|4/24/20|4/25/20|4/26/20|4/27/20|4/28/20|4/29/20|4/30/20|5/1/20|5/2/20|5/3/20|5/4/20|5/5/20|5/6/20|5/7/20|5/8/20|5/9/20|5/10/20|5/11/20|5/12/20|5/13/20|5/14/20|5/15/20|5/16/20|5/17/20|5/18/20|5/19/20|5/20/20|5/21/20|5/22/20|5/23/20|5/24/20|5/25/20|5/26/20|5/27/20|5/28/20|5/29/20|5/30/20|5/31/20|6/1/20|6/2/20|6/3/20|6/4/20|6/5/20|6/6/20|6/7/20|6/8/20|6/9/20|6/10/20|6/11/20|6/12/20|6/13/20|6/14/20|6/15/20|6/16/20|6/17/20|6/18/20|6/19/20|6/20/20|6/21/20|6/22/20|6/23/20|6/24/20|6/25/20|6/26/20|6/27/20|6/28/20|6/29/20|6/30/20|7/1/20|7/2/20|7/3/20|7/4/20|7/5/20|7/6/20|7/7/20|7/8/20|7/9/20|7/10/20|7/11/20|7/12/20|7/13/20|7/14/20|7/15/20|7/16/20|7/17/20|7/18/20|7/19/20|7/20/20|7/21/20|7/22/20|7/23/20|7/24/20|7/25/20|7/26/20|7/27/20|7/28/20|7/29/20|7/30/20|7/31/20|8/1/20|8/2/20|8/3/20|8/4/20|8/5/20|8/6/20|8/7/20|8/8/20|8/9/20|8/10/20|8/11/20|8/12/20|8/13/20|8/14/20|8/15/20|8/16/20|8/17/20|8/18/20|8/19/20|8/20/20|8/21/20|8/22/20|8/23/20|8/24/20|8/25/20|8/26/20|8/27/20|8/28/20|8/29/20|8/30/20|8/31/20|9/1/20|9/2/20|9/3/20|9/4/20|9/5/20|9/6/20|9/7/20|9/8/20|9/9/20|9/10/20|9/11/20|9/12/20|9/13/20|9/14/20|9/15/20|9/16/20|9/17/20|9/18/20|9/19/20|9/20/20|9/21/20|9/22/20|9/23/20|9/24/20|9/25/20|9/26/20|9/27/20|9/28/20|9/29/20|9/30/20|10/1/20|10/2/20|10/3/20|10/4/20|10/5/20|10/6/20|10/7/20|10/8/20|10/9/20|10/10/20|10/11/20|10/12/20|10/13/20|10/14/20|10/15/20|10/16/20|10/17/20|10/18/20|10/19/20|10/20/20|10/21/20|10/22/20|10/23/20|10/24/20|10/25/20|10/26/20|10/27/20|10/28/20|10/29/20|10/30/20|10/31/20|11/1/20|11/2/20|11/3/20|11/4/20|11/5/20|11/6/20|11/7/20|11/8/20|11/9/20|11/10/20|11/11/20|11/12/20|11/13/20|11/14/20|11/15/20|11/16/20|11/17/20|11/18/20|11/19/20|11/20/20|11/21/20|11/22/20|11/23/20|11/24/20|11/25/20|11/26/20|11/27/20|11/28/20|11/29/20|11/30/20|12/1/20|12/2/20|12/3/20|12/4/20|12/5/20|12/6/20|12/7/20|12/8/20|12/9/20|12/10/20|12/11/20|12/12/20|12/13/20|12/14/20|12/15/20|12/16/20|12/17/20|12/18/20|12/19/20|12/20/20|12/21/20|12/22/20|12/23/20|12/24/20|12/25/20|\n",
      "+----+-----------+-------+-----------+------------+------+------+------+------+------+------+------+------+------+-------+-------+-------+-------+-------+-------+-------+-------+-------+-------+-------+-------+-------+-------+-------+-------+-------+-------+-------+-------+-------+-------+------+------+------+------+------+------+------+------+------+-------+-------+-------+-------+-------+-------+-------+-------+-------+-------+-------+-------+-------+-------+-------+-------+-------+-------+-------+-------+------+------+------+------+------+------+------+------+------+-------+-------+-------+-------+-------+-------+-------+-------+-------+-------+-------+-------+-------+-------+-------+-------+-------+-------+-------+-------+-------+-------+------+------+------+------+------+------+------+------+------+-------+-------+-------+-------+-------+-------+-------+-------+-------+-------+-------+-------+-------+-------+-------+-------+-------+-------+-------+-------+------+------+------+------+------+------+------+------+------+-------+-------+-------+-------+-------+-------+-------+-------+-------+-------+-------+-------+-------+-------+-------+-------+-------+-------+-------+-------+-------+-------+------+------+------+------+------+------+------+------+------+-------+-------+-------+-------+-------+-------+-------+-------+-------+-------+-------+-------+-------+-------+-------+-------+-------+-------+-------+-------+-------+------+------+------+------+------+------+------+------+------+-------+-------+-------+-------+-------+-------+-------+-------+-------+-------+-------+-------+-------+-------+-------+-------+-------+-------+-------+-------+-------+-------+------+------+------+------+------+------+------+------+------+-------+-------+-------+-------+-------+-------+-------+-------+-------+-------+-------+-------+-------+-------+-------+-------+-------+-------+-------+-------+-------+-------+------+------+------+------+------+------+------+------+------+-------+-------+-------+-------+-------+-------+-------+-------+-------+-------+-------+-------+-------+-------+-------+-------+-------+-------+-------+-------+-------+-------+-------+-------+-------+-------+-------+-------+-------+-------+--------+--------+--------+--------+--------+--------+--------+--------+--------+--------+--------+--------+--------+--------+--------+--------+--------+--------+--------+--------+--------+--------+-------+-------+-------+-------+-------+-------+-------+-------+-------+--------+--------+--------+--------+--------+--------+--------+--------+--------+--------+--------+--------+--------+--------+--------+--------+--------+--------+--------+--------+--------+-------+-------+-------+-------+-------+-------+-------+-------+-------+--------+--------+--------+--------+--------+--------+--------+--------+--------+--------+--------+--------+--------+--------+--------+--------+\n",
      "|1001|    Autauga|Alabama|32.53952745|-86.64408227|     0|     8|    16|    11|     0|     1|     9|     0|     1|     13|     18|      8|     15|     17|     14|     17|      8|      9|      4|     -1|     -4|     -4|      2|      9|      1|      1|      6|      1|      5|      1|      6|     5|     0|     4|    11|    16|    18|     2|     1|     4|      9|     16|     13|     13|      1|      0|      7|      8|     13|     12|     10|      0|     -1|      0|      8|     13|      7|      0|     -1|      1|     2|    10|    15|    12|    11|     5|     1|     3|     6|     12|     12|     13|     16|     14|     16|     14|     15|     15|     15|     17|     16|     10|     15|     17|     17|     11|     16|     19|     20|     13|     14|     5|     5|     7|    11|    15|    12|    16|    17|    18|     13|      4|     10|      6|      5|      4|      7|     16|     12|     14|      8|      9|     13|     11|     13|     11|      6|      9|     15|     10|     7|     9|    12|    13|    15|    13|     6|     8|     7|      6|      9|      8|     11|     15|     16|     17|     17|     19|     14|     15|     14|     18|     18|     19|     20|     20|     19|     19|     18|     18|     16|    16|    20|    19|    19|    20|    20|    21|    22|    22|     23|     18|     17|     18|     18|     17|     17|     15|     17|     17|     18|     20|     20|     20|     20|     20|     20|     20|     22|     22|     22|    21|    21|    22|    21|    21|    21|    21|    22|    21|     22|     22|     20|     21|     21|     22|     21|     22|     22|     22|     23|     22|     22|     21|     22|     21|     21|     21|     22|     22|     22|     23|    22|    21|    22|    20|    21|    21|    20|    20|    21|     22|     22|     21|  22.36|  22.26|  21.96|  21.05|  22.04|  20.34|   20.5|  19.98|   19.9|  19.42|  20.92|  21.94|  22.92|  23.72|  23.38|  23.14|  23.21|   22.7|  22.73|  22.6| 23.05| 22.16| 20.39|  22.4| 18.49| 17.26| 19.72| 18.94|  21.24|  21.71|  22.61|  22.03|  22.41|  22.65|  19.64|  19.74|   19.5|  19.05|  15.93|  15.67|  14.32|  16.26|   19.0|  19.06|  18.85|  19.85|  20.19|  15.14|   9.14|  10.45|   9.72|   7.45|   9.59|  11.24|  12.84|  16.31|  16.12|   19.6|   21.19|   20.37|   19.21|   19.74|    9.97|   12.79|   14.25|    6.21|   10.88|   14.49|   14.43|   16.93|   18.15|   18.44|   19.18|   16.85|   15.14|   19.27|   21.66|   22.31|    9.19|    6.23|  11.09|   3.87|   2.16|   4.42|   7.37|  12.76|  15.31|  17.37|  18.31|   19.92|   20.48|   17.15|   10.83|    9.12|    12.6|    4.64|    4.29|    4.78|    3.51|    6.25|    8.37|   10.05|    8.07|    2.53|    9.29|   15.38|    9.76|    13.6|   10.13|    6.75|  -3.09|  -3.46|   -0.2|   7.54|   0.45|    2.8|   4.68|  -1.46|  -0.43|    2.21|    3.41|   12.34|     8.7|    8.14|    0.06|    7.13|    0.85|   -2.79|   -1.47|    6.22|    6.41|    2.79|     3.0|   12.25|   -3.37|\n",
      "+----+-----------+-------+-----------+------------+------+------+------+------+------+------+------+------+------+-------+-------+-------+-------+-------+-------+-------+-------+-------+-------+-------+-------+-------+-------+-------+-------+-------+-------+-------+-------+-------+-------+------+------+------+------+------+------+------+------+------+-------+-------+-------+-------+-------+-------+-------+-------+-------+-------+-------+-------+-------+-------+-------+-------+-------+-------+-------+-------+------+------+------+------+------+------+------+------+------+-------+-------+-------+-------+-------+-------+-------+-------+-------+-------+-------+-------+-------+-------+-------+-------+-------+-------+-------+-------+-------+-------+------+------+------+------+------+------+------+------+------+-------+-------+-------+-------+-------+-------+-------+-------+-------+-------+-------+-------+-------+-------+-------+-------+-------+-------+-------+-------+------+------+------+------+------+------+------+------+------+-------+-------+-------+-------+-------+-------+-------+-------+-------+-------+-------+-------+-------+-------+-------+-------+-------+-------+-------+-------+-------+-------+------+------+------+------+------+------+------+------+------+-------+-------+-------+-------+-------+-------+-------+-------+-------+-------+-------+-------+-------+-------+-------+-------+-------+-------+-------+-------+-------+------+------+------+------+------+------+------+------+------+-------+-------+-------+-------+-------+-------+-------+-------+-------+-------+-------+-------+-------+-------+-------+-------+-------+-------+-------+-------+-------+-------+------+------+------+------+------+------+------+------+------+-------+-------+-------+-------+-------+-------+-------+-------+-------+-------+-------+-------+-------+-------+-------+-------+-------+-------+-------+-------+-------+-------+------+------+------+------+------+------+------+------+------+-------+-------+-------+-------+-------+-------+-------+-------+-------+-------+-------+-------+-------+-------+-------+-------+-------+-------+-------+-------+-------+-------+-------+-------+-------+-------+-------+-------+-------+-------+--------+--------+--------+--------+--------+--------+--------+--------+--------+--------+--------+--------+--------+--------+--------+--------+--------+--------+--------+--------+--------+--------+-------+-------+-------+-------+-------+-------+-------+-------+-------+--------+--------+--------+--------+--------+--------+--------+--------+--------+--------+--------+--------+--------+--------+--------+--------+--------+--------+--------+--------+--------+-------+-------+-------+-------+-------+-------+-------+-------+-------+--------+--------+--------+--------+--------+--------+--------+--------+--------+--------+--------+--------+--------+--------+--------+--------+\n",
      "\n"
     ]
    }
   ],
   "source": [
    "tMin_df, tMax_df, cloud_df, wind_df = load_weather_data(spark)\n",
    "tMin_df.limit(1).show()"
   ]
  },
  {
   "cell_type": "code",
   "execution_count": 20,
   "metadata": {},
   "outputs": [],
   "source": [
    "def transform_weather_data(df, column_name):\n",
    "    date_list = [(pd.to_datetime(c) - unix_time) // second for c in df.columns[5:]]\n",
    "\n",
    "    time_data_columns = df.columns[5:]\n",
    "    time_data_columns.insert(0, 'fips')\n",
    "\n",
    "    time_series = []\n",
    "\n",
    "    def extract_weather_data(row):\n",
    "        fips = time_data_columns[0]\n",
    "        for i in range(1, len(time_data_columns)):\n",
    "            time_series.append((row[fips], date_list[i - 1], float(row[time_data_columns[i]])))\n",
    "\n",
    "    for row in df.collect():\n",
    "        extract_weather_data(row)\n",
    "\n",
    "    time_series_columns = [\"fips\", \"timestamp\", column_name]\n",
    "\n",
    "    df = spark.createDataFrame(time_series, time_series_columns)\n",
    "    \n",
    "    return df\n",
    "\n",
    "transformed_tMin_df = transform_weather_data(tMin_df, \"min_temp\")\n",
    "transformed_tMax_df = transform_weather_data(tMax_df, \"max_temp\")\n",
    "transformed_cloud_df = transform_weather_data(cloud_df, \"cloud_cover\")\n",
    "transformed_wind_df = transform_weather_data(wind_df, \"wind\")"
   ]
  },
  {
   "cell_type": "code",
   "execution_count": 21,
   "metadata": {},
   "outputs": [
    {
     "name": "stdout",
     "output_type": "stream",
     "text": [
      "+----+----------+--------+\n",
      "|fips| timestamp|min_temp|\n",
      "+----+----------+--------+\n",
      "|1001|1577836800|     0.0|\n",
      "|1001|1577923200|     8.0|\n",
      "|1001|1578009600|    16.0|\n",
      "|1001|1578096000|    11.0|\n",
      "|1001|1578182400|     0.0|\n",
      "+----+----------+--------+\n",
      "\n"
     ]
    }
   ],
   "source": [
    "transformed_tMin_df.limit(5).show()"
   ]
  },
  {
   "cell_type": "code",
   "execution_count": 22,
   "metadata": {},
   "outputs": [
    {
     "name": "stdout",
     "output_type": "stream",
     "text": [
      "+----+----------+-------+----------------+----------+----------------+-----------------+-----------------+--------+--------+-----------+----+\n",
      "|fips| timestamp|  state|covid_case_total|      date|covid_case_delta|covid_death_total|covid_death_delta|min_temp|max_temp|cloud_cover|wind|\n",
      "+----+----------+-------+----------------+----------+----------------+-----------------+-----------------+--------+--------+-----------+----+\n",
      "|1001|1586044800|Alabama|              12|2020-04-05|               0|                0|                0|    15.0|    27.0|       59.0| 1.0|\n",
      "|1003|1595980800|Alabama|            3001|2020-07-29|             128|               20|                3|    23.0|    30.0|       70.0| 2.0|\n",
      "|1003|1599609600|Alabama|            4796|2020-09-09|              41|               42|                0|   20.85|   32.28|       14.0|1.88|\n",
      "|1005|1603238400|Alabama|            1007|2020-10-21|              14|                9|                0|   17.54|   28.84|       12.0|2.65|\n",
      "|1005|1605744000|Alabama|            1145|2020-11-19|               8|               10|                0|    2.79|   19.39|        0.0|2.66|\n",
      "+----+----------+-------+----------------+----------+----------------+-----------------+-----------------+--------+--------+-----------+----+\n",
      "\n"
     ]
    }
   ],
   "source": [
    "county_facts_df = county_facts_df.join(transformed_tMin_df, on=[\"fips\", \"timestamp\"], how=\"left\")\n",
    "county_facts_df = county_facts_df.join(transformed_tMax_df, on=[\"fips\", \"timestamp\"], how=\"left\")\n",
    "county_facts_df = county_facts_df.join(transformed_cloud_df, on=[\"fips\", \"timestamp\"], how=\"left\")\n",
    "county_facts_df = county_facts_df.join(transformed_wind_df, on=[\"fips\", \"timestamp\"], how=\"left\")\n",
    "county_facts_df.limit(5).show()"
   ]
  },
  {
   "cell_type": "code",
   "execution_count": 23,
   "metadata": {},
   "outputs": [
    {
     "name": "stdout",
     "output_type": "stream",
     "text": [
      "+----+----------+-------+----------------+----------------+-----------------+-----------------+--------+--------+-----------+----+\n",
      "|fips| timestamp|  state|covid_case_total|covid_case_delta|covid_death_total|covid_death_delta|min_temp|max_temp|cloud_cover|wind|\n",
      "+----+----------+-------+----------------+----------------+-----------------+-----------------+--------+--------+-----------+----+\n",
      "|1001|1586044800|Alabama|              12|               0|                0|                0|    15.0|    27.0|       59.0| 1.0|\n",
      "|1003|1595980800|Alabama|            3001|             128|               20|                3|    23.0|    30.0|       70.0| 2.0|\n",
      "|1003|1599609600|Alabama|            4796|              41|               42|                0|   20.85|   32.28|       14.0|1.88|\n",
      "|1005|1603238400|Alabama|            1007|              14|                9|                0|   17.54|   28.84|       12.0|2.65|\n",
      "|1005|1605744000|Alabama|            1145|               8|               10|                0|    2.79|   19.39|        0.0|2.66|\n",
      "+----+----------+-------+----------------+----------------+-----------------+-----------------+--------+--------+-----------+----+\n",
      "\n"
     ]
    }
   ],
   "source": [
    "county_facts_df = county_facts_df.drop('date')\n",
    "county_facts_df.limit(5).show()"
   ]
  },
  {
   "cell_type": "code",
   "execution_count": null,
   "metadata": {},
   "outputs": [],
   "source": [
    "county_facts_df.write.partitionBy('fips').mode('overwrite').parquet(output_path + \"county_facts.parquet\")"
   ]
  }
 ],
 "metadata": {
  "kernelspec": {
   "display_name": "Python 3",
   "language": "python",
   "name": "python3"
  },
  "language_info": {
   "codemirror_mode": {
    "name": "ipython",
    "version": 3
   },
   "file_extension": ".py",
   "mimetype": "text/x-python",
   "name": "python",
   "nbconvert_exporter": "python",
   "pygments_lexer": "ipython3",
   "version": "3.8.5"
  }
 },
 "nbformat": 4,
 "nbformat_minor": 4
}
