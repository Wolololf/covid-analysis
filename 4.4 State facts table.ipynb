{
 "cells": [
  {
   "cell_type": "markdown",
   "metadata": {},
   "source": [
    "#### 4.4 Create the state facts table\n",
    "- Load county facts table\n",
    "- Discard weather data\n",
    "- Group by state and timestamp\n",
    "- Add up case/death total/delta\n",
    "- Write out to parquet"
   ]
  },
  {
   "cell_type": "markdown",
   "metadata": {},
   "source": [
    "##### Setup\n",
    "I'm going to need Spark for this because I'll want to make use of some of its functionality, such as the ability to create temporary SQL views of my dataframes."
   ]
  },
  {
   "cell_type": "code",
   "execution_count": 1,
   "metadata": {},
   "outputs": [],
   "source": [
    "from setup import create_spark_session\n",
    "\n",
    "spark = create_spark_session()"
   ]
  },
  {
   "cell_type": "markdown",
   "metadata": {},
   "source": [
    "Imports and output paths:"
   ]
  },
  {
   "cell_type": "code",
   "execution_count": 2,
   "metadata": {},
   "outputs": [],
   "source": [
    "import pandas as pd\n",
    "from pyspark.sql import functions as F\n",
    "from pyspark.sql.types import *\n",
    "\n",
    "from clean import *\n",
    "from etl import *\n",
    "\n",
    "# For now, just locally, later on maybe write this to S3 instead\n",
    "output_path = \"output/\""
   ]
  },
  {
   "cell_type": "code",
   "execution_count": 3,
   "metadata": {},
   "outputs": [],
   "source": [
    "county_facts_df = load_county_facts_table(spark)"
   ]
  },
  {
   "cell_type": "code",
   "execution_count": 4,
   "metadata": {},
   "outputs": [
    {
     "name": "stdout",
     "output_type": "stream",
     "text": [
      "+----------+--------------+----------------+----------------+-----------------+-----------------+--------+--------+-----------+----+-----+\n",
      "| timestamp|         state|covid_case_total|covid_case_delta|covid_death_total|covid_death_delta|min_temp|max_temp|cloud_cover|wind| fips|\n",
      "+----------+--------------+----------------+----------------+-----------------+-----------------+--------+--------+-----------+----+-----+\n",
      "|1582156800|North Carolina|               0|               0|                0|                0|     1.0|    11.0|       85.0| 2.0|37181|\n",
      "|1586390400|North Carolina|              19|               2|                0|                0|    12.0|    28.0|       17.0| 3.0|37181|\n",
      "|1587945600|North Carolina|              80|               1|                3|                0|     9.0|    22.0|       71.0| 2.0|37181|\n",
      "|1594080000|North Carolina|             542|               7|               39|                1|    20.0|    33.0|       27.0| 1.0|37181|\n",
      "|1594512000|North Carolina|             587|              19|               40|                0|    19.0|    32.0|       19.0| 2.0|37181|\n",
      "+----------+--------------+----------------+----------------+-----------------+-----------------+--------+--------+-----------+----+-----+\n",
      "\n"
     ]
    }
   ],
   "source": [
    "county_facts_df.limit(5).show()"
   ]
  },
  {
   "cell_type": "code",
   "execution_count": 5,
   "metadata": {},
   "outputs": [
    {
     "name": "stdout",
     "output_type": "stream",
     "text": [
      "+--------------+----------+----------------+----------------+-----------------+-----------------+\n",
      "|         state| timestamp|covid_case_total|covid_case_delta|covid_death_total|covid_death_delta|\n",
      "+--------------+----------+----------------+----------------+-----------------+-----------------+\n",
      "|North Carolina|1582156800|               0|               0|                0|                0|\n",
      "|North Carolina|1586390400|              19|               2|                0|                0|\n",
      "|North Carolina|1587945600|              80|               1|                3|                0|\n",
      "|North Carolina|1594080000|             542|               7|               39|                1|\n",
      "|North Carolina|1594512000|             587|              19|               40|                0|\n",
      "+--------------+----------+----------------+----------------+-----------------+-----------------+\n",
      "\n"
     ]
    }
   ],
   "source": [
    "county_facts_df_reduced = county_facts_df[['state', 'timestamp', 'covid_case_total', 'covid_case_delta', 'covid_death_total', 'covid_death_delta']]\n",
    "county_facts_df_reduced.limit(5).show()"
   ]
  },
  {
   "cell_type": "code",
   "execution_count": 6,
   "metadata": {},
   "outputs": [],
   "source": [
    "state_facts_df = county_facts_df_reduced.groupBy('state', 'timestamp').agg( \\\n",
    "    F.sum('covid_case_total').alias('covid_case_total'), \\\n",
    "    F.sum('covid_case_delta').alias('covid_case_delta'), \\\n",
    "    F.sum('covid_death_total').alias('covid_death_total'), \\\n",
    "    F.sum('covid_death_delta').alias('covid_death_delta'))"
   ]
  },
  {
   "cell_type": "code",
   "execution_count": 7,
   "metadata": {},
   "outputs": [
    {
     "name": "stdout",
     "output_type": "stream",
     "text": [
      "+--------------+----------+----------------+----------------+-----------------+-----------------+\n",
      "|         state| timestamp|covid_case_total|covid_case_delta|covid_death_total|covid_death_delta|\n",
      "+--------------+----------+----------------+----------------+-----------------+-----------------+\n",
      "|North Carolina|1584057600|               1|               1|                0|                0|\n",
      "|      Arkansas|1587513600|              63|               0|                1|                0|\n",
      "|      Nebraska|1590019200|              93|               2|                3|                0|\n",
      "| West Virginia|1586649600|              24|               1|                0|                0|\n",
      "| West Virginia|1595289600|             477|              13|                5|                0|\n",
      "+--------------+----------+----------------+----------------+-----------------+-----------------+\n",
      "\n"
     ]
    }
   ],
   "source": [
    "state_facts_df.limit(5).show()"
   ]
  },
  {
   "cell_type": "code",
   "execution_count": null,
   "metadata": {},
   "outputs": [],
   "source": [
    "#state_facts_df.write.partitionBy('state').mode('overwrite').parquet(output_path + \"state_facts.parquet\")"
   ]
  }
 ],
 "metadata": {
  "kernelspec": {
   "display_name": "Python 3",
   "language": "python",
   "name": "python3"
  },
  "language_info": {
   "codemirror_mode": {
    "name": "ipython",
    "version": 3
   },
   "file_extension": ".py",
   "mimetype": "text/x-python",
   "name": "python",
   "nbconvert_exporter": "python",
   "pygments_lexer": "ipython3",
   "version": "3.8.5"
  }
 },
 "nbformat": 4,
 "nbformat_minor": 4
}
