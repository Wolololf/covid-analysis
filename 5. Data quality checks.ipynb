{
 "cells": [
  {
   "cell_type": "markdown",
   "metadata": {},
   "source": [
    "#### 5. Data Quality Checks\n",
    "Explain the data quality checks you'll perform to ensure the pipeline ran as expected. These could include:\n",
    " * Integrity constraints on the relational database (e.g. unique key, data type, etc.)\n",
    " * Source/Count checks to ensure completeness"
   ]
  },
  {
   "cell_type": "code",
   "execution_count": 1,
   "metadata": {},
   "outputs": [],
   "source": [
    "from setup import create_spark_session\n",
    "\n",
    "spark = create_spark_session()"
   ]
  },
  {
   "cell_type": "code",
   "execution_count": 16,
   "metadata": {},
   "outputs": [],
   "source": [
    "import pandas as pd\n",
    "\n",
    "from pyspark.sql.functions import isnan, when, count, col\n",
    "\n",
    "from etl import *"
   ]
  },
  {
   "cell_type": "markdown",
   "metadata": {},
   "source": [
    "##### Time dimension table\n",
    "Checks:\n",
    "* Check count\n",
    "* Unique key for timestamp\n",
    "* Columns are integers\n",
    "* No null entries\n",
    "\n",
    "But first, let's load our data:"
   ]
  },
  {
   "cell_type": "code",
   "execution_count": 10,
   "metadata": {},
   "outputs": [],
   "source": [
    "time_df = load_time_dimension_table(spark)"
   ]
  },
  {
   "cell_type": "markdown",
   "metadata": {},
   "source": [
    "Data existence check:"
   ]
  },
  {
   "cell_type": "code",
   "execution_count": 8,
   "metadata": {},
   "outputs": [
    {
     "name": "stdout",
     "output_type": "stream",
     "text": [
      "+----------+---+----+----+-------+-----+\n",
      "| timestamp|day|week|year|weekday|month|\n",
      "+----------+---+----+----+-------+-----+\n",
      "|1593561600|  1|  27|2020|      3|    7|\n",
      "|1593648000|  2|  27|2020|      4|    7|\n",
      "|1593734400|  3|  27|2020|      5|    7|\n",
      "|1593820800|  4|  27|2020|      6|    7|\n",
      "|1593907200|  5|  27|2020|      7|    7|\n",
      "|1593993600|  6|  28|2020|      1|    7|\n",
      "|1594080000|  7|  28|2020|      2|    7|\n",
      "|1594166400|  8|  28|2020|      3|    7|\n",
      "|1594252800|  9|  28|2020|      4|    7|\n",
      "|1594339200| 10|  28|2020|      5|    7|\n",
      "|1594425600| 11|  28|2020|      6|    7|\n",
      "|1594512000| 12|  28|2020|      7|    7|\n",
      "|1594598400| 13|  29|2020|      1|    7|\n",
      "|1594684800| 14|  29|2020|      2|    7|\n",
      "|1594771200| 15|  29|2020|      3|    7|\n",
      "|1594857600| 16|  29|2020|      4|    7|\n",
      "|1594944000| 17|  29|2020|      5|    7|\n",
      "|1595030400| 18|  29|2020|      6|    7|\n",
      "|1595116800| 19|  29|2020|      7|    7|\n",
      "|1595203200| 20|  30|2020|      1|    7|\n",
      "+----------+---+----+----+-------+-----+\n",
      "only showing top 20 rows\n",
      "\n"
     ]
    }
   ],
   "source": [
    "time_df.show()"
   ]
  },
  {
   "cell_type": "markdown",
   "metadata": {},
   "source": [
    "Duplicate key check (same amount after dropDuplicates as before indicates no duplicates!):"
   ]
  },
  {
   "cell_type": "code",
   "execution_count": 4,
   "metadata": {},
   "outputs": [
    {
     "data": {
      "text/plain": [
       "403"
      ]
     },
     "execution_count": 4,
     "metadata": {},
     "output_type": "execute_result"
    }
   ],
   "source": [
    "time_df.count()"
   ]
  },
  {
   "cell_type": "code",
   "execution_count": 5,
   "metadata": {},
   "outputs": [
    {
     "data": {
      "text/plain": [
       "403"
      ]
     },
     "execution_count": 5,
     "metadata": {},
     "output_type": "execute_result"
    }
   ],
   "source": [
    "time_df.dropDuplicates(['timestamp']).count()"
   ]
  },
  {
   "cell_type": "markdown",
   "metadata": {},
   "source": [
    "Data type check:"
   ]
  },
  {
   "cell_type": "code",
   "execution_count": 11,
   "metadata": {},
   "outputs": [
    {
     "name": "stdout",
     "output_type": "stream",
     "text": [
      "root\n",
      " |-- timestamp: long (nullable = true)\n",
      " |-- day: integer (nullable = true)\n",
      " |-- week: integer (nullable = true)\n",
      " |-- year: integer (nullable = true)\n",
      " |-- weekday: integer (nullable = true)\n",
      " |-- month: integer (nullable = true)\n",
      "\n"
     ]
    }
   ],
   "source": [
    "time_df.printSchema()"
   ]
  },
  {
   "cell_type": "markdown",
   "metadata": {},
   "source": [
    "Null checks:"
   ]
  },
  {
   "cell_type": "code",
   "execution_count": 17,
   "metadata": {},
   "outputs": [
    {
     "name": "stdout",
     "output_type": "stream",
     "text": [
      "+---------+---+----+----+-------+-----+\n",
      "|timestamp|day|week|year|weekday|month|\n",
      "+---------+---+----+----+-------+-----+\n",
      "|        0|  0|   0|   0|      0|    0|\n",
      "+---------+---+----+----+-------+-----+\n",
      "\n"
     ]
    }
   ],
   "source": [
    "time_df.select([count(when(isnan(c) | col(c).isNull(), c)).alias(c) for c in time_df.columns]).show()"
   ]
  },
  {
   "cell_type": "markdown",
   "metadata": {},
   "source": [
    "##### County dimension table\n",
    "Checks:\n",
    "* Check count\n",
    "* Unique key for FIPS\n",
    "* Data types: County FIPS and name string, population integer, rest decimal\n",
    "* No null entries apart from in uninsured, physicians, unemployment, air_pollution, household_overcrowding, residential_segregation and rural\n",
    "* No negative numbers in numerics\n",
    "* State foreign key exists in state dimension table\n",
    "\n",
    "Load data:"
   ]
  },
  {
   "cell_type": "code",
   "execution_count": 9,
   "metadata": {},
   "outputs": [],
   "source": [
    "county_dim_df = load_county_dimension_table(spark)"
   ]
  },
  {
   "cell_type": "markdown",
   "metadata": {},
   "source": [
    "Existence check:"
   ]
  },
  {
   "cell_type": "code",
   "execution_count": 12,
   "metadata": {},
   "outputs": [
    {
     "name": "stdout",
     "output_type": "stream",
     "text": [
      "+-----+-----------+-----------+------------+----------+------------+------------+-------+-------------------+------------------+------------+-----------+------------+-------------+----------------+----------------------+---------------+-----------------------+---------------+------------+--------+------------------+-----+\n",
      "| fips|county_name|   latitude|   longitude|population| poor_health|     smokers|obesity|physical_inactivity|excessive_drinking|   uninsured| physicians|unemployment|air_pollution|housing_problems|household_overcrowding|food_insecurity|residential_segregation|over_sixtyfives|       rural|    area|population_density|state|\n",
      "+-----+-----------+-----------+------------+----------+------------+------------+-------+-------------------+------------------+------------+-----------+------------+-------------+----------------+----------------------+---------------+-----------------------+---------------+------------+--------+------------------+-----+\n",
      "|48001|   Anderson|31.81534745|-95.65354823|     58057|0.1972772264| 0.173863208|  0.365|              0.231|      0.1923829174|0.1960252936|3.463743E-4|0.0308985187|          9.9|    0.1442365721|          0.0452625226|          0.182|           31.324239849|   0.1479752657|0.6706353279|1062.602|54.636637235766536|Texas|\n",
      "|48003|    Andrews|32.30468633|-102.6376548|     18128|0.1985100222| 0.134363002|  0.349|              0.264|      0.2011542987|0.2205352059|5.078434E-4|0.0239820934|          7.3|    0.1632653061|          0.0797773655|          0.084|           10.286160726|   0.1035966461|0.1650209658|1500.713|12.079591500839934|Texas|\n",
      "|48005|   Angelina|31.25457347|-94.60901487|     87092|0.2090042999|0.1585696582|  0.407|              0.345|      0.1573896433|0.2165753731|5.922214E-4|0.0438816934|          9.8|      0.17461879|          0.0490244302|          0.189|           37.254296744|   0.1632526524|0.4308236623| 797.778|109.16821471637473|Texas|\n",
      "|48007|    Aransas|28.10556197| -96.9995047|     23792|0.2055054094|0.1415745233|  0.405|              0.363|      0.1589120745|0.2230243369|3.519474E-4|0.0571068451|          9.3|    0.1382198953|          0.0256544503|          0.165|           20.556187387|   0.2962760592|0.2726055791| 252.074| 94.38498218777025|Texas|\n",
      "|48009|     Archer|33.61569967|-98.68754589|      8786|0.1389139766|0.1406260699|  0.268|              0.193|      0.1925183263|0.1897820549|       null|  0.03083174|          8.5|    0.0945945946|          0.0222222222|           0.14|           26.771709398|   0.2000910539|0.8898829247|  903.11| 9.728604488932689|Texas|\n",
      "+-----+-----------+-----------+------------+----------+------------+------------+-------+-------------------+------------------+------------+-----------+------------+-------------+----------------+----------------------+---------------+-----------------------+---------------+------------+--------+------------------+-----+\n",
      "\n"
     ]
    }
   ],
   "source": [
    "county_dim_df.limit(5).show()"
   ]
  },
  {
   "cell_type": "markdown",
   "metadata": {},
   "source": [
    "Unique key check:"
   ]
  },
  {
   "cell_type": "code",
   "execution_count": 13,
   "metadata": {},
   "outputs": [
    {
     "data": {
      "text/plain": [
       "3140"
      ]
     },
     "execution_count": 13,
     "metadata": {},
     "output_type": "execute_result"
    }
   ],
   "source": [
    "county_dim_df.count()"
   ]
  },
  {
   "cell_type": "code",
   "execution_count": 14,
   "metadata": {},
   "outputs": [
    {
     "data": {
      "text/plain": [
       "3140"
      ]
     },
     "execution_count": 14,
     "metadata": {},
     "output_type": "execute_result"
    }
   ],
   "source": [
    "county_dim_df.dropDuplicates(['fips']).count()"
   ]
  },
  {
   "cell_type": "markdown",
   "metadata": {},
   "source": [
    "Data type check:"
   ]
  },
  {
   "cell_type": "code",
   "execution_count": 15,
   "metadata": {},
   "outputs": [
    {
     "name": "stdout",
     "output_type": "stream",
     "text": [
      "root\n",
      " |-- fips: integer (nullable = true)\n",
      " |-- county_name: string (nullable = true)\n",
      " |-- latitude: double (nullable = true)\n",
      " |-- longitude: double (nullable = true)\n",
      " |-- population: integer (nullable = true)\n",
      " |-- poor_health: double (nullable = true)\n",
      " |-- smokers: double (nullable = true)\n",
      " |-- obesity: double (nullable = true)\n",
      " |-- physical_inactivity: double (nullable = true)\n",
      " |-- excessive_drinking: double (nullable = true)\n",
      " |-- uninsured: double (nullable = true)\n",
      " |-- physicians: double (nullable = true)\n",
      " |-- unemployment: double (nullable = true)\n",
      " |-- air_pollution: double (nullable = true)\n",
      " |-- housing_problems: double (nullable = true)\n",
      " |-- household_overcrowding: double (nullable = true)\n",
      " |-- food_insecurity: double (nullable = true)\n",
      " |-- residential_segregation: double (nullable = true)\n",
      " |-- over_sixtyfives: double (nullable = true)\n",
      " |-- rural: double (nullable = true)\n",
      " |-- area: double (nullable = true)\n",
      " |-- population_density: double (nullable = true)\n",
      " |-- state: string (nullable = true)\n",
      "\n"
     ]
    }
   ],
   "source": [
    "county_dim_df.printSchema()"
   ]
  },
  {
   "cell_type": "markdown",
   "metadata": {},
   "source": [
    "Null checks:"
   ]
  },
  {
   "cell_type": "code",
   "execution_count": 18,
   "metadata": {},
   "outputs": [
    {
     "name": "stdout",
     "output_type": "stream",
     "text": [
      "+----+-----------+--------+---------+----------+-----------+-------+-------+-------------------+------------------+---------+----------+------------+-------------+----------------+----------------------+---------------+-----------------------+---------------+-----+----+------------------+-----+\n",
      "|fips|county_name|latitude|longitude|population|poor_health|smokers|obesity|physical_inactivity|excessive_drinking|uninsured|physicians|unemployment|air_pollution|housing_problems|household_overcrowding|food_insecurity|residential_segregation|over_sixtyfives|rural|area|population_density|state|\n",
      "+----+-----------+--------+---------+----------+-----------+-------+-------+-------------------+------------------+---------+----------+------------+-------------+----------------+----------------------+---------------+-----------------------+---------------+-----+----+------------------+-----+\n",
      "|   0|          0|       0|        0|         0|          0|      0|      0|                  0|                 0|        1|       146|           1|           33|               0|                     0|              0|                    350|              0|    5|   0|                 0|    0|\n",
      "+----+-----------+--------+---------+----------+-----------+-------+-------+-------------------+------------------+---------+----------+------------+-------------+----------------+----------------------+---------------+-----------------------+---------------+-----+----+------------------+-----+\n",
      "\n"
     ]
    }
   ],
   "source": [
    "county_dim_df.select([count(when(isnan(c) | col(c).isNull(), c)).alias(c) for c in county_dim_df.columns]).show()"
   ]
  },
  {
   "cell_type": "markdown",
   "metadata": {},
   "source": [
    "The null values are in the columns we expected them to be in. This is by design."
   ]
  },
  {
   "cell_type": "markdown",
   "metadata": {},
   "source": [
    "Check for negative values in numeric columns:"
   ]
  },
  {
   "cell_type": "code",
   "execution_count": 20,
   "metadata": {},
   "outputs": [
    {
     "name": "stdout",
     "output_type": "stream",
     "text": [
      "+----+-----------+--------+---------+----------+-----------+-------+-------+-------------------+------------------+---------+----------+------------+-------------+----------------+----------------------+---------------+-----------------------+---------------+-----+----+------------------+-----+\n",
      "|fips|county_name|latitude|longitude|population|poor_health|smokers|obesity|physical_inactivity|excessive_drinking|uninsured|physicians|unemployment|air_pollution|housing_problems|household_overcrowding|food_insecurity|residential_segregation|over_sixtyfives|rural|area|population_density|state|\n",
      "+----+-----------+--------+---------+----------+-----------+-------+-------+-------------------+------------------+---------+----------+------------+-------------+----------------+----------------------+---------------+-----------------------+---------------+-----+----+------------------+-----+\n",
      "|   0|          0|       0|     3140|         0|          0|      0|      0|                  0|                 0|        0|         0|           0|            0|               0|                     0|              0|                      0|              0|    0|   0|                 0|    0|\n",
      "+----+-----------+--------+---------+----------+-----------+-------+-------+-------------------+------------------+---------+----------+------------+-------------+----------------+----------------------+---------------+-----------------------+---------------+-----+----+------------------+-----+\n",
      "\n"
     ]
    }
   ],
   "source": [
    "county_dim_df.select([count(when(col(c).cast(\"float\").isNotNull() & (col(c) < 0), c)).alias(c) for c in county_dim_df.columns]).show()"
   ]
  },
  {
   "cell_type": "markdown",
   "metadata": {},
   "source": [
    "We do find one numeric column that has negative values, and that's longitude. This is unsurprising, but amusing that this would fail this check."
   ]
  },
  {
   "cell_type": "markdown",
   "metadata": {},
   "source": [
    "##### State dimension table\n",
    "Checks:\n",
    "* Existence and count\n",
    "* Unique key for state name\n",
    "* Date types: State key and name string, population integer, rest decimal\n",
    "* No null entries apart from in air_pollution and household_overcrowding\n",
    "* No negative numbers in numerics"
   ]
  },
  {
   "cell_type": "code",
   "execution_count": 24,
   "metadata": {},
   "outputs": [],
   "source": [
    "state_dim_df = load_state_dimension_table(spark)"
   ]
  },
  {
   "cell_type": "markdown",
   "metadata": {},
   "source": [
    "Existence:"
   ]
  },
  {
   "cell_type": "code",
   "execution_count": 25,
   "metadata": {},
   "outputs": [
    {
     "name": "stdout",
     "output_type": "stream",
     "text": [
      "+----------+------------+----------+------------+------------+-------+-------------------+------------------+------------+-----------+------------+-------------+----------------+----------------------+---------------+-----------------------+---------------+------------+------------------+------------------+\n",
      "|     state|abbreviation|population| poor_health|     smokers|obesity|physical_inactivity|excessive_drinking|   uninsured| physicians|unemployment|air_pollution|housing_problems|household_overcrowding|food_insecurity|residential_segregation|over_sixtyfives|       rural|              area|population_density|\n",
      "+----------+------------+----------+------------+------------+-------+-------------------+------------------+------------+-----------+------------+-------------+----------------+----------------------+---------------+-----------------------+---------------+------------+------------------+------------------+\n",
      "|   Alabama|          AL|   4887871|0.2202870285|0.2092735311|  0.355|              0.298|      0.1390351529|0.1104478259|6.482388E-4|0.0393356691|         11.0|    0.1434070208|                  null|          0.163|           50.777775905|   0.1691726316| 0.409631829| 50645.32500000001| 96.51179057494446|\n",
      "|    Alaska|          AK|    737438|0.1808017613|0.2100785366|  0.325|                0.2|      0.2129393789|0.1475762792|9.097115E-4|0.0658753776|         null|    0.2051671429|                  null|          0.136|           43.340440022|   0.1179909362|0.3398021207| 553559.5180000002|1.3321747274156701|\n",
      "|   Arizona|          AZ|   7171646|0.1855504464|0.1555500301|  0.275|              0.218|      0.1670870284|0.1210220861|6.645981E-4|0.0483188061|          5.8|    0.1845691162|                  null|           0.14|            36.68660884|   0.1754478679|0.1019017941|113594.08499999998|63.133973921265365|\n",
      "|  Arkansas|          AR|   3013825|0.2319868077|0.2228625875|  0.342|              0.316|      0.1580533385| 0.093032678|6.657171E-4|0.0370241021|         10.0|     0.143230718|                  null|          0.173|           50.840417823|   0.1698263834|0.4383967588| 52035.47799999999|57.918656959392216|\n",
      "|California|          CA|  39557045| 0.172182085|0.1133626274|  0.236|              0.176|       0.192207998| 0.082071999|7.927581E-4|0.0420352659|          9.5|    0.2686207996|                  null|           0.11|           37.891200486|   0.1433126514|0.0504738342|155779.21800000002|253.93018085377727|\n",
      "+----------+------------+----------+------------+------------+-------+-------------------+------------------+------------+-----------+------------+-------------+----------------+----------------------+---------------+-----------------------+---------------+------------+------------------+------------------+\n",
      "\n"
     ]
    }
   ],
   "source": [
    "state_dim_df.limit(5).show()"
   ]
  },
  {
   "cell_type": "markdown",
   "metadata": {},
   "source": [
    "Duplicates:"
   ]
  },
  {
   "cell_type": "code",
   "execution_count": 26,
   "metadata": {},
   "outputs": [
    {
     "data": {
      "text/plain": [
       "51"
      ]
     },
     "execution_count": 26,
     "metadata": {},
     "output_type": "execute_result"
    }
   ],
   "source": [
    "state_dim_df.count()"
   ]
  },
  {
   "cell_type": "code",
   "execution_count": 27,
   "metadata": {},
   "outputs": [
    {
     "data": {
      "text/plain": [
       "51"
      ]
     },
     "execution_count": 27,
     "metadata": {},
     "output_type": "execute_result"
    }
   ],
   "source": [
    "state_dim_df.dropDuplicates(['state']).count()"
   ]
  },
  {
   "cell_type": "markdown",
   "metadata": {},
   "source": [
    "Data types:"
   ]
  },
  {
   "cell_type": "code",
   "execution_count": 28,
   "metadata": {},
   "outputs": [
    {
     "name": "stdout",
     "output_type": "stream",
     "text": [
      "root\n",
      " |-- state: string (nullable = true)\n",
      " |-- abbreviation: string (nullable = true)\n",
      " |-- population: integer (nullable = true)\n",
      " |-- poor_health: double (nullable = true)\n",
      " |-- smokers: double (nullable = true)\n",
      " |-- obesity: double (nullable = true)\n",
      " |-- physical_inactivity: double (nullable = true)\n",
      " |-- excessive_drinking: double (nullable = true)\n",
      " |-- uninsured: double (nullable = true)\n",
      " |-- physicians: double (nullable = true)\n",
      " |-- unemployment: double (nullable = true)\n",
      " |-- air_pollution: double (nullable = true)\n",
      " |-- housing_problems: double (nullable = true)\n",
      " |-- household_overcrowding: double (nullable = true)\n",
      " |-- food_insecurity: double (nullable = true)\n",
      " |-- residential_segregation: double (nullable = true)\n",
      " |-- over_sixtyfives: double (nullable = true)\n",
      " |-- rural: double (nullable = true)\n",
      " |-- area: double (nullable = true)\n",
      " |-- population_density: double (nullable = true)\n",
      "\n"
     ]
    }
   ],
   "source": [
    "state_dim_df.printSchema()"
   ]
  },
  {
   "cell_type": "markdown",
   "metadata": {},
   "source": [
    "Null entries:"
   ]
  },
  {
   "cell_type": "code",
   "execution_count": 29,
   "metadata": {},
   "outputs": [
    {
     "name": "stdout",
     "output_type": "stream",
     "text": [
      "+-----+------------+----------+-----------+-------+-------+-------------------+------------------+---------+----------+------------+-------------+----------------+----------------------+---------------+-----------------------+---------------+-----+----+------------------+\n",
      "|state|abbreviation|population|poor_health|smokers|obesity|physical_inactivity|excessive_drinking|uninsured|physicians|unemployment|air_pollution|housing_problems|household_overcrowding|food_insecurity|residential_segregation|over_sixtyfives|rural|area|population_density|\n",
      "+-----+------------+----------+-----------+-------+-------+-------------------+------------------+---------+----------+------------+-------------+----------------+----------------------+---------------+-----------------------+---------------+-----+----+------------------+\n",
      "|    0|           0|         0|          0|      0|      0|                  0|                 0|        0|         0|           0|            2|               0|                    50|              0|                      0|              0|    0|   0|                 0|\n",
      "+-----+------------+----------+-----------+-------+-------+-------------------+------------------+---------+----------+------------+-------------+----------------+----------------------+---------------+-----------------------+---------------+-----+----+------------------+\n",
      "\n"
     ]
    }
   ],
   "source": [
    "state_dim_df.select([count(when(isnan(c) | col(c).isNull(), c)).alias(c) for c in state_dim_df.columns]).show()"
   ]
  },
  {
   "cell_type": "markdown",
   "metadata": {},
   "source": [
    "Only null entries are in the expected columns."
   ]
  },
  {
   "cell_type": "markdown",
   "metadata": {},
   "source": [
    "Non-negative numbers in numeric columns:"
   ]
  },
  {
   "cell_type": "code",
   "execution_count": 30,
   "metadata": {},
   "outputs": [
    {
     "name": "stdout",
     "output_type": "stream",
     "text": [
      "+-----+------------+----------+-----------+-------+-------+-------------------+------------------+---------+----------+------------+-------------+----------------+----------------------+---------------+-----------------------+---------------+-----+----+------------------+\n",
      "|state|abbreviation|population|poor_health|smokers|obesity|physical_inactivity|excessive_drinking|uninsured|physicians|unemployment|air_pollution|housing_problems|household_overcrowding|food_insecurity|residential_segregation|over_sixtyfives|rural|area|population_density|\n",
      "+-----+------------+----------+-----------+-------+-------+-------------------+------------------+---------+----------+------------+-------------+----------------+----------------------+---------------+-----------------------+---------------+-----+----+------------------+\n",
      "|    0|           0|         0|          0|      0|      0|                  0|                 0|        0|         0|           0|            0|               0|                     0|              0|                      0|              0|    0|   0|                 0|\n",
      "+-----+------------+----------+-----------+-------+-------+-------------------+------------------+---------+----------+------------+-------------+----------------+----------------------+---------------+-----------------------+---------------+-----+----+------------------+\n",
      "\n"
     ]
    }
   ],
   "source": [
    "state_dim_df.select([count(when(col(c).cast(\"float\").isNotNull() & (col(c) < 0), c)).alias(c) for c in state_dim_df.columns]).show()"
   ]
  },
  {
   "cell_type": "markdown",
   "metadata": {},
   "source": [
    "Foreign key existence between county and state dimension tables:"
   ]
  },
  {
   "cell_type": "code",
   "execution_count": 32,
   "metadata": {},
   "outputs": [
    {
     "name": "stdout",
     "output_type": "stream",
     "text": [
      "+-----------+-----+------------+\n",
      "|county_name|state|abbreviation|\n",
      "+-----------+-----+------------+\n",
      "|   Anderson|Texas|          TX|\n",
      "|    Andrews|Texas|          TX|\n",
      "|   Angelina|Texas|          TX|\n",
      "|    Aransas|Texas|          TX|\n",
      "|     Archer|Texas|          TX|\n",
      "+-----------+-----+------------+\n",
      "\n"
     ]
    }
   ],
   "source": [
    "combined_df = county_dim_df.join(state_dim_df, on=[\"state\"], how=\"inner\").select([\"county_name\", \"state\", \"abbreviation\"])\n",
    "combined_df.limit(5).show()"
   ]
  },
  {
   "cell_type": "code",
   "execution_count": 33,
   "metadata": {},
   "outputs": [
    {
     "name": "stdout",
     "output_type": "stream",
     "text": [
      "+------------+\n",
      "|abbreviation|\n",
      "+------------+\n",
      "|           0|\n",
      "+------------+\n",
      "\n"
     ]
    }
   ],
   "source": [
    "combined_df.select([count(when(isnan(c) | col(c).isNull(), c)).alias(c) for c in ['abbreviation']]).show()"
   ]
  },
  {
   "cell_type": "code",
   "execution_count": 34,
   "metadata": {},
   "outputs": [
    {
     "data": {
      "text/plain": [
       "3140"
      ]
     },
     "execution_count": 34,
     "metadata": {},
     "output_type": "execute_result"
    }
   ],
   "source": [
    "combined_df.count()"
   ]
  },
  {
   "cell_type": "markdown",
   "metadata": {},
   "source": [
    "Join successful, no missing rows and no null values in the joined column!"
   ]
  },
  {
   "cell_type": "markdown",
   "metadata": {},
   "source": [
    "##### County facts table\n",
    "Checks:\n",
    "* Existence and count\n",
    "* Unique composite keys (date + county)\n",
    "* Covid values are integer, weather values decimal\n",
    "* No null values\n",
    "* Numerics all non-negative\n",
    "* Foreign keys exist"
   ]
  },
  {
   "cell_type": "code",
   "execution_count": 35,
   "metadata": {},
   "outputs": [],
   "source": [
    "county_facts_df = load_county_facts_table(spark)"
   ]
  },
  {
   "cell_type": "markdown",
   "metadata": {},
   "source": [
    "Existence:"
   ]
  },
  {
   "cell_type": "code",
   "execution_count": 36,
   "metadata": {},
   "outputs": [
    {
     "name": "stdout",
     "output_type": "stream",
     "text": [
      "+----+----------+----------------+----------------+-----------------+-----------------+--------+--------+-----------+----+----------+\n",
      "|fips|     state|covid_case_total|covid_case_delta|covid_death_total|covid_death_delta|min_temp|max_temp|cloud_cover|wind| timestamp|\n",
      "+----+----------+----------------+----------------+-----------------+-----------------+--------+--------+-----------+----+----------+\n",
      "|1055|   Alabama|            6005|             100|               64|                0|    1.18|   15.19|       17.0|2.93|1606176000|\n",
      "|1097|   Alabama|           19446|             140|              360|                2|    3.75|   20.04|       17.0|3.29|1606176000|\n",
      "|5111|  Arkansas|            1602|              12|               39|                0|    2.77|   13.97|       20.0|1.41|1606176000|\n",
      "|6079|California|            5885|              74|               35|                0|    6.09|   15.35|       12.0|2.19|1606176000|\n",
      "|8059|  Colorado|           18369|             368|              425|                9|    -3.2|   13.77|       22.0|3.99|1606176000|\n",
      "+----+----------+----------------+----------------+-----------------+-----------------+--------+--------+-----------+----+----------+\n",
      "\n"
     ]
    }
   ],
   "source": [
    "county_facts_df.limit(5).show()"
   ]
  },
  {
   "cell_type": "markdown",
   "metadata": {},
   "source": [
    "Duplicates:"
   ]
  },
  {
   "cell_type": "code",
   "execution_count": 37,
   "metadata": {},
   "outputs": [
    {
     "data": {
      "text/plain": [
       "1266226"
      ]
     },
     "execution_count": 37,
     "metadata": {},
     "output_type": "execute_result"
    }
   ],
   "source": [
    "county_facts_df.count()"
   ]
  },
  {
   "cell_type": "code",
   "execution_count": 38,
   "metadata": {},
   "outputs": [
    {
     "data": {
      "text/plain": [
       "1266226"
      ]
     },
     "execution_count": 38,
     "metadata": {},
     "output_type": "execute_result"
    }
   ],
   "source": [
    "county_facts_df.dropDuplicates(['fips', 'timestamp']).count()"
   ]
  },
  {
   "cell_type": "markdown",
   "metadata": {},
   "source": [
    "Data types:"
   ]
  },
  {
   "cell_type": "code",
   "execution_count": 39,
   "metadata": {},
   "outputs": [
    {
     "name": "stdout",
     "output_type": "stream",
     "text": [
      "root\n",
      " |-- fips: long (nullable = true)\n",
      " |-- state: string (nullable = true)\n",
      " |-- covid_case_total: long (nullable = true)\n",
      " |-- covid_case_delta: long (nullable = true)\n",
      " |-- covid_death_total: long (nullable = true)\n",
      " |-- covid_death_delta: long (nullable = true)\n",
      " |-- min_temp: double (nullable = true)\n",
      " |-- max_temp: double (nullable = true)\n",
      " |-- cloud_cover: double (nullable = true)\n",
      " |-- wind: double (nullable = true)\n",
      " |-- timestamp: integer (nullable = true)\n",
      "\n"
     ]
    }
   ],
   "source": [
    "county_facts_df.printSchema()"
   ]
  },
  {
   "cell_type": "markdown",
   "metadata": {},
   "source": [
    "Null entries:"
   ]
  },
  {
   "cell_type": "code",
   "execution_count": 40,
   "metadata": {},
   "outputs": [
    {
     "name": "stdout",
     "output_type": "stream",
     "text": [
      "+----+-----+----------------+----------------+-----------------+-----------------+--------+--------+-----------+------+---------+\n",
      "|fips|state|covid_case_total|covid_case_delta|covid_death_total|covid_death_delta|min_temp|max_temp|cloud_cover|  wind|timestamp|\n",
      "+----+-----+----------------+----------------+-----------------+-----------------+--------+--------+-----------+------+---------+\n",
      "|   0|    0|               0|               0|                0|                0|  204568|  204568|     204568|204568|        0|\n",
      "+----+-----+----------------+----------------+-----------------+-----------------+--------+--------+-----------+------+---------+\n",
      "\n"
     ]
    }
   ],
   "source": [
    "county_facts_df.select([count(when(isnan(c) | col(c).isNull(), c)).alias(c) for c in county_facts_df.columns]).show()"
   ]
  },
  {
   "cell_type": "markdown",
   "metadata": {},
   "source": [
    "As expected, null values where we don't have weather data, but that's to be expected and needs to be accounted for in future queries."
   ]
  },
  {
   "cell_type": "markdown",
   "metadata": {},
   "source": [
    "Non-negative numerics:"
   ]
  },
  {
   "cell_type": "code",
   "execution_count": 41,
   "metadata": {},
   "outputs": [
    {
     "name": "stdout",
     "output_type": "stream",
     "text": [
      "+----+-----+----------------+----------------+-----------------+-----------------+--------+--------+-----------+----+---------+\n",
      "|fips|state|covid_case_total|covid_case_delta|covid_death_total|covid_death_delta|min_temp|max_temp|cloud_cover|wind|timestamp|\n",
      "+----+-----+----------------+----------------+-----------------+-----------------+--------+--------+-----------+----+---------+\n",
      "|   0|    0|               0|           15355|                0|             2759|  180475|   29290|         39|  39|        0|\n",
      "+----+-----+----------------+----------------+-----------------+-----------------+--------+--------+-----------+----+---------+\n",
      "\n"
     ]
    }
   ],
   "source": [
    "county_facts_df.select([count(when(col(c).cast(\"float\").isNotNull() & (col(c) < 0), c)).alias(c) for c in county_facts_df.columns]).show()"
   ]
  },
  {
   "cell_type": "markdown",
   "metadata": {},
   "source": [
    "It's unsurprising that some weather data would be negative numbers.\n",
    "\n",
    "We see some negative numbers in the delta columns which is to be expected; we know from previous steps that some of the data isn't quite reliable."
   ]
  },
  {
   "cell_type": "markdown",
   "metadata": {},
   "source": [
    "##### State facts table\n",
    "Checks:\n",
    "* Existence and count\n",
    "* Unique composite keys (date + state)\n",
    "* Values are integer and non-negative\n",
    "* Foreign keys exist"
   ]
  },
  {
   "cell_type": "code",
   "execution_count": 42,
   "metadata": {},
   "outputs": [],
   "source": [
    "state_facts_df = load_state_facts_table(spark)"
   ]
  },
  {
   "cell_type": "markdown",
   "metadata": {},
   "source": [
    "Existence:"
   ]
  },
  {
   "cell_type": "code",
   "execution_count": 43,
   "metadata": {},
   "outputs": [
    {
     "name": "stdout",
     "output_type": "stream",
     "text": [
      "+--------------------+----------------+----------------+-----------------+-----------------+----------+\n",
      "|               state|covid_case_total|covid_case_delta|covid_death_total|covid_death_delta| timestamp|\n",
      "+--------------------+----------------+----------------+-----------------+-----------------+----------+\n",
      "|      North Carolina|               0|               0|                0|                0|1580342400|\n",
      "|District of Columbia|               0|               0|                0|                0|1580342400|\n",
      "|          New Mexico|               0|               0|                0|                0|1583712000|\n",
      "|               Maine|               0|               0|                0|                0|1583712000|\n",
      "|District of Columbia|               0|               0|                0|                0|1583712000|\n",
      "+--------------------+----------------+----------------+-----------------+-----------------+----------+\n",
      "\n"
     ]
    }
   ],
   "source": [
    "state_facts_df.limit(5).show()"
   ]
  },
  {
   "cell_type": "markdown",
   "metadata": {},
   "source": [
    "Duplicates:"
   ]
  },
  {
   "cell_type": "code",
   "execution_count": 44,
   "metadata": {},
   "outputs": [
    {
     "data": {
      "text/plain": [
       "20553"
      ]
     },
     "execution_count": 44,
     "metadata": {},
     "output_type": "execute_result"
    }
   ],
   "source": [
    "state_facts_df.count()"
   ]
  },
  {
   "cell_type": "code",
   "execution_count": 46,
   "metadata": {},
   "outputs": [
    {
     "data": {
      "text/plain": [
       "20553"
      ]
     },
     "execution_count": 46,
     "metadata": {},
     "output_type": "execute_result"
    }
   ],
   "source": [
    "state_facts_df.dropDuplicates(['state', 'timestamp']).count()"
   ]
  },
  {
   "cell_type": "markdown",
   "metadata": {},
   "source": [
    "Data types:"
   ]
  },
  {
   "cell_type": "code",
   "execution_count": 47,
   "metadata": {},
   "outputs": [
    {
     "name": "stdout",
     "output_type": "stream",
     "text": [
      "root\n",
      " |-- state: string (nullable = true)\n",
      " |-- covid_case_total: long (nullable = true)\n",
      " |-- covid_case_delta: long (nullable = true)\n",
      " |-- covid_death_total: long (nullable = true)\n",
      " |-- covid_death_delta: long (nullable = true)\n",
      " |-- timestamp: integer (nullable = true)\n",
      "\n"
     ]
    }
   ],
   "source": [
    "state_facts_df.printSchema()"
   ]
  },
  {
   "cell_type": "markdown",
   "metadata": {},
   "source": [
    "Null entries:"
   ]
  },
  {
   "cell_type": "code",
   "execution_count": 48,
   "metadata": {},
   "outputs": [
    {
     "name": "stdout",
     "output_type": "stream",
     "text": [
      "+-----+----------------+----------------+-----------------+-----------------+---------+\n",
      "|state|covid_case_total|covid_case_delta|covid_death_total|covid_death_delta|timestamp|\n",
      "+-----+----------------+----------------+-----------------+-----------------+---------+\n",
      "|    0|               0|               0|                0|                0|        0|\n",
      "+-----+----------------+----------------+-----------------+-----------------+---------+\n",
      "\n"
     ]
    }
   ],
   "source": [
    "state_facts_df.select([count(when(isnan(c) | col(c).isNull(), c)).alias(c) for c in state_facts_df.columns]).show()"
   ]
  },
  {
   "cell_type": "markdown",
   "metadata": {},
   "source": [
    "Non-negative numerics:"
   ]
  },
  {
   "cell_type": "code",
   "execution_count": 49,
   "metadata": {},
   "outputs": [
    {
     "name": "stdout",
     "output_type": "stream",
     "text": [
      "+-----+----------------+----------------+-----------------+-----------------+---------+\n",
      "|state|covid_case_total|covid_case_delta|covid_death_total|covid_death_delta|timestamp|\n",
      "+-----+----------------+----------------+-----------------+-----------------+---------+\n",
      "|    0|               0|              31|                0|               75|        0|\n",
      "+-----+----------------+----------------+-----------------+-----------------+---------+\n",
      "\n"
     ]
    }
   ],
   "source": [
    "state_facts_df.select([count(when(col(c).cast(\"float\").isNotNull() & (col(c) < 0), c)).alias(c) for c in state_facts_df.columns]).show()"
   ]
  },
  {
   "cell_type": "markdown",
   "metadata": {},
   "source": [
    "We see some negative numbers in the delta columns which is to be expected; we know from previous steps that some of the data isn't quite reliable."
   ]
  }
 ],
 "metadata": {
  "kernelspec": {
   "display_name": "Python 3",
   "language": "python",
   "name": "python3"
  },
  "language_info": {
   "codemirror_mode": {
    "name": "ipython",
    "version": 3
   },
   "file_extension": ".py",
   "mimetype": "text/x-python",
   "name": "python",
   "nbconvert_exporter": "python",
   "pygments_lexer": "ipython3",
   "version": "3.8.5"
  }
 },
 "nbformat": 4,
 "nbformat_minor": 4
}
