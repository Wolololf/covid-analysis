{
 "cells": [
  {
   "cell_type": "markdown",
   "metadata": {},
   "source": [
    "### Step 7: Data dictionary\n",
    "#### Date dimension table\n",
    "* SomeValue (value type): Description  \n",
    "Data source\n",
    "* SomeValue (value type): Description  \n",
    "Data source\n",
    "\n",
    "#### County dimension table\n",
    "* SomeValue (value type): Description  \n",
    "Data source\n",
    "* SomeValue (value type): Description  \n",
    "Data source\n",
    "\n",
    "#### State dimension table\n",
    "* SomeValue (value type): Description  \n",
    "Data source\n",
    "* SomeValue (value type): Description  \n",
    "Data source\n",
    "\n",
    "#### CountyTimeSeries facts table\n",
    "* SomeValue (value type): Description  \n",
    "Data source\n",
    "* SomeValue (value type): Description  \n",
    "Data source\n",
    "\n",
    "#### StateTimeSeries facts table\n",
    "* SomeValue (value type): Description  \n",
    "Data source\n",
    "* SomeValue (value type): Description  \n",
    "Data source"
   ]
  }
 ],
 "metadata": {
  "kernelspec": {
   "display_name": "branch-env",
   "language": "python",
   "name": "branch-env"
  },
  "language_info": {
   "codemirror_mode": {
    "name": "ipython",
    "version": 3
   },
   "file_extension": ".py",
   "mimetype": "text/x-python",
   "name": "python",
   "nbconvert_exporter": "python",
   "pygments_lexer": "ipython3",
   "version": "3.8.5"
  }
 },
 "nbformat": 4,
 "nbformat_minor": 4
}
